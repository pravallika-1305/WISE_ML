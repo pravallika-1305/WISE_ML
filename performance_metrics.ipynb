{
  "nbformat": 4,
  "nbformat_minor": 0,
  "metadata": {
    "colab": {
      "name": "performance_metrics.ipynb",
      "provenance": [],
      "authorship_tag": "ABX9TyO3f8SGijANlpweSgwljdqG",
      "include_colab_link": true
    },
    "kernelspec": {
      "name": "python3",
      "display_name": "Python 3"
    },
    "language_info": {
      "name": "python"
    }
  },
  "cells": [
    {
      "cell_type": "markdown",
      "metadata": {
        "id": "view-in-github",
        "colab_type": "text"
      },
      "source": [
        "<a href=\"https://colab.research.google.com/github/pravallika-1305/WISE_ML/blob/main/performance_metrics.ipynb\" target=\"_parent\"><img src=\"https://colab.research.google.com/assets/colab-badge.svg\" alt=\"Open In Colab\"/></a>"
      ]
    },
    {
      "cell_type": "code",
      "metadata": {
        "id": "DYxASVS-77uV"
      },
      "source": [
        "import pandas as pd\n",
        "from sklearn.model_selection import KFold, cross_val_score\n",
        "from sklearn.metrics import accuracy_score, confusion_matrix, classification_report, roc_auc_score, roc_curve"
      ],
      "execution_count": 23,
      "outputs": []
    },
    {
      "cell_type": "code",
      "metadata": {
        "id": "Z6yoiMEo9sLt"
      },
      "source": [
        "\n",
        "import matplotlib.pyplot as plt\n",
        "import seaborn as sns\n",
        "%matplotlib inline"
      ],
      "execution_count": 12,
      "outputs": []
    },
    {
      "cell_type": "code",
      "metadata": {
        "colab": {
          "base_uri": "https://localhost:8080/"
        },
        "id": "foI-oUVe8ENj",
        "outputId": "907d63ed-d571-492d-aed0-b343dbbe414b"
      },
      "source": [
        "from google.colab import drive\n",
        "drive.mount('/content/drive')"
      ],
      "execution_count": 13,
      "outputs": [
        {
          "output_type": "stream",
          "text": [
            "Drive already mounted at /content/drive; to attempt to forcibly remount, call drive.mount(\"/content/drive\", force_remount=True).\n"
          ],
          "name": "stdout"
        }
      ]
    },
    {
      "cell_type": "code",
      "metadata": {
        "id": "Oou0OIQo8itl"
      },
      "source": [
        "df = pd.read_csv('/content/drive/My Drive/Data/Wine.csv', names = ['class','Alcohol','MalicAcid','Ash','AshAlcalinity','Magnesium','Phenol','Flavanoid','NonFlavanoid','Proanthocyanins','ColorIntensity','Hue','DilutedWines','Proline'])"
      ],
      "execution_count": 134,
      "outputs": []
    },
    {
      "cell_type": "code",
      "metadata": {
        "colab": {
          "base_uri": "https://localhost:8080/",
          "height": 195
        },
        "id": "nyod5CkT9p0C",
        "outputId": "7c424fb0-f600-4b63-a9ce-22a9a1892708"
      },
      "source": [
        "df.head()"
      ],
      "execution_count": 135,
      "outputs": [
        {
          "output_type": "execute_result",
          "data": {
            "text/html": [
              "<div>\n",
              "<style scoped>\n",
              "    .dataframe tbody tr th:only-of-type {\n",
              "        vertical-align: middle;\n",
              "    }\n",
              "\n",
              "    .dataframe tbody tr th {\n",
              "        vertical-align: top;\n",
              "    }\n",
              "\n",
              "    .dataframe thead th {\n",
              "        text-align: right;\n",
              "    }\n",
              "</style>\n",
              "<table border=\"1\" class=\"dataframe\">\n",
              "  <thead>\n",
              "    <tr style=\"text-align: right;\">\n",
              "      <th></th>\n",
              "      <th>class</th>\n",
              "      <th>Alcohol</th>\n",
              "      <th>MalicAcid</th>\n",
              "      <th>Ash</th>\n",
              "      <th>AshAlcalinity</th>\n",
              "      <th>Magnesium</th>\n",
              "      <th>Phenol</th>\n",
              "      <th>Flavanoid</th>\n",
              "      <th>NonFlavanoid</th>\n",
              "      <th>Proanthocyanins</th>\n",
              "      <th>ColorIntensity</th>\n",
              "      <th>Hue</th>\n",
              "      <th>DilutedWines</th>\n",
              "      <th>Proline</th>\n",
              "    </tr>\n",
              "  </thead>\n",
              "  <tbody>\n",
              "    <tr>\n",
              "      <th>0</th>\n",
              "      <td>1</td>\n",
              "      <td>14.23</td>\n",
              "      <td>1.71</td>\n",
              "      <td>2.43</td>\n",
              "      <td>15.6</td>\n",
              "      <td>127</td>\n",
              "      <td>2.80</td>\n",
              "      <td>3.06</td>\n",
              "      <td>0.28</td>\n",
              "      <td>2.29</td>\n",
              "      <td>5.64</td>\n",
              "      <td>1.04</td>\n",
              "      <td>3.92</td>\n",
              "      <td>1065</td>\n",
              "    </tr>\n",
              "    <tr>\n",
              "      <th>1</th>\n",
              "      <td>1</td>\n",
              "      <td>13.20</td>\n",
              "      <td>1.78</td>\n",
              "      <td>2.14</td>\n",
              "      <td>11.2</td>\n",
              "      <td>100</td>\n",
              "      <td>2.65</td>\n",
              "      <td>2.76</td>\n",
              "      <td>0.26</td>\n",
              "      <td>1.28</td>\n",
              "      <td>4.38</td>\n",
              "      <td>1.05</td>\n",
              "      <td>3.40</td>\n",
              "      <td>1050</td>\n",
              "    </tr>\n",
              "    <tr>\n",
              "      <th>2</th>\n",
              "      <td>1</td>\n",
              "      <td>13.16</td>\n",
              "      <td>2.36</td>\n",
              "      <td>2.67</td>\n",
              "      <td>18.6</td>\n",
              "      <td>101</td>\n",
              "      <td>2.80</td>\n",
              "      <td>3.24</td>\n",
              "      <td>0.30</td>\n",
              "      <td>2.81</td>\n",
              "      <td>5.68</td>\n",
              "      <td>1.03</td>\n",
              "      <td>3.17</td>\n",
              "      <td>1185</td>\n",
              "    </tr>\n",
              "    <tr>\n",
              "      <th>3</th>\n",
              "      <td>1</td>\n",
              "      <td>14.37</td>\n",
              "      <td>1.95</td>\n",
              "      <td>2.50</td>\n",
              "      <td>16.8</td>\n",
              "      <td>113</td>\n",
              "      <td>3.85</td>\n",
              "      <td>3.49</td>\n",
              "      <td>0.24</td>\n",
              "      <td>2.18</td>\n",
              "      <td>7.80</td>\n",
              "      <td>0.86</td>\n",
              "      <td>3.45</td>\n",
              "      <td>1480</td>\n",
              "    </tr>\n",
              "    <tr>\n",
              "      <th>4</th>\n",
              "      <td>1</td>\n",
              "      <td>13.24</td>\n",
              "      <td>2.59</td>\n",
              "      <td>2.87</td>\n",
              "      <td>21.0</td>\n",
              "      <td>118</td>\n",
              "      <td>2.80</td>\n",
              "      <td>2.69</td>\n",
              "      <td>0.39</td>\n",
              "      <td>1.82</td>\n",
              "      <td>4.32</td>\n",
              "      <td>1.04</td>\n",
              "      <td>2.93</td>\n",
              "      <td>735</td>\n",
              "    </tr>\n",
              "  </tbody>\n",
              "</table>\n",
              "</div>"
            ],
            "text/plain": [
              "   class  Alcohol  MalicAcid   Ash  ...  ColorIntensity   Hue  DilutedWines  Proline\n",
              "0      1    14.23       1.71  2.43  ...            5.64  1.04          3.92     1065\n",
              "1      1    13.20       1.78  2.14  ...            4.38  1.05          3.40     1050\n",
              "2      1    13.16       2.36  2.67  ...            5.68  1.03          3.17     1185\n",
              "3      1    14.37       1.95  2.50  ...            7.80  0.86          3.45     1480\n",
              "4      1    13.24       2.59  2.87  ...            4.32  1.04          2.93      735\n",
              "\n",
              "[5 rows x 14 columns]"
            ]
          },
          "metadata": {
            "tags": []
          },
          "execution_count": 135
        }
      ]
    },
    {
      "cell_type": "code",
      "metadata": {
        "colab": {
          "base_uri": "https://localhost:8080/"
        },
        "id": "BLQOns4YHe22",
        "outputId": "3f4660a7-11c8-408c-c98d-a73f5403367b"
      },
      "source": [
        "df['class'].unique()"
      ],
      "execution_count": 136,
      "outputs": [
        {
          "output_type": "execute_result",
          "data": {
            "text/plain": [
              "array([1, 2, 3])"
            ]
          },
          "metadata": {
            "tags": []
          },
          "execution_count": 136
        }
      ]
    },
    {
      "cell_type": "code",
      "metadata": {
        "id": "dr6x40gWA9IH"
      },
      "source": [
        "X = df.iloc[:,1:]\n",
        "y = df.iloc[:,0]"
      ],
      "execution_count": 137,
      "outputs": []
    },
    {
      "cell_type": "code",
      "metadata": {
        "colab": {
          "base_uri": "https://localhost:8080/",
          "height": 195
        },
        "id": "LcP7jMIsBOOh",
        "outputId": "64fcd746-0565-4089-f6fa-4a1e03a4e851"
      },
      "source": [
        "X.head()"
      ],
      "execution_count": 138,
      "outputs": [
        {
          "output_type": "execute_result",
          "data": {
            "text/html": [
              "<div>\n",
              "<style scoped>\n",
              "    .dataframe tbody tr th:only-of-type {\n",
              "        vertical-align: middle;\n",
              "    }\n",
              "\n",
              "    .dataframe tbody tr th {\n",
              "        vertical-align: top;\n",
              "    }\n",
              "\n",
              "    .dataframe thead th {\n",
              "        text-align: right;\n",
              "    }\n",
              "</style>\n",
              "<table border=\"1\" class=\"dataframe\">\n",
              "  <thead>\n",
              "    <tr style=\"text-align: right;\">\n",
              "      <th></th>\n",
              "      <th>Alcohol</th>\n",
              "      <th>MalicAcid</th>\n",
              "      <th>Ash</th>\n",
              "      <th>AshAlcalinity</th>\n",
              "      <th>Magnesium</th>\n",
              "      <th>Phenol</th>\n",
              "      <th>Flavanoid</th>\n",
              "      <th>NonFlavanoid</th>\n",
              "      <th>Proanthocyanins</th>\n",
              "      <th>ColorIntensity</th>\n",
              "      <th>Hue</th>\n",
              "      <th>DilutedWines</th>\n",
              "      <th>Proline</th>\n",
              "    </tr>\n",
              "  </thead>\n",
              "  <tbody>\n",
              "    <tr>\n",
              "      <th>0</th>\n",
              "      <td>14.23</td>\n",
              "      <td>1.71</td>\n",
              "      <td>2.43</td>\n",
              "      <td>15.6</td>\n",
              "      <td>127</td>\n",
              "      <td>2.80</td>\n",
              "      <td>3.06</td>\n",
              "      <td>0.28</td>\n",
              "      <td>2.29</td>\n",
              "      <td>5.64</td>\n",
              "      <td>1.04</td>\n",
              "      <td>3.92</td>\n",
              "      <td>1065</td>\n",
              "    </tr>\n",
              "    <tr>\n",
              "      <th>1</th>\n",
              "      <td>13.20</td>\n",
              "      <td>1.78</td>\n",
              "      <td>2.14</td>\n",
              "      <td>11.2</td>\n",
              "      <td>100</td>\n",
              "      <td>2.65</td>\n",
              "      <td>2.76</td>\n",
              "      <td>0.26</td>\n",
              "      <td>1.28</td>\n",
              "      <td>4.38</td>\n",
              "      <td>1.05</td>\n",
              "      <td>3.40</td>\n",
              "      <td>1050</td>\n",
              "    </tr>\n",
              "    <tr>\n",
              "      <th>2</th>\n",
              "      <td>13.16</td>\n",
              "      <td>2.36</td>\n",
              "      <td>2.67</td>\n",
              "      <td>18.6</td>\n",
              "      <td>101</td>\n",
              "      <td>2.80</td>\n",
              "      <td>3.24</td>\n",
              "      <td>0.30</td>\n",
              "      <td>2.81</td>\n",
              "      <td>5.68</td>\n",
              "      <td>1.03</td>\n",
              "      <td>3.17</td>\n",
              "      <td>1185</td>\n",
              "    </tr>\n",
              "    <tr>\n",
              "      <th>3</th>\n",
              "      <td>14.37</td>\n",
              "      <td>1.95</td>\n",
              "      <td>2.50</td>\n",
              "      <td>16.8</td>\n",
              "      <td>113</td>\n",
              "      <td>3.85</td>\n",
              "      <td>3.49</td>\n",
              "      <td>0.24</td>\n",
              "      <td>2.18</td>\n",
              "      <td>7.80</td>\n",
              "      <td>0.86</td>\n",
              "      <td>3.45</td>\n",
              "      <td>1480</td>\n",
              "    </tr>\n",
              "    <tr>\n",
              "      <th>4</th>\n",
              "      <td>13.24</td>\n",
              "      <td>2.59</td>\n",
              "      <td>2.87</td>\n",
              "      <td>21.0</td>\n",
              "      <td>118</td>\n",
              "      <td>2.80</td>\n",
              "      <td>2.69</td>\n",
              "      <td>0.39</td>\n",
              "      <td>1.82</td>\n",
              "      <td>4.32</td>\n",
              "      <td>1.04</td>\n",
              "      <td>2.93</td>\n",
              "      <td>735</td>\n",
              "    </tr>\n",
              "  </tbody>\n",
              "</table>\n",
              "</div>"
            ],
            "text/plain": [
              "   Alcohol  MalicAcid   Ash  ...   Hue  DilutedWines  Proline\n",
              "0    14.23       1.71  2.43  ...  1.04          3.92     1065\n",
              "1    13.20       1.78  2.14  ...  1.05          3.40     1050\n",
              "2    13.16       2.36  2.67  ...  1.03          3.17     1185\n",
              "3    14.37       1.95  2.50  ...  0.86          3.45     1480\n",
              "4    13.24       2.59  2.87  ...  1.04          2.93      735\n",
              "\n",
              "[5 rows x 13 columns]"
            ]
          },
          "metadata": {
            "tags": []
          },
          "execution_count": 138
        }
      ]
    },
    {
      "cell_type": "code",
      "metadata": {
        "id": "aQ2-60TxBDjp"
      },
      "source": [
        "from sklearn.model_selection import train_test_split\n",
        "X_train, X_test, y_train, y_test = train_test_split(X, y, test_size = 0.2, random_state = 42)"
      ],
      "execution_count": 139,
      "outputs": []
    },
    {
      "cell_type": "code",
      "metadata": {
        "id": "UjkvhRa7B0_o"
      },
      "source": [
        "# Spot-Check Algorithms (Classification)\n",
        "from sklearn.linear_model import LogisticRegression\n",
        "from sklearn.naive_bayes import GaussianNB\n",
        "from sklearn.discriminant_analysis import LinearDiscriminantAnalysis\n",
        "from sklearn.svm import SVC\n",
        "from sklearn.neighbors import KNeighborsClassifier\n",
        "from sklearn.tree import DecisionTreeClassifier\n",
        "\n",
        "# Spot-Check Ensemble Models (Classification)\n",
        "from sklearn.ensemble import RandomForestClassifier, GradientBoostingClassifier, ExtraTreesClassifier, AdaBoostClassifier\n",
        "from xgboost.sklearn import XGBClassifier"
      ],
      "execution_count": 140,
      "outputs": []
    },
    {
      "cell_type": "markdown",
      "metadata": {
        "id": "hEQv9TvIOkIQ"
      },
      "source": [
        "## **K-Fold Cross validation**"
      ]
    },
    {
      "cell_type": "code",
      "metadata": {
        "id": "L0K-ZMbb9vmH"
      },
      "source": [
        "models = []\n",
        "models.append(('LDA', LinearDiscriminantAnalysis()))\n",
        "models.append(('NB', GaussianNB()))\n",
        "models.append(('KNN', KNeighborsClassifier()))\n",
        "models.append(('CART', DecisionTreeClassifier()))\n",
        "models.append(('SVM', SVC()))\n",
        "\n",
        "models.append(('AB', AdaBoostClassifier()))\n",
        "models.append(('GBM', GradientBoostingClassifier()))\n",
        "models.append(('ET', ExtraTreesClassifier()))\n",
        "models.append(('RF', RandomForestClassifier()))\n",
        "models.append(('XGB',XGBClassifier()))\n",
        "\n",
        "# evaluate each model in turn\n",
        "num_folds = 10\n",
        "seed = 10\n",
        "results = {}\n",
        "accuracy = {}\n",
        "for name, model in models:\n",
        "    kfold = KFold(n_splits=num_folds, random_state=seed, shuffle=True)\n",
        "    cv_results = cross_val_score(model, X_train, y_train, cv=kfold, scoring='accuracy')\n",
        "    results[name] = (cv_results.mean(), cv_results.std())\n",
        "    model.fit(X_train, y_train)\n",
        "    pred = model.predict(X_test)\n",
        "    accuracy[name] = accuracy_score(y_test, pred)"
      ],
      "execution_count": 141,
      "outputs": []
    },
    {
      "cell_type": "code",
      "metadata": {
        "colab": {
          "base_uri": "https://localhost:8080/"
        },
        "id": "jruQmC1JCbY3",
        "outputId": "2c961609-cbc1-47b7-fdb6-670018999af4"
      },
      "source": [
        "results"
      ],
      "execution_count": 142,
      "outputs": [
        {
          "output_type": "execute_result",
          "data": {
            "text/plain": [
              "{'AB': (0.9223809523809525, 0.08123340577097535),\n",
              " 'CART': (0.9504761904761905, 0.045535364144312085),\n",
              " 'ET': (0.9723809523809525, 0.04511512107553146),\n",
              " 'GBM': (0.9371428571428572, 0.066284619585925),\n",
              " 'KNN': (0.6561904761904762, 0.09262608615684187),\n",
              " 'LDA': (0.9719047619047618, 0.046969377779353144),\n",
              " 'NB': (0.9647619047619047, 0.04758093713065447),\n",
              " 'RF': (0.9790476190476192, 0.032028898515809964),\n",
              " 'SVM': (0.6285714285714286, 0.11959872438819508),\n",
              " 'XGB': (0.9438095238095239, 0.04258112172592031)}"
            ]
          },
          "metadata": {
            "tags": []
          },
          "execution_count": 142
        }
      ]
    },
    {
      "cell_type": "code",
      "metadata": {
        "colab": {
          "base_uri": "https://localhost:8080/"
        },
        "id": "20Cz5qqiDiaN",
        "outputId": "6a2ac158-bcd4-46cd-e2ac-b22d041b1803"
      },
      "source": [
        "accuracy"
      ],
      "execution_count": 143,
      "outputs": [
        {
          "output_type": "execute_result",
          "data": {
            "text/plain": [
              "{'AB': 0.9166666666666666,\n",
              " 'CART': 0.9444444444444444,\n",
              " 'ET': 0.9722222222222222,\n",
              " 'GBM': 0.9444444444444444,\n",
              " 'KNN': 0.7222222222222222,\n",
              " 'LDA': 1.0,\n",
              " 'NB': 1.0,\n",
              " 'RF': 1.0,\n",
              " 'SVM': 0.8055555555555556,\n",
              " 'XGB': 0.9722222222222222}"
            ]
          },
          "metadata": {
            "tags": []
          },
          "execution_count": 143
        }
      ]
    },
    {
      "cell_type": "markdown",
      "metadata": {
        "id": "3ek5z503OyxT"
      },
      "source": [
        "## **Confusion Matrix**"
      ]
    },
    {
      "cell_type": "code",
      "metadata": {
        "colab": {
          "base_uri": "https://localhost:8080/",
          "height": 454
        },
        "id": "iA0bR2eUFhDo",
        "outputId": "388b8e0a-4f30-421e-ea6d-d4bc05e65a3d"
      },
      "source": [
        "model = ExtraTreesClassifier(random_state=seed)\n",
        "\n",
        "model.fit(X_train, y_train) \n",
        "y_predict = model.predict(X_test)\n",
        "pred_prob = model.predict_proba(X_test)\n",
        "\n",
        "print(classification_report(y_test, y_predict))\n",
        "#diagonals are TPs of a class\n",
        "#sum of class row cells is FNs\n",
        "#sum of class col cells is FPs\n",
        "#TNs of a class are all cells sum except the class col & row\n",
        "#total test_examples = TP + FN\n",
        "#Precision is defined as The ratio of correct positive predictions to the total predicted positives.(TP / TP + FP)\n",
        "#Recall is defined as The ratio of correct positive predictions to the total positives examples.(TP / TP + FN)\n",
        "#Specificity is defined as the ratio of correct negative predictions to the total negative examples. (TN / TN + FP )\n",
        "#Accuracy is defined as the ratio of correctly predicted examples by the total examples. (TP + TN / TP + TN + FP + FN)\n",
        "# F1 score is 2 * (precison * recall / precision + recall), to overcome the tradeoff between precision and recall.\n",
        "cm= confusion_matrix(y_test, y_predict)\n",
        "sns.heatmap(cm, annot=True,cmap=\"Blues\")"
      ],
      "execution_count": 144,
      "outputs": [
        {
          "output_type": "stream",
          "text": [
            "              precision    recall  f1-score   support\n",
            "\n",
            "           1       1.00      1.00      1.00        14\n",
            "           2       1.00      1.00      1.00        14\n",
            "           3       1.00      1.00      1.00         8\n",
            "\n",
            "    accuracy                           1.00        36\n",
            "   macro avg       1.00      1.00      1.00        36\n",
            "weighted avg       1.00      1.00      1.00        36\n",
            "\n"
          ],
          "name": "stdout"
        },
        {
          "output_type": "execute_result",
          "data": {
            "text/plain": [
              "<matplotlib.axes._subplots.AxesSubplot at 0x7f4ccaae0490>"
            ]
          },
          "metadata": {
            "tags": []
          },
          "execution_count": 144
        },
        {
          "output_type": "display_data",
          "data": {
            "image/png": "[encoded data removed]",
            "text/plain": [
              "<Figure size 432x288 with 2 Axes>"
            ]
          },
          "metadata": {
            "tags": [],
            "needs_background": "light"
          }
        }
      ]
    },
    {
      "cell_type": "code",
      "metadata": {
        "colab": {
          "base_uri": "https://localhost:8080/",
          "height": 329
        },
        "id": "a_VRMkGmHQIF",
        "outputId": "7189c88a-1f0b-4f2f-940d-a2d7a68c25b1"
      },
      "source": [
        "fpr = {}\n",
        "tpr = {}\n",
        "thresh ={}\n",
        "\n",
        "n_class = 3\n",
        "roc = {}\n",
        "\n",
        "    \n",
        "for i in range(len(df['class'].unique())):  \n",
        "    fpr[i], tpr[i], thresh[i] = roc_curve(y_test, pred_prob[:,i], pos_label=i)\n",
        "\n",
        "    \n",
        "# plotting    \n",
        "plt.plot(fpr[0], tpr[0], linestyle='--',color='orange', label='Class 1 vs Rest')\n",
        "plt.plot(fpr[1], tpr[1], linestyle='--',color='green', label='Class 2 vs Rest')\n",
        "plt.plot(fpr[2], tpr[2], linestyle='--',color='blue', label='Class 3 vs Rest')\n",
        "plt.title('Multiclass ROC curve')\n",
        "plt.xlabel('False Positive Rate')\n",
        "plt.ylabel('True Positive rate')\n",
        "plt.legend(loc='best')\n",
        "plt.savefig('Multiclass ROC',dpi=300);  "
      ],
      "execution_count": 156,
      "outputs": [
        {
          "output_type": "stream",
          "text": [
            "/usr/local/lib/python3.7/dist-packages/sklearn/metrics/_ranking.py:808: UndefinedMetricWarning: No positive samples in y_true, true positive value should be meaningless\n",
            "  UndefinedMetricWarning)\n"
          ],
          "name": "stderr"
        },
        {
          "output_type": "display_data",
          "data": {
            "image/png": "[encoded data removed]",
            "text/plain": [
              "<Figure size 432x288 with 1 Axes>"
            ]
          },
          "metadata": {
            "tags": [],
            "needs_background": "light"
          }
        }
      ]
    },
    {
      "cell_type": "code",
      "metadata": {
        "id": "GC1xJZRLRLAY"
      },
      "source": [
        ""
      ],
      "execution_count": 72,
      "outputs": []
    }
  ]
}