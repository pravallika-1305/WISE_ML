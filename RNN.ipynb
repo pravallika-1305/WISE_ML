{
  "nbformat": 4,
  "nbformat_minor": 0,
  "metadata": {
    "colab": {
      "name": "RNN.ipynb",
      "provenance": [],
      "authorship_tag": "ABX9TyMNM6ed4ZhvQXpw0vUzIpTC",
      "include_colab_link": true
    },
    "kernelspec": {
      "name": "python3",
      "display_name": "Python 3"
    },
    "language_info": {
      "name": "python"
    },
    "accelerator": "TPU"
  },
  "cells": [
    {
      "cell_type": "markdown",
      "metadata": {
        "id": "view-in-github",
        "colab_type": "text"
      },
      "source": [
        "<a href=\"https://colab.research.google.com/github/pravallika-1305/WISE_ML/blob/main/RNN.ipynb\" target=\"_parent\"><img src=\"https://colab.research.google.com/assets/colab-badge.svg\" alt=\"Open In Colab\"/></a>"
      ]
    },
    {
      "cell_type": "code",
      "metadata": {
        "id": "sl3ZIXACyJcC"
      },
      "source": [
        "import numpy as np # linear algebra\n",
        "import pandas as pd # data processing, CSV file I/O (e.g. pd.read_csv)\n",
        "import matplotlib.pyplot as plt"
      ],
      "execution_count": 1,
      "outputs": []
    },
    {
      "cell_type": "code",
      "metadata": {
        "colab": {
          "base_uri": "https://localhost:8080/"
        },
        "id": "gqhLKwY7ynhh",
        "outputId": "38ba04cb-c0c6-4c29-880d-59140d71a9a5"
      },
      "source": [
        "from google.colab import drive\n",
        "drive.mount('/content/drive')"
      ],
      "execution_count": 2,
      "outputs": [
        {
          "output_type": "stream",
          "text": [
            "Mounted at /content/drive\n"
          ],
          "name": "stdout"
        }
      ]
    },
    {
      "cell_type": "code",
      "metadata": {
        "id": "IbCyk2BJyaCB"
      },
      "source": [
        "train_data = pd.read_csv('/content/drive/My Drive/Data/Google_Stock_Price_Train.csv')"
      ],
      "execution_count": 3,
      "outputs": []
    },
    {
      "cell_type": "code",
      "metadata": {
        "colab": {
          "base_uri": "https://localhost:8080/",
          "height": 195
        },
        "id": "Eho9Vr_rywNz",
        "outputId": "a6d1d4a6-0ae8-42fd-b580-ec84dde807c1"
      },
      "source": [
        "train_data.head()"
      ],
      "execution_count": 4,
      "outputs": [
        {
          "output_type": "execute_result",
          "data": {
            "text/html": [
              "<div>\n",
              "<style scoped>\n",
              "    .dataframe tbody tr th:only-of-type {\n",
              "        vertical-align: middle;\n",
              "    }\n",
              "\n",
              "    .dataframe tbody tr th {\n",
              "        vertical-align: top;\n",
              "    }\n",
              "\n",
              "    .dataframe thead th {\n",
              "        text-align: right;\n",
              "    }\n",
              "</style>\n",
              "<table border=\"1\" class=\"dataframe\">\n",
              "  <thead>\n",
              "    <tr style=\"text-align: right;\">\n",
              "      <th></th>\n",
              "      <th>Date</th>\n",
              "      <th>Open</th>\n",
              "      <th>High</th>\n",
              "      <th>Low</th>\n",
              "      <th>Close</th>\n",
              "      <th>Volume</th>\n",
              "    </tr>\n",
              "  </thead>\n",
              "  <tbody>\n",
              "    <tr>\n",
              "      <th>0</th>\n",
              "      <td>1/3/2012</td>\n",
              "      <td>325.25</td>\n",
              "      <td>332.83</td>\n",
              "      <td>324.97</td>\n",
              "      <td>663.59</td>\n",
              "      <td>7,380,500</td>\n",
              "    </tr>\n",
              "    <tr>\n",
              "      <th>1</th>\n",
              "      <td>1/4/2012</td>\n",
              "      <td>331.27</td>\n",
              "      <td>333.87</td>\n",
              "      <td>329.08</td>\n",
              "      <td>666.45</td>\n",
              "      <td>5,749,400</td>\n",
              "    </tr>\n",
              "    <tr>\n",
              "      <th>2</th>\n",
              "      <td>1/5/2012</td>\n",
              "      <td>329.83</td>\n",
              "      <td>330.75</td>\n",
              "      <td>326.89</td>\n",
              "      <td>657.21</td>\n",
              "      <td>6,590,300</td>\n",
              "    </tr>\n",
              "    <tr>\n",
              "      <th>3</th>\n",
              "      <td>1/6/2012</td>\n",
              "      <td>328.34</td>\n",
              "      <td>328.77</td>\n",
              "      <td>323.68</td>\n",
              "      <td>648.24</td>\n",
              "      <td>5,405,900</td>\n",
              "    </tr>\n",
              "    <tr>\n",
              "      <th>4</th>\n",
              "      <td>1/9/2012</td>\n",
              "      <td>322.04</td>\n",
              "      <td>322.29</td>\n",
              "      <td>309.46</td>\n",
              "      <td>620.76</td>\n",
              "      <td>11,688,800</td>\n",
              "    </tr>\n",
              "  </tbody>\n",
              "</table>\n",
              "</div>"
            ],
            "text/plain": [
              "       Date    Open    High     Low   Close      Volume\n",
              "0  1/3/2012  325.25  332.83  324.97  663.59   7,380,500\n",
              "1  1/4/2012  331.27  333.87  329.08  666.45   5,749,400\n",
              "2  1/5/2012  329.83  330.75  326.89  657.21   6,590,300\n",
              "3  1/6/2012  328.34  328.77  323.68  648.24   5,405,900\n",
              "4  1/9/2012  322.04  322.29  309.46  620.76  11,688,800"
            ]
          },
          "metadata": {
            "tags": []
          },
          "execution_count": 4
        }
      ]
    },
    {
      "cell_type": "code",
      "metadata": {
        "id": "WMy3spybyzAl"
      },
      "source": [
        "train = train_data.loc[:,['Open']].values"
      ],
      "execution_count": 5,
      "outputs": []
    },
    {
      "cell_type": "code",
      "metadata": {
        "colab": {
          "base_uri": "https://localhost:8080/"
        },
        "id": "2n08WW4py6HE",
        "outputId": "7e8af1a7-c4c6-4c5a-d80f-66080651ab51"
      },
      "source": [
        "train"
      ],
      "execution_count": 6,
      "outputs": [
        {
          "output_type": "execute_result",
          "data": {
            "text/plain": [
              "array([[325.25],\n",
              "       [331.27],\n",
              "       [329.83],\n",
              "       ...,\n",
              "       [793.7 ],\n",
              "       [783.33],\n",
              "       [782.75]])"
            ]
          },
          "metadata": {
            "tags": []
          },
          "execution_count": 6
        }
      ]
    },
    {
      "cell_type": "code",
      "metadata": {
        "colab": {
          "base_uri": "https://localhost:8080/"
        },
        "id": "2Zenxz4Yy6nC",
        "outputId": "8928dc21-224c-48eb-f5d4-bf3a830d3cca"
      },
      "source": [
        "from sklearn.preprocessing import MinMaxScaler\n",
        "scaler = MinMaxScaler(feature_range = (0,1))\n",
        "train_scaled = scaler.fit_transform(train)\n",
        "train_scaled"
      ],
      "execution_count": 7,
      "outputs": [
        {
          "output_type": "execute_result",
          "data": {
            "text/plain": [
              "array([[0.08581368],\n",
              "       [0.09701243],\n",
              "       [0.09433366],\n",
              "       ...,\n",
              "       [0.95725128],\n",
              "       [0.93796041],\n",
              "       [0.93688146]])"
            ]
          },
          "metadata": {
            "tags": []
          },
          "execution_count": 7
        }
      ]
    },
    {
      "cell_type": "code",
      "metadata": {
        "colab": {
          "base_uri": "https://localhost:8080/",
          "height": 282
        },
        "id": "XLxOtSrBzA3b",
        "outputId": "806ab053-ddb8-4077-955b-7f321b1b40c6"
      },
      "source": [
        "plt.plot(train_scaled)"
      ],
      "execution_count": 8,
      "outputs": [
        {
          "output_type": "execute_result",
          "data": {
            "text/plain": [
              "[<matplotlib.lines.Line2D at 0x7f0026b644d0>]"
            ]
          },
          "metadata": {
            "tags": []
          },
          "execution_count": 8
        },
        {
          "output_type": "display_data",
          "data": {
            "image/png": "[encoded data removed]",
            "text/plain": [
              "<Figure size 432x288 with 1 Axes>"
            ]
          },
          "metadata": {
            "tags": [],
            "needs_background": "light"
          }
        }
      ]
    },
    {
      "cell_type": "code",
      "metadata": {
        "id": "TWc8_4DUzJ4z"
      },
      "source": [
        "X_train = []\n",
        "y_train = []\n",
        "timesteps = 50\n",
        "for i in range(timesteps, 1258):\n",
        "    X_train.append(train_scaled[i-timesteps:i, 0])\n",
        "    y_train.append(train_scaled[i, 0])\n",
        "X_train, y_train = np.array(X_train), np.array(y_train)"
      ],
      "execution_count": 9,
      "outputs": []
    },
    {
      "cell_type": "code",
      "metadata": {
        "colab": {
          "base_uri": "https://localhost:8080/"
        },
        "id": "j-KB4W5szR58",
        "outputId": "7c1a2303-7b7f-4459-d992-899f52ab7a02"
      },
      "source": [
        "# Reshaping\n",
        "X_train = np.reshape(X_train, (X_train.shape[0], X_train.shape[1], 1))\n",
        "X_train"
      ],
      "execution_count": 10,
      "outputs": [
        {
          "output_type": "execute_result",
          "data": {
            "text/plain": [
              "array([[[0.08581368],\n",
              "        [0.09701243],\n",
              "        [0.09433366],\n",
              "        ...,\n",
              "        [0.03675869],\n",
              "        [0.04486941],\n",
              "        [0.05065481]],\n",
              "\n",
              "       [[0.09701243],\n",
              "        [0.09433366],\n",
              "        [0.09156187],\n",
              "        ...,\n",
              "        [0.04486941],\n",
              "        [0.05065481],\n",
              "        [0.05214302]],\n",
              "\n",
              "       [[0.09433366],\n",
              "        [0.09156187],\n",
              "        [0.07984225],\n",
              "        ...,\n",
              "        [0.05065481],\n",
              "        [0.05214302],\n",
              "        [0.05612397]],\n",
              "\n",
              "       ...,\n",
              "\n",
              "       [[0.9313937 ],\n",
              "        [0.94636878],\n",
              "        [0.96569685],\n",
              "        ...,\n",
              "        [0.95475854],\n",
              "        [0.95204256],\n",
              "        [0.95163331]],\n",
              "\n",
              "       [[0.94636878],\n",
              "        [0.96569685],\n",
              "        [0.97510976],\n",
              "        ...,\n",
              "        [0.95204256],\n",
              "        [0.95163331],\n",
              "        [0.95725128]],\n",
              "\n",
              "       [[0.96569685],\n",
              "        [0.97510976],\n",
              "        [0.95966962],\n",
              "        ...,\n",
              "        [0.95163331],\n",
              "        [0.95725128],\n",
              "        [0.93796041]]])"
            ]
          },
          "metadata": {
            "tags": []
          },
          "execution_count": 10
        }
      ]
    },
    {
      "cell_type": "code",
      "metadata": {
        "colab": {
          "base_uri": "https://localhost:8080/"
        },
        "id": "do89oPGZzdQE",
        "outputId": "b2f181a4-af0d-43c2-e706-df6c5f4b28b4"
      },
      "source": [
        "# Importing the Keras libraries and packages\n",
        "from keras.models import Sequential\n",
        "from keras.layers import Dense\n",
        "from keras.layers import SimpleRNN\n",
        "from keras.layers import Dropout\n",
        "\n",
        "# Initialising the RNN\n",
        "regressor = Sequential()\n",
        "\n",
        "# Adding the first RNN layer and some Dropout regularisation\n",
        "regressor.add(SimpleRNN(units = 50,activation='tanh', return_sequences = True, input_shape = (X_train.shape[1], 1)))\n",
        "regressor.add(Dropout(0.2))\n",
        "\n",
        "# Adding a second RNN layer and some Dropout regularisation\n",
        "regressor.add(SimpleRNN(units = 50,activation='tanh', return_sequences = True))\n",
        "regressor.add(Dropout(0.2))\n",
        "\n",
        "# Adding a third RNN layer and some Dropout regularisation\n",
        "regressor.add(SimpleRNN(units = 50,activation='tanh', return_sequences = True))\n",
        "regressor.add(Dropout(0.2))\n",
        "\n",
        "# Adding a fourth RNN layer and some Dropout regularisation\n",
        "regressor.add(SimpleRNN(units = 50))\n",
        "regressor.add(Dropout(0.2))\n",
        "\n",
        "# Adding the output layer\n",
        "regressor.add(Dense(units = 1))\n",
        "\n",
        "# Compiling the RNN\n",
        "regressor.compile(optimizer = 'adam', loss = 'mean_squared_error')\n",
        "\n",
        "# Fitting the RNN to the Training set\n",
        "regressor.fit(X_train, y_train, epochs = 100, batch_size = 32)"
      ],
      "execution_count": 35,
      "outputs": [
        {
          "output_type": "stream",
          "text": [
            "Epoch 1/100\n",
            "38/38 [==============================] - 4s 42ms/step - loss: 0.5992\n",
            "Epoch 2/100\n",
            "38/38 [==============================] - 2s 42ms/step - loss: 0.2816\n",
            "Epoch 3/100\n",
            "38/38 [==============================] - 2s 42ms/step - loss: 0.2118\n",
            "Epoch 4/100\n",
            "38/38 [==============================] - 2s 42ms/step - loss: 0.1518\n",
            "Epoch 5/100\n",
            "38/38 [==============================] - 2s 42ms/step - loss: 0.1101\n",
            "Epoch 6/100\n",
            "38/38 [==============================] - 2s 42ms/step - loss: 0.1135\n",
            "Epoch 7/100\n",
            "38/38 [==============================] - 2s 42ms/step - loss: 0.0824\n",
            "Epoch 8/100\n",
            "38/38 [==============================] - 2s 42ms/step - loss: 0.0678\n",
            "Epoch 9/100\n",
            "38/38 [==============================] - 2s 42ms/step - loss: 0.0547\n",
            "Epoch 10/100\n",
            "38/38 [==============================] - 2s 42ms/step - loss: 0.0503\n",
            "Epoch 11/100\n",
            "38/38 [==============================] - 2s 41ms/step - loss: 0.0462\n",
            "Epoch 12/100\n",
            "38/38 [==============================] - 2s 42ms/step - loss: 0.0368\n",
            "Epoch 13/100\n",
            "38/38 [==============================] - 2s 42ms/step - loss: 0.0320\n",
            "Epoch 14/100\n",
            "38/38 [==============================] - 2s 41ms/step - loss: 0.0277\n",
            "Epoch 15/100\n",
            "38/38 [==============================] - 2s 42ms/step - loss: 0.0274\n",
            "Epoch 16/100\n",
            "38/38 [==============================] - 2s 41ms/step - loss: 0.0253\n",
            "Epoch 17/100\n",
            "38/38 [==============================] - 2s 42ms/step - loss: 0.0212\n",
            "Epoch 18/100\n",
            "38/38 [==============================] - 2s 43ms/step - loss: 0.0194\n",
            "Epoch 19/100\n",
            "38/38 [==============================] - 2s 42ms/step - loss: 0.0176\n",
            "Epoch 20/100\n",
            "38/38 [==============================] - 2s 41ms/step - loss: 0.0153\n",
            "Epoch 21/100\n",
            "38/38 [==============================] - 2s 42ms/step - loss: 0.0183\n",
            "Epoch 22/100\n",
            "38/38 [==============================] - 2s 43ms/step - loss: 0.0161\n",
            "Epoch 23/100\n",
            "38/38 [==============================] - 2s 42ms/step - loss: 0.0151\n",
            "Epoch 24/100\n",
            "38/38 [==============================] - 2s 42ms/step - loss: 0.0129\n",
            "Epoch 25/100\n",
            "38/38 [==============================] - 2s 41ms/step - loss: 0.0112\n",
            "Epoch 26/100\n",
            "38/38 [==============================] - 2s 42ms/step - loss: 0.0114\n",
            "Epoch 27/100\n",
            "38/38 [==============================] - 2s 42ms/step - loss: 0.0114\n",
            "Epoch 28/100\n",
            "38/38 [==============================] - 2s 41ms/step - loss: 0.0115\n",
            "Epoch 29/100\n",
            "38/38 [==============================] - 2s 42ms/step - loss: 0.0112\n",
            "Epoch 30/100\n",
            "38/38 [==============================] - 2s 42ms/step - loss: 0.0085\n",
            "Epoch 31/100\n",
            "38/38 [==============================] - 2s 43ms/step - loss: 0.0097\n",
            "Epoch 32/100\n",
            "38/38 [==============================] - 2s 42ms/step - loss: 0.0086\n",
            "Epoch 33/100\n",
            "38/38 [==============================] - 2s 43ms/step - loss: 0.0085\n",
            "Epoch 34/100\n",
            "38/38 [==============================] - 2s 42ms/step - loss: 0.0080\n",
            "Epoch 35/100\n",
            "38/38 [==============================] - 2s 41ms/step - loss: 0.0077\n",
            "Epoch 36/100\n",
            "38/38 [==============================] - 2s 43ms/step - loss: 0.0060\n",
            "Epoch 37/100\n",
            "38/38 [==============================] - 2s 42ms/step - loss: 0.0067\n",
            "Epoch 38/100\n",
            "38/38 [==============================] - 2s 41ms/step - loss: 0.0062\n",
            "Epoch 39/100\n",
            "38/38 [==============================] - 2s 43ms/step - loss: 0.0057\n",
            "Epoch 40/100\n",
            "38/38 [==============================] - 2s 42ms/step - loss: 0.0060\n",
            "Epoch 41/100\n",
            "38/38 [==============================] - 2s 42ms/step - loss: 0.0062\n",
            "Epoch 42/100\n",
            "38/38 [==============================] - 2s 43ms/step - loss: 0.0052\n",
            "Epoch 43/100\n",
            "38/38 [==============================] - 2s 42ms/step - loss: 0.0056\n",
            "Epoch 44/100\n",
            "38/38 [==============================] - 2s 42ms/step - loss: 0.0049\n",
            "Epoch 45/100\n",
            "38/38 [==============================] - 2s 42ms/step - loss: 0.0058\n",
            "Epoch 46/100\n",
            "38/38 [==============================] - 2s 42ms/step - loss: 0.0051\n",
            "Epoch 47/100\n",
            "38/38 [==============================] - 2s 42ms/step - loss: 0.0051\n",
            "Epoch 48/100\n",
            "38/38 [==============================] - 2s 42ms/step - loss: 0.0054\n",
            "Epoch 49/100\n",
            "38/38 [==============================] - 2s 43ms/step - loss: 0.0043\n",
            "Epoch 50/100\n",
            "38/38 [==============================] - 2s 43ms/step - loss: 0.0046\n",
            "Epoch 51/100\n",
            "38/38 [==============================] - 2s 41ms/step - loss: 0.0044\n",
            "Epoch 52/100\n",
            "38/38 [==============================] - 2s 42ms/step - loss: 0.0045\n",
            "Epoch 53/100\n",
            "38/38 [==============================] - 2s 41ms/step - loss: 0.0043\n",
            "Epoch 54/100\n",
            "38/38 [==============================] - 2s 42ms/step - loss: 0.0039\n",
            "Epoch 55/100\n",
            "38/38 [==============================] - 2s 43ms/step - loss: 0.0040\n",
            "Epoch 56/100\n",
            "38/38 [==============================] - 2s 44ms/step - loss: 0.0037\n",
            "Epoch 57/100\n",
            "38/38 [==============================] - 2s 43ms/step - loss: 0.0038\n",
            "Epoch 58/100\n",
            "38/38 [==============================] - 2s 42ms/step - loss: 0.0036\n",
            "Epoch 59/100\n",
            "38/38 [==============================] - 2s 42ms/step - loss: 0.0035\n",
            "Epoch 60/100\n",
            "38/38 [==============================] - 2s 42ms/step - loss: 0.0038\n",
            "Epoch 61/100\n",
            "38/38 [==============================] - 2s 42ms/step - loss: 0.0030\n",
            "Epoch 62/100\n",
            "38/38 [==============================] - 2s 43ms/step - loss: 0.0033\n",
            "Epoch 63/100\n",
            "38/38 [==============================] - 2s 42ms/step - loss: 0.0033\n",
            "Epoch 64/100\n",
            "38/38 [==============================] - 2s 42ms/step - loss: 0.0035\n",
            "Epoch 65/100\n",
            "38/38 [==============================] - 2s 43ms/step - loss: 0.0035\n",
            "Epoch 66/100\n",
            "38/38 [==============================] - 2s 42ms/step - loss: 0.0031\n",
            "Epoch 67/100\n",
            "38/38 [==============================] - 2s 42ms/step - loss: 0.0029\n",
            "Epoch 68/100\n",
            "38/38 [==============================] - 2s 42ms/step - loss: 0.0028\n",
            "Epoch 69/100\n",
            "38/38 [==============================] - 2s 44ms/step - loss: 0.0027\n",
            "Epoch 70/100\n",
            "38/38 [==============================] - 2s 42ms/step - loss: 0.0027\n",
            "Epoch 71/100\n",
            "38/38 [==============================] - 2s 42ms/step - loss: 0.0027\n",
            "Epoch 72/100\n",
            "38/38 [==============================] - 2s 42ms/step - loss: 0.0026\n",
            "Epoch 73/100\n",
            "38/38 [==============================] - 2s 41ms/step - loss: 0.0027\n",
            "Epoch 74/100\n",
            "38/38 [==============================] - 2s 43ms/step - loss: 0.0028\n",
            "Epoch 75/100\n",
            "38/38 [==============================] - 2s 42ms/step - loss: 0.0025\n",
            "Epoch 76/100\n",
            "38/38 [==============================] - 2s 42ms/step - loss: 0.0025\n",
            "Epoch 77/100\n",
            "38/38 [==============================] - 2s 43ms/step - loss: 0.0024\n",
            "Epoch 78/100\n",
            "38/38 [==============================] - 2s 43ms/step - loss: 0.0024\n",
            "Epoch 79/100\n",
            "38/38 [==============================] - 2s 42ms/step - loss: 0.0024\n",
            "Epoch 80/100\n",
            "38/38 [==============================] - 2s 42ms/step - loss: 0.0027\n",
            "Epoch 81/100\n",
            "38/38 [==============================] - 2s 42ms/step - loss: 0.0028\n",
            "Epoch 82/100\n",
            "38/38 [==============================] - 2s 43ms/step - loss: 0.0025\n",
            "Epoch 83/100\n",
            "38/38 [==============================] - 2s 43ms/step - loss: 0.0024\n",
            "Epoch 84/100\n",
            "38/38 [==============================] - 2s 43ms/step - loss: 0.0020\n",
            "Epoch 85/100\n",
            "38/38 [==============================] - 2s 42ms/step - loss: 0.0026\n",
            "Epoch 86/100\n",
            "38/38 [==============================] - 2s 42ms/step - loss: 0.0022\n",
            "Epoch 87/100\n",
            "38/38 [==============================] - 2s 42ms/step - loss: 0.0021\n",
            "Epoch 88/100\n",
            "38/38 [==============================] - 2s 42ms/step - loss: 0.0022\n",
            "Epoch 89/100\n",
            "38/38 [==============================] - 2s 43ms/step - loss: 0.0020\n",
            "Epoch 90/100\n",
            "38/38 [==============================] - 2s 42ms/step - loss: 0.0025\n",
            "Epoch 91/100\n",
            "38/38 [==============================] - 2s 42ms/step - loss: 0.0019\n",
            "Epoch 92/100\n",
            "38/38 [==============================] - 2s 42ms/step - loss: 0.0021\n",
            "Epoch 93/100\n",
            "38/38 [==============================] - 2s 42ms/step - loss: 0.0020\n",
            "Epoch 94/100\n",
            "38/38 [==============================] - 2s 42ms/step - loss: 0.0022\n",
            "Epoch 95/100\n",
            "38/38 [==============================] - 2s 42ms/step - loss: 0.0019\n",
            "Epoch 96/100\n",
            "38/38 [==============================] - 2s 42ms/step - loss: 0.0021\n",
            "Epoch 97/100\n",
            "38/38 [==============================] - 2s 42ms/step - loss: 0.0019\n",
            "Epoch 98/100\n",
            "38/38 [==============================] - 2s 43ms/step - loss: 0.0020\n",
            "Epoch 99/100\n",
            "38/38 [==============================] - 2s 42ms/step - loss: 0.0019\n",
            "Epoch 100/100\n",
            "38/38 [==============================] - 2s 42ms/step - loss: 0.0021\n"
          ],
          "name": "stdout"
        },
        {
          "output_type": "execute_result",
          "data": {
            "text/plain": [
              "<tensorflow.python.keras.callbacks.History at 0x7effe7ac8190>"
            ]
          },
          "metadata": {
            "tags": []
          },
          "execution_count": 35
        }
      ]
    },
    {
      "cell_type": "code",
      "metadata": {
        "id": "WRvVf9O20jNW"
      },
      "source": [
        "test_data  = pd.read_csv('/content/drive/My Drive/Data/Google_Stock_Price_Test.csv')"
      ],
      "execution_count": 36,
      "outputs": []
    },
    {
      "cell_type": "code",
      "metadata": {
        "id": "72UfXNcR1j6i",
        "outputId": "4b8bd392-4524-473a-8869-6e1dab4363a6",
        "colab": {
          "base_uri": "https://localhost:8080/",
          "height": 195
        }
      },
      "source": [
        "test_data.head()"
      ],
      "execution_count": 37,
      "outputs": [
        {
          "output_type": "execute_result",
          "data": {
            "text/html": [
              "<div>\n",
              "<style scoped>\n",
              "    .dataframe tbody tr th:only-of-type {\n",
              "        vertical-align: middle;\n",
              "    }\n",
              "\n",
              "    .dataframe tbody tr th {\n",
              "        vertical-align: top;\n",
              "    }\n",
              "\n",
              "    .dataframe thead th {\n",
              "        text-align: right;\n",
              "    }\n",
              "</style>\n",
              "<table border=\"1\" class=\"dataframe\">\n",
              "  <thead>\n",
              "    <tr style=\"text-align: right;\">\n",
              "      <th></th>\n",
              "      <th>Date</th>\n",
              "      <th>Open</th>\n",
              "      <th>High</th>\n",
              "      <th>Low</th>\n",
              "      <th>Close</th>\n",
              "      <th>Volume</th>\n",
              "    </tr>\n",
              "  </thead>\n",
              "  <tbody>\n",
              "    <tr>\n",
              "      <th>0</th>\n",
              "      <td>1/3/2017</td>\n",
              "      <td>778.81</td>\n",
              "      <td>789.63</td>\n",
              "      <td>775.80</td>\n",
              "      <td>786.14</td>\n",
              "      <td>1,657,300</td>\n",
              "    </tr>\n",
              "    <tr>\n",
              "      <th>1</th>\n",
              "      <td>1/4/2017</td>\n",
              "      <td>788.36</td>\n",
              "      <td>791.34</td>\n",
              "      <td>783.16</td>\n",
              "      <td>786.90</td>\n",
              "      <td>1,073,000</td>\n",
              "    </tr>\n",
              "    <tr>\n",
              "      <th>2</th>\n",
              "      <td>1/5/2017</td>\n",
              "      <td>786.08</td>\n",
              "      <td>794.48</td>\n",
              "      <td>785.02</td>\n",
              "      <td>794.02</td>\n",
              "      <td>1,335,200</td>\n",
              "    </tr>\n",
              "    <tr>\n",
              "      <th>3</th>\n",
              "      <td>1/6/2017</td>\n",
              "      <td>795.26</td>\n",
              "      <td>807.90</td>\n",
              "      <td>792.20</td>\n",
              "      <td>806.15</td>\n",
              "      <td>1,640,200</td>\n",
              "    </tr>\n",
              "    <tr>\n",
              "      <th>4</th>\n",
              "      <td>1/9/2017</td>\n",
              "      <td>806.40</td>\n",
              "      <td>809.97</td>\n",
              "      <td>802.83</td>\n",
              "      <td>806.65</td>\n",
              "      <td>1,272,400</td>\n",
              "    </tr>\n",
              "  </tbody>\n",
              "</table>\n",
              "</div>"
            ],
            "text/plain": [
              "       Date    Open    High     Low   Close     Volume\n",
              "0  1/3/2017  778.81  789.63  775.80  786.14  1,657,300\n",
              "1  1/4/2017  788.36  791.34  783.16  786.90  1,073,000\n",
              "2  1/5/2017  786.08  794.48  785.02  794.02  1,335,200\n",
              "3  1/6/2017  795.26  807.90  792.20  806.15  1,640,200\n",
              "4  1/9/2017  806.40  809.97  802.83  806.65  1,272,400"
            ]
          },
          "metadata": {
            "tags": []
          },
          "execution_count": 37
        }
      ]
    },
    {
      "cell_type": "code",
      "metadata": {
        "id": "kkGFswQ_2Bt5"
      },
      "source": [
        "real_stock_price = test_data.loc[:,['Open']].values"
      ],
      "execution_count": 38,
      "outputs": []
    },
    {
      "cell_type": "code",
      "metadata": {
        "id": "CKHIl-EG2R76"
      },
      "source": [
        "total_data = pd.concat((train_data['Open'],test_data['Open']),axis=0)\n",
        "inputs = total_data[len(total_data)-len(test_data)-timesteps:].values.reshape(-1,1)\n",
        "inputs = scaler.transform(inputs)"
      ],
      "execution_count": 39,
      "outputs": []
    },
    {
      "cell_type": "code",
      "metadata": {
        "id": "gX54mOrN26gW",
        "outputId": "825d3853-14ba-434e-ecd8-e10869785260",
        "colab": {
          "base_uri": "https://localhost:8080/"
        }
      },
      "source": [
        "inputs"
      ],
      "execution_count": 40,
      "outputs": [
        {
          "output_type": "execute_result",
          "data": {
            "text/plain": [
              "array([[0.97510976],\n",
              "       [0.95966962],\n",
              "       [0.97808617],\n",
              "       [1.        ],\n",
              "       [0.98076494],\n",
              "       [0.97083116],\n",
              "       [0.98450406],\n",
              "       [0.96054394],\n",
              "       [0.9371419 ],\n",
              "       [0.92841729],\n",
              "       [0.90804747],\n",
              "       [0.8771858 ],\n",
              "       [0.92153434],\n",
              "       [0.93809063],\n",
              "       [0.93165414],\n",
              "       [0.95254483],\n",
              "       [0.88812412],\n",
              "       [0.88637547],\n",
              "       [0.87032145],\n",
              "       [0.88563137],\n",
              "       [0.90743359],\n",
              "       [0.91571173],\n",
              "       [0.89941588],\n",
              "       [0.91805566],\n",
              "       [0.9089404 ],\n",
              "       [0.9024853 ],\n",
              "       [0.89456061],\n",
              "       [0.91600938],\n",
              "       [0.9132934 ],\n",
              "       [0.88979835],\n",
              "       [0.86589404],\n",
              "       [0.89030062],\n",
              "       [0.90335962],\n",
              "       [0.89642086],\n",
              "       [0.91777662],\n",
              "       [0.93176576],\n",
              "       [0.94114145],\n",
              "       [0.95762334],\n",
              "       [0.96413424],\n",
              "       [0.96402262],\n",
              "       [0.96971501],\n",
              "       [0.95077759],\n",
              "       [0.96294367],\n",
              "       [0.96123223],\n",
              "       [0.95475854],\n",
              "       [0.95204256],\n",
              "       [0.95163331],\n",
              "       [0.95725128],\n",
              "       [0.93796041],\n",
              "       [0.93688146],\n",
              "       [0.92955205],\n",
              "       [0.94731751],\n",
              "       [0.94307612],\n",
              "       [0.96015329],\n",
              "       [0.98087655],\n",
              "       [0.98359253],\n",
              "       [0.97827219],\n",
              "       [0.98225314],\n",
              "       [0.98288563],\n",
              "       [0.98214153],\n",
              "       [0.979779  ],\n",
              "       [0.97849542],\n",
              "       [0.98182528],\n",
              "       [0.98245777],\n",
              "       [1.01045465],\n",
              "       [1.02407173],\n",
              "       [1.03930724],\n",
              "       [1.03354044],\n",
              "       [0.99624228],\n",
              "       [0.9631297 ]])"
            ]
          },
          "metadata": {
            "tags": []
          },
          "execution_count": 40
        }
      ]
    },
    {
      "cell_type": "code",
      "metadata": {
        "id": "lhVphnrA2_0E"
      },
      "source": [
        "X_test = []\n",
        "for i in range(timesteps, 70):\n",
        "    X_test.append(inputs[i-timesteps:i, 0])\n",
        "X_test = np.array(X_test)\n",
        "X_test = np.reshape(X_test, (X_test.shape[0], X_test.shape[1], 1))\n",
        "predicted_stock_price = regressor.predict(X_test)\n",
        "predicted_stock_price = scaler.inverse_transform(predicted_stock_price)"
      ],
      "execution_count": 41,
      "outputs": []
    },
    {
      "cell_type": "code",
      "metadata": {
        "id": "xQXcCVlp3k2d",
        "outputId": "babdb960-7deb-43b0-d0d3-0aa9fd4dc6cb",
        "colab": {
          "base_uri": "https://localhost:8080/",
          "height": 295
        }
      },
      "source": [
        "plt.plot(real_stock_price,color='red',label='Real Google Stock Price')\n",
        "plt.plot(predicted_stock_price,color='blue',label='Predicted Google Stock Price')\n",
        "plt.title('Google Stoc Price Prediction')\n",
        "plt.xlabel('Time')\n",
        "plt.ylabel('Google Stock Price')\n",
        "plt.legend()\n",
        "plt.show()"
      ],
      "execution_count": 42,
      "outputs": [
        {
          "output_type": "display_data",
          "data": {
            "image/png": "[encoded data removed]",
            "text/plain": [
              "<Figure size 432x288 with 1 Axes>"
            ]
          },
          "metadata": {
            "tags": [],
            "needs_background": "light"
          }
        }
      ]
    }
  ]
}