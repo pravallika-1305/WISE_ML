{
 "cells": [
  {
   "cell_type": "code",
   "execution_count": 637,
   "id": "8b8f53fc",
   "metadata": {},
   "outputs": [],
   "source": [
    "import os\n",
    "\n",
    "import numpy as np # linear algebra\n",
    "import pandas as pd # data processing, CSV file I/O (e.g. pd.read_csv)\n",
    "import matplotlib.pyplot as plt\n",
    "from datetime import datetime as dt\n",
    "import seaborn as sns\n",
    "\n",
    "%matplotlib inline"
   ]
  },
  {
   "cell_type": "code",
   "execution_count": 638,
   "id": "6322722a",
   "metadata": {},
   "outputs": [],
   "source": [
    "weather_data = pd.read_csv('weather_data_.csv')"
   ]
  },
  {
   "cell_type": "code",
   "execution_count": 639,
   "id": "dc554026",
   "metadata": {},
   "outputs": [
    {
     "data": {
      "text/html": [
       "<div>\n",
       "<style scoped>\n",
       "    .dataframe tbody tr th:only-of-type {\n",
       "        vertical-align: middle;\n",
       "    }\n",
       "\n",
       "    .dataframe tbody tr th {\n",
       "        vertical-align: top;\n",
       "    }\n",
       "\n",
       "    .dataframe thead th {\n",
       "        text-align: right;\n",
       "    }\n",
       "</style>\n",
       "<table border=\"1\" class=\"dataframe\">\n",
       "  <thead>\n",
       "    <tr style=\"text-align: right;\">\n",
       "      <th></th>\n",
       "      <th>time</th>\n",
       "      <th>date</th>\n",
       "      <th>tempC</th>\n",
       "      <th>windspeedMiles</th>\n",
       "      <th>windspeedKmph</th>\n",
       "      <th>winddirDegree</th>\n",
       "      <th>winddir16Point</th>\n",
       "      <th>weatherCode</th>\n",
       "      <th>weatherDesc</th>\n",
       "      <th>precipMM</th>\n",
       "      <th>precipInches</th>\n",
       "      <th>humidity</th>\n",
       "      <th>visibility</th>\n",
       "      <th>visibilityMiles</th>\n",
       "      <th>pressure</th>\n",
       "      <th>pressureInches</th>\n",
       "      <th>cloudcover</th>\n",
       "      <th>WindGustMiles</th>\n",
       "      <th>WindGustKmph</th>\n",
       "      <th>uvIndex</th>\n",
       "    </tr>\n",
       "  </thead>\n",
       "  <tbody>\n",
       "    <tr>\n",
       "      <th>0</th>\n",
       "      <td>0</td>\n",
       "      <td>1/1/2019</td>\n",
       "      <td>9</td>\n",
       "      <td>6</td>\n",
       "      <td>10</td>\n",
       "      <td>272</td>\n",
       "      <td>W</td>\n",
       "      <td>122</td>\n",
       "      <td>Overcast</td>\n",
       "      <td>0.0</td>\n",
       "      <td>0.0</td>\n",
       "      <td>78</td>\n",
       "      <td>10</td>\n",
       "      <td>6</td>\n",
       "      <td>1035</td>\n",
       "      <td>31</td>\n",
       "      <td>100</td>\n",
       "      <td>10</td>\n",
       "      <td>15</td>\n",
       "      <td>1</td>\n",
       "    </tr>\n",
       "    <tr>\n",
       "      <th>1</th>\n",
       "      <td>300</td>\n",
       "      <td>1/1/2019</td>\n",
       "      <td>8</td>\n",
       "      <td>7</td>\n",
       "      <td>11</td>\n",
       "      <td>278</td>\n",
       "      <td>W</td>\n",
       "      <td>116</td>\n",
       "      <td>Partly cloudy</td>\n",
       "      <td>0.0</td>\n",
       "      <td>0.0</td>\n",
       "      <td>85</td>\n",
       "      <td>10</td>\n",
       "      <td>6</td>\n",
       "      <td>1034</td>\n",
       "      <td>31</td>\n",
       "      <td>34</td>\n",
       "      <td>10</td>\n",
       "      <td>17</td>\n",
       "      <td>1</td>\n",
       "    </tr>\n",
       "    <tr>\n",
       "      <th>2</th>\n",
       "      <td>600</td>\n",
       "      <td>1/1/2019</td>\n",
       "      <td>7</td>\n",
       "      <td>8</td>\n",
       "      <td>12</td>\n",
       "      <td>284</td>\n",
       "      <td>WNW</td>\n",
       "      <td>113</td>\n",
       "      <td>Sunny</td>\n",
       "      <td>0.0</td>\n",
       "      <td>0.0</td>\n",
       "      <td>88</td>\n",
       "      <td>10</td>\n",
       "      <td>6</td>\n",
       "      <td>1034</td>\n",
       "      <td>31</td>\n",
       "      <td>25</td>\n",
       "      <td>11</td>\n",
       "      <td>18</td>\n",
       "      <td>3</td>\n",
       "    </tr>\n",
       "    <tr>\n",
       "      <th>3</th>\n",
       "      <td>900</td>\n",
       "      <td>1/1/2019</td>\n",
       "      <td>7</td>\n",
       "      <td>8</td>\n",
       "      <td>13</td>\n",
       "      <td>294</td>\n",
       "      <td>WNW</td>\n",
       "      <td>116</td>\n",
       "      <td>Partly cloudy</td>\n",
       "      <td>0.0</td>\n",
       "      <td>0.0</td>\n",
       "      <td>88</td>\n",
       "      <td>10</td>\n",
       "      <td>6</td>\n",
       "      <td>1034</td>\n",
       "      <td>31</td>\n",
       "      <td>38</td>\n",
       "      <td>13</td>\n",
       "      <td>20</td>\n",
       "      <td>3</td>\n",
       "    </tr>\n",
       "    <tr>\n",
       "      <th>4</th>\n",
       "      <td>1200</td>\n",
       "      <td>1/1/2019</td>\n",
       "      <td>9</td>\n",
       "      <td>9</td>\n",
       "      <td>15</td>\n",
       "      <td>320</td>\n",
       "      <td>NW</td>\n",
       "      <td>116</td>\n",
       "      <td>Partly cloudy</td>\n",
       "      <td>0.0</td>\n",
       "      <td>0.0</td>\n",
       "      <td>81</td>\n",
       "      <td>10</td>\n",
       "      <td>6</td>\n",
       "      <td>1035</td>\n",
       "      <td>31</td>\n",
       "      <td>57</td>\n",
       "      <td>13</td>\n",
       "      <td>21</td>\n",
       "      <td>3</td>\n",
       "    </tr>\n",
       "    <tr>\n",
       "      <th>...</th>\n",
       "      <td>...</td>\n",
       "      <td>...</td>\n",
       "      <td>...</td>\n",
       "      <td>...</td>\n",
       "      <td>...</td>\n",
       "      <td>...</td>\n",
       "      <td>...</td>\n",
       "      <td>...</td>\n",
       "      <td>...</td>\n",
       "      <td>...</td>\n",
       "      <td>...</td>\n",
       "      <td>...</td>\n",
       "      <td>...</td>\n",
       "      <td>...</td>\n",
       "      <td>...</td>\n",
       "      <td>...</td>\n",
       "      <td>...</td>\n",
       "      <td>...</td>\n",
       "      <td>...</td>\n",
       "      <td>...</td>\n",
       "    </tr>\n",
       "    <tr>\n",
       "      <th>8763</th>\n",
       "      <td>900</td>\n",
       "      <td>12/31/2021</td>\n",
       "      <td>12</td>\n",
       "      <td>14</td>\n",
       "      <td>23</td>\n",
       "      <td>206</td>\n",
       "      <td>SSW</td>\n",
       "      <td>122</td>\n",
       "      <td>Overcast</td>\n",
       "      <td>0.0</td>\n",
       "      <td>0.0</td>\n",
       "      <td>82</td>\n",
       "      <td>10</td>\n",
       "      <td>6</td>\n",
       "      <td>1017</td>\n",
       "      <td>30</td>\n",
       "      <td>92</td>\n",
       "      <td>21</td>\n",
       "      <td>35</td>\n",
       "      <td>3</td>\n",
       "    </tr>\n",
       "    <tr>\n",
       "      <th>8764</th>\n",
       "      <td>1200</td>\n",
       "      <td>12/31/2021</td>\n",
       "      <td>13</td>\n",
       "      <td>13</td>\n",
       "      <td>21</td>\n",
       "      <td>226</td>\n",
       "      <td>SW</td>\n",
       "      <td>122</td>\n",
       "      <td>Overcast</td>\n",
       "      <td>0.0</td>\n",
       "      <td>0.0</td>\n",
       "      <td>82</td>\n",
       "      <td>10</td>\n",
       "      <td>6</td>\n",
       "      <td>1019</td>\n",
       "      <td>30</td>\n",
       "      <td>100</td>\n",
       "      <td>18</td>\n",
       "      <td>29</td>\n",
       "      <td>3</td>\n",
       "    </tr>\n",
       "    <tr>\n",
       "      <th>8765</th>\n",
       "      <td>1500</td>\n",
       "      <td>12/31/2021</td>\n",
       "      <td>14</td>\n",
       "      <td>12</td>\n",
       "      <td>19</td>\n",
       "      <td>227</td>\n",
       "      <td>SW</td>\n",
       "      <td>116</td>\n",
       "      <td>Partly cloudy</td>\n",
       "      <td>0.0</td>\n",
       "      <td>0.0</td>\n",
       "      <td>81</td>\n",
       "      <td>10</td>\n",
       "      <td>6</td>\n",
       "      <td>1019</td>\n",
       "      <td>30</td>\n",
       "      <td>59</td>\n",
       "      <td>17</td>\n",
       "      <td>28</td>\n",
       "      <td>4</td>\n",
       "    </tr>\n",
       "    <tr>\n",
       "      <th>8766</th>\n",
       "      <td>1800</td>\n",
       "      <td>12/31/2021</td>\n",
       "      <td>12</td>\n",
       "      <td>13</td>\n",
       "      <td>20</td>\n",
       "      <td>227</td>\n",
       "      <td>SW</td>\n",
       "      <td>116</td>\n",
       "      <td>Partly cloudy</td>\n",
       "      <td>0.0</td>\n",
       "      <td>0.0</td>\n",
       "      <td>90</td>\n",
       "      <td>10</td>\n",
       "      <td>6</td>\n",
       "      <td>1020</td>\n",
       "      <td>30</td>\n",
       "      <td>32</td>\n",
       "      <td>20</td>\n",
       "      <td>32</td>\n",
       "      <td>1</td>\n",
       "    </tr>\n",
       "    <tr>\n",
       "      <th>8767</th>\n",
       "      <td>2100</td>\n",
       "      <td>12/31/2021</td>\n",
       "      <td>13</td>\n",
       "      <td>11</td>\n",
       "      <td>18</td>\n",
       "      <td>231</td>\n",
       "      <td>SW</td>\n",
       "      <td>122</td>\n",
       "      <td>Overcast</td>\n",
       "      <td>0.0</td>\n",
       "      <td>0.0</td>\n",
       "      <td>85</td>\n",
       "      <td>10</td>\n",
       "      <td>6</td>\n",
       "      <td>1021</td>\n",
       "      <td>30</td>\n",
       "      <td>99</td>\n",
       "      <td>17</td>\n",
       "      <td>27</td>\n",
       "      <td>1</td>\n",
       "    </tr>\n",
       "  </tbody>\n",
       "</table>\n",
       "<p>8768 rows × 20 columns</p>\n",
       "</div>"
      ],
      "text/plain": [
       "      time        date  tempC  windspeedMiles  windspeedKmph  winddirDegree  \\\n",
       "0        0    1/1/2019      9               6             10            272   \n",
       "1      300    1/1/2019      8               7             11            278   \n",
       "2      600    1/1/2019      7               8             12            284   \n",
       "3      900    1/1/2019      7               8             13            294   \n",
       "4     1200    1/1/2019      9               9             15            320   \n",
       "...    ...         ...    ...             ...            ...            ...   \n",
       "8763   900  12/31/2021     12              14             23            206   \n",
       "8764  1200  12/31/2021     13              13             21            226   \n",
       "8765  1500  12/31/2021     14              12             19            227   \n",
       "8766  1800  12/31/2021     12              13             20            227   \n",
       "8767  2100  12/31/2021     13              11             18            231   \n",
       "\n",
       "     winddir16Point  weatherCode    weatherDesc  precipMM  precipInches  \\\n",
       "0                 W          122       Overcast       0.0           0.0   \n",
       "1                 W          116  Partly cloudy       0.0           0.0   \n",
       "2               WNW          113          Sunny       0.0           0.0   \n",
       "3               WNW          116  Partly cloudy       0.0           0.0   \n",
       "4                NW          116  Partly cloudy       0.0           0.0   \n",
       "...             ...          ...            ...       ...           ...   \n",
       "8763            SSW          122       Overcast       0.0           0.0   \n",
       "8764             SW          122       Overcast       0.0           0.0   \n",
       "8765             SW          116  Partly cloudy       0.0           0.0   \n",
       "8766             SW          116  Partly cloudy       0.0           0.0   \n",
       "8767             SW          122       Overcast       0.0           0.0   \n",
       "\n",
       "      humidity  visibility  visibilityMiles  pressure  pressureInches  \\\n",
       "0           78          10                6      1035              31   \n",
       "1           85          10                6      1034              31   \n",
       "2           88          10                6      1034              31   \n",
       "3           88          10                6      1034              31   \n",
       "4           81          10                6      1035              31   \n",
       "...        ...         ...              ...       ...             ...   \n",
       "8763        82          10                6      1017              30   \n",
       "8764        82          10                6      1019              30   \n",
       "8765        81          10                6      1019              30   \n",
       "8766        90          10                6      1020              30   \n",
       "8767        85          10                6      1021              30   \n",
       "\n",
       "      cloudcover  WindGustMiles  WindGustKmph  uvIndex  \n",
       "0            100             10            15        1  \n",
       "1             34             10            17        1  \n",
       "2             25             11            18        3  \n",
       "3             38             13            20        3  \n",
       "4             57             13            21        3  \n",
       "...          ...            ...           ...      ...  \n",
       "8763          92             21            35        3  \n",
       "8764         100             18            29        3  \n",
       "8765          59             17            28        4  \n",
       "8766          32             20            32        1  \n",
       "8767          99             17            27        1  \n",
       "\n",
       "[8768 rows x 20 columns]"
      ]
     },
     "execution_count": 639,
     "metadata": {},
     "output_type": "execute_result"
    }
   ],
   "source": [
    "weather_data"
   ]
  },
  {
   "cell_type": "code",
   "execution_count": 640,
   "id": "fcd98f72",
   "metadata": {},
   "outputs": [
    {
     "name": "stdout",
     "output_type": "stream",
     "text": [
      "<class 'pandas.core.frame.DataFrame'>\n",
      "RangeIndex: 8768 entries, 0 to 8767\n",
      "Data columns (total 20 columns):\n",
      " #   Column           Non-Null Count  Dtype  \n",
      "---  ------           --------------  -----  \n",
      " 0   time             8768 non-null   int64  \n",
      " 1   date             8768 non-null   object \n",
      " 2   tempC            8768 non-null   int64  \n",
      " 3   windspeedMiles   8768 non-null   int64  \n",
      " 4   windspeedKmph    8768 non-null   int64  \n",
      " 5   winddirDegree    8768 non-null   int64  \n",
      " 6   winddir16Point   8768 non-null   object \n",
      " 7   weatherCode      8768 non-null   int64  \n",
      " 8   weatherDesc      8768 non-null   object \n",
      " 9   precipMM         8768 non-null   float64\n",
      " 10  precipInches     8768 non-null   float64\n",
      " 11  humidity         8768 non-null   int64  \n",
      " 12  visibility       8768 non-null   int64  \n",
      " 13  visibilityMiles  8768 non-null   int64  \n",
      " 14  pressure         8768 non-null   int64  \n",
      " 15  pressureInches   8768 non-null   int64  \n",
      " 16  cloudcover       8768 non-null   int64  \n",
      " 17  WindGustMiles    8768 non-null   int64  \n",
      " 18  WindGustKmph     8768 non-null   int64  \n",
      " 19  uvIndex          8768 non-null   int64  \n",
      "dtypes: float64(2), int64(15), object(3)\n",
      "memory usage: 1.3+ MB\n"
     ]
    }
   ],
   "source": [
    "#check the format of date\n",
    "weather_data.info()"
   ]
  },
  {
   "cell_type": "markdown",
   "id": "9ac9afba",
   "metadata": {},
   "source": [
    "#### cloudcover: \n",
    "Refers to the fraction of the sky obscured by clouds when observed from a particular location"
   ]
  },
  {
   "cell_type": "code",
   "execution_count": 641,
   "id": "3d7be3da",
   "metadata": {},
   "outputs": [],
   "source": [
    "#returns the time format HH:MM:SS of a given string\n",
    "def time_to_string(x):\n",
    "    if x == 0:\n",
    "        return '00:00:00'\n",
    "    x = str(x)\n",
    "    if len(x) == 3:\n",
    "        return \"0\" + x[0:1] + \":\" + x[1:3] +\":00\"\n",
    "    else:\n",
    "        return x[0:2] + \":\" + x[2:4] +\":00\""
   ]
  },
  {
   "cell_type": "code",
   "execution_count": 642,
   "id": "4e9ce651",
   "metadata": {},
   "outputs": [],
   "source": [
    "#change the format of the string to time format\n",
    "weather_data['time'] = weather_data['time'].apply(time_to_string)"
   ]
  },
  {
   "cell_type": "code",
   "execution_count": 643,
   "id": "59439779",
   "metadata": {
    "scrolled": true
   },
   "outputs": [],
   "source": [
    "#change the date format and convert to string format\n",
    "weather_data[\"date\"] = pd.to_datetime(weather_data.date)\n",
    "weather_data[\"date\"] = weather_data[\"date\"].dt.strftime('%Y-%m-%d')"
   ]
  },
  {
   "cell_type": "code",
   "execution_count": 644,
   "id": "7dc13fb5",
   "metadata": {},
   "outputs": [],
   "source": [
    "weather_data.insert(loc=0, column='datetime', value=weather_data[\"date\"] + \" \" + weather_data[\"time\"])\n",
    "weather_data = weather_data.drop(['date', 'time'],  axis=1)"
   ]
  },
  {
   "cell_type": "code",
   "execution_count": 645,
   "id": "3f43d3bc",
   "metadata": {},
   "outputs": [],
   "source": [
    "weather_data['datetime'] = pd.to_datetime(weather_data.datetime)\n",
    "weather_data['hour'] = weather_data['datetime'].dt.hour\n",
    "weather_data['year'] = weather_data['datetime'].dt.year\n",
    "weather_data['month'] = weather_data['datetime'].dt.month\n",
    "weather_data['day'] = weather_data['datetime'].dt.day\n",
    "weather_data = weather_data.drop(['datetime'],  axis=1)"
   ]
  },
  {
   "cell_type": "code",
   "execution_count": 646,
   "id": "50f21571",
   "metadata": {},
   "outputs": [
    {
     "data": {
      "text/html": [
       "<div>\n",
       "<style scoped>\n",
       "    .dataframe tbody tr th:only-of-type {\n",
       "        vertical-align: middle;\n",
       "    }\n",
       "\n",
       "    .dataframe tbody tr th {\n",
       "        vertical-align: top;\n",
       "    }\n",
       "\n",
       "    .dataframe thead th {\n",
       "        text-align: right;\n",
       "    }\n",
       "</style>\n",
       "<table border=\"1\" class=\"dataframe\">\n",
       "  <thead>\n",
       "    <tr style=\"text-align: right;\">\n",
       "      <th></th>\n",
       "      <th>tempC</th>\n",
       "      <th>windspeedMiles</th>\n",
       "      <th>windspeedKmph</th>\n",
       "      <th>winddirDegree</th>\n",
       "      <th>winddir16Point</th>\n",
       "      <th>weatherCode</th>\n",
       "      <th>weatherDesc</th>\n",
       "      <th>precipMM</th>\n",
       "      <th>precipInches</th>\n",
       "      <th>humidity</th>\n",
       "      <th>...</th>\n",
       "      <th>pressure</th>\n",
       "      <th>pressureInches</th>\n",
       "      <th>cloudcover</th>\n",
       "      <th>WindGustMiles</th>\n",
       "      <th>WindGustKmph</th>\n",
       "      <th>uvIndex</th>\n",
       "      <th>hour</th>\n",
       "      <th>year</th>\n",
       "      <th>month</th>\n",
       "      <th>day</th>\n",
       "    </tr>\n",
       "  </thead>\n",
       "  <tbody>\n",
       "    <tr>\n",
       "      <th>0</th>\n",
       "      <td>9</td>\n",
       "      <td>6</td>\n",
       "      <td>10</td>\n",
       "      <td>272</td>\n",
       "      <td>W</td>\n",
       "      <td>122</td>\n",
       "      <td>Overcast</td>\n",
       "      <td>0.0</td>\n",
       "      <td>0.0</td>\n",
       "      <td>78</td>\n",
       "      <td>...</td>\n",
       "      <td>1035</td>\n",
       "      <td>31</td>\n",
       "      <td>100</td>\n",
       "      <td>10</td>\n",
       "      <td>15</td>\n",
       "      <td>1</td>\n",
       "      <td>0</td>\n",
       "      <td>2019</td>\n",
       "      <td>1</td>\n",
       "      <td>1</td>\n",
       "    </tr>\n",
       "    <tr>\n",
       "      <th>1</th>\n",
       "      <td>8</td>\n",
       "      <td>7</td>\n",
       "      <td>11</td>\n",
       "      <td>278</td>\n",
       "      <td>W</td>\n",
       "      <td>116</td>\n",
       "      <td>Partly cloudy</td>\n",
       "      <td>0.0</td>\n",
       "      <td>0.0</td>\n",
       "      <td>85</td>\n",
       "      <td>...</td>\n",
       "      <td>1034</td>\n",
       "      <td>31</td>\n",
       "      <td>34</td>\n",
       "      <td>10</td>\n",
       "      <td>17</td>\n",
       "      <td>1</td>\n",
       "      <td>3</td>\n",
       "      <td>2019</td>\n",
       "      <td>1</td>\n",
       "      <td>1</td>\n",
       "    </tr>\n",
       "    <tr>\n",
       "      <th>2</th>\n",
       "      <td>7</td>\n",
       "      <td>8</td>\n",
       "      <td>12</td>\n",
       "      <td>284</td>\n",
       "      <td>WNW</td>\n",
       "      <td>113</td>\n",
       "      <td>Sunny</td>\n",
       "      <td>0.0</td>\n",
       "      <td>0.0</td>\n",
       "      <td>88</td>\n",
       "      <td>...</td>\n",
       "      <td>1034</td>\n",
       "      <td>31</td>\n",
       "      <td>25</td>\n",
       "      <td>11</td>\n",
       "      <td>18</td>\n",
       "      <td>3</td>\n",
       "      <td>6</td>\n",
       "      <td>2019</td>\n",
       "      <td>1</td>\n",
       "      <td>1</td>\n",
       "    </tr>\n",
       "    <tr>\n",
       "      <th>3</th>\n",
       "      <td>7</td>\n",
       "      <td>8</td>\n",
       "      <td>13</td>\n",
       "      <td>294</td>\n",
       "      <td>WNW</td>\n",
       "      <td>116</td>\n",
       "      <td>Partly cloudy</td>\n",
       "      <td>0.0</td>\n",
       "      <td>0.0</td>\n",
       "      <td>88</td>\n",
       "      <td>...</td>\n",
       "      <td>1034</td>\n",
       "      <td>31</td>\n",
       "      <td>38</td>\n",
       "      <td>13</td>\n",
       "      <td>20</td>\n",
       "      <td>3</td>\n",
       "      <td>9</td>\n",
       "      <td>2019</td>\n",
       "      <td>1</td>\n",
       "      <td>1</td>\n",
       "    </tr>\n",
       "    <tr>\n",
       "      <th>4</th>\n",
       "      <td>9</td>\n",
       "      <td>9</td>\n",
       "      <td>15</td>\n",
       "      <td>320</td>\n",
       "      <td>NW</td>\n",
       "      <td>116</td>\n",
       "      <td>Partly cloudy</td>\n",
       "      <td>0.0</td>\n",
       "      <td>0.0</td>\n",
       "      <td>81</td>\n",
       "      <td>...</td>\n",
       "      <td>1035</td>\n",
       "      <td>31</td>\n",
       "      <td>57</td>\n",
       "      <td>13</td>\n",
       "      <td>21</td>\n",
       "      <td>3</td>\n",
       "      <td>12</td>\n",
       "      <td>2019</td>\n",
       "      <td>1</td>\n",
       "      <td>1</td>\n",
       "    </tr>\n",
       "    <tr>\n",
       "      <th>5</th>\n",
       "      <td>10</td>\n",
       "      <td>7</td>\n",
       "      <td>12</td>\n",
       "      <td>338</td>\n",
       "      <td>NNW</td>\n",
       "      <td>122</td>\n",
       "      <td>Overcast</td>\n",
       "      <td>0.1</td>\n",
       "      <td>0.0</td>\n",
       "      <td>81</td>\n",
       "      <td>...</td>\n",
       "      <td>1035</td>\n",
       "      <td>31</td>\n",
       "      <td>89</td>\n",
       "      <td>10</td>\n",
       "      <td>17</td>\n",
       "      <td>2</td>\n",
       "      <td>15</td>\n",
       "      <td>2019</td>\n",
       "      <td>1</td>\n",
       "      <td>1</td>\n",
       "    </tr>\n",
       "    <tr>\n",
       "      <th>6</th>\n",
       "      <td>9</td>\n",
       "      <td>7</td>\n",
       "      <td>12</td>\n",
       "      <td>13</td>\n",
       "      <td>NNE</td>\n",
       "      <td>176</td>\n",
       "      <td>Patchy rain possible</td>\n",
       "      <td>0.2</td>\n",
       "      <td>0.0</td>\n",
       "      <td>74</td>\n",
       "      <td>...</td>\n",
       "      <td>1037</td>\n",
       "      <td>31</td>\n",
       "      <td>45</td>\n",
       "      <td>9</td>\n",
       "      <td>14</td>\n",
       "      <td>1</td>\n",
       "      <td>18</td>\n",
       "      <td>2019</td>\n",
       "      <td>1</td>\n",
       "      <td>1</td>\n",
       "    </tr>\n",
       "    <tr>\n",
       "      <th>7</th>\n",
       "      <td>7</td>\n",
       "      <td>8</td>\n",
       "      <td>13</td>\n",
       "      <td>15</td>\n",
       "      <td>NNE</td>\n",
       "      <td>116</td>\n",
       "      <td>Partly cloudy</td>\n",
       "      <td>0.0</td>\n",
       "      <td>0.0</td>\n",
       "      <td>69</td>\n",
       "      <td>...</td>\n",
       "      <td>1039</td>\n",
       "      <td>31</td>\n",
       "      <td>42</td>\n",
       "      <td>11</td>\n",
       "      <td>17</td>\n",
       "      <td>1</td>\n",
       "      <td>21</td>\n",
       "      <td>2019</td>\n",
       "      <td>1</td>\n",
       "      <td>1</td>\n",
       "    </tr>\n",
       "    <tr>\n",
       "      <th>8</th>\n",
       "      <td>6</td>\n",
       "      <td>8</td>\n",
       "      <td>12</td>\n",
       "      <td>11</td>\n",
       "      <td>NNE</td>\n",
       "      <td>113</td>\n",
       "      <td>Clear</td>\n",
       "      <td>0.0</td>\n",
       "      <td>0.0</td>\n",
       "      <td>73</td>\n",
       "      <td>...</td>\n",
       "      <td>1041</td>\n",
       "      <td>31</td>\n",
       "      <td>12</td>\n",
       "      <td>10</td>\n",
       "      <td>16</td>\n",
       "      <td>1</td>\n",
       "      <td>0</td>\n",
       "      <td>2019</td>\n",
       "      <td>1</td>\n",
       "      <td>2</td>\n",
       "    </tr>\n",
       "    <tr>\n",
       "      <th>9</th>\n",
       "      <td>4</td>\n",
       "      <td>8</td>\n",
       "      <td>13</td>\n",
       "      <td>356</td>\n",
       "      <td>N</td>\n",
       "      <td>113</td>\n",
       "      <td>Clear</td>\n",
       "      <td>0.0</td>\n",
       "      <td>0.0</td>\n",
       "      <td>74</td>\n",
       "      <td>...</td>\n",
       "      <td>1042</td>\n",
       "      <td>31</td>\n",
       "      <td>14</td>\n",
       "      <td>11</td>\n",
       "      <td>17</td>\n",
       "      <td>1</td>\n",
       "      <td>3</td>\n",
       "      <td>2019</td>\n",
       "      <td>1</td>\n",
       "      <td>2</td>\n",
       "    </tr>\n",
       "  </tbody>\n",
       "</table>\n",
       "<p>10 rows × 22 columns</p>\n",
       "</div>"
      ],
      "text/plain": [
       "   tempC  windspeedMiles  windspeedKmph  winddirDegree winddir16Point  \\\n",
       "0      9               6             10            272              W   \n",
       "1      8               7             11            278              W   \n",
       "2      7               8             12            284            WNW   \n",
       "3      7               8             13            294            WNW   \n",
       "4      9               9             15            320             NW   \n",
       "5     10               7             12            338            NNW   \n",
       "6      9               7             12             13            NNE   \n",
       "7      7               8             13             15            NNE   \n",
       "8      6               8             12             11            NNE   \n",
       "9      4               8             13            356              N   \n",
       "\n",
       "   weatherCode           weatherDesc  precipMM  precipInches  humidity  ...  \\\n",
       "0          122              Overcast       0.0           0.0        78  ...   \n",
       "1          116         Partly cloudy       0.0           0.0        85  ...   \n",
       "2          113                 Sunny       0.0           0.0        88  ...   \n",
       "3          116         Partly cloudy       0.0           0.0        88  ...   \n",
       "4          116         Partly cloudy       0.0           0.0        81  ...   \n",
       "5          122              Overcast       0.1           0.0        81  ...   \n",
       "6          176  Patchy rain possible       0.2           0.0        74  ...   \n",
       "7          116         Partly cloudy       0.0           0.0        69  ...   \n",
       "8          113                 Clear       0.0           0.0        73  ...   \n",
       "9          113                 Clear       0.0           0.0        74  ...   \n",
       "\n",
       "   pressure  pressureInches  cloudcover  WindGustMiles  WindGustKmph  uvIndex  \\\n",
       "0      1035              31         100             10            15        1   \n",
       "1      1034              31          34             10            17        1   \n",
       "2      1034              31          25             11            18        3   \n",
       "3      1034              31          38             13            20        3   \n",
       "4      1035              31          57             13            21        3   \n",
       "5      1035              31          89             10            17        2   \n",
       "6      1037              31          45              9            14        1   \n",
       "7      1039              31          42             11            17        1   \n",
       "8      1041              31          12             10            16        1   \n",
       "9      1042              31          14             11            17        1   \n",
       "\n",
       "   hour  year  month  day  \n",
       "0     0  2019      1    1  \n",
       "1     3  2019      1    1  \n",
       "2     6  2019      1    1  \n",
       "3     9  2019      1    1  \n",
       "4    12  2019      1    1  \n",
       "5    15  2019      1    1  \n",
       "6    18  2019      1    1  \n",
       "7    21  2019      1    1  \n",
       "8     0  2019      1    2  \n",
       "9     3  2019      1    2  \n",
       "\n",
       "[10 rows x 22 columns]"
      ]
     },
     "execution_count": 646,
     "metadata": {},
     "output_type": "execute_result"
    }
   ],
   "source": [
    "weather_data.head(10)"
   ]
  },
  {
   "cell_type": "code",
   "execution_count": 647,
   "id": "701f2db7",
   "metadata": {},
   "outputs": [
    {
     "data": {
      "text/plain": [
       "tempC              0\n",
       "windspeedMiles     0\n",
       "windspeedKmph      0\n",
       "winddirDegree      0\n",
       "winddir16Point     0\n",
       "weatherCode        0\n",
       "weatherDesc        0\n",
       "precipMM           0\n",
       "precipInches       0\n",
       "humidity           0\n",
       "visibility         0\n",
       "visibilityMiles    0\n",
       "pressure           0\n",
       "pressureInches     0\n",
       "cloudcover         0\n",
       "WindGustMiles      0\n",
       "WindGustKmph       0\n",
       "uvIndex            0\n",
       "hour               0\n",
       "year               0\n",
       "month              0\n",
       "day                0\n",
       "dtype: int64"
      ]
     },
     "execution_count": 647,
     "metadata": {},
     "output_type": "execute_result"
    }
   ],
   "source": [
    "#checking for missing values\n",
    "missing_values = weather_data.isnull().sum()\n",
    "missing_values"
   ]
  },
  {
   "cell_type": "markdown",
   "id": "96b67f94",
   "metadata": {},
   "source": [
    "#### Comment:\n",
    "No missing values in the data"
   ]
  },
  {
   "cell_type": "markdown",
   "id": "b2adfa4f",
   "metadata": {},
   "source": [
    "## EDA"
   ]
  },
  {
   "cell_type": "markdown",
   "id": "d1d5ea93",
   "metadata": {},
   "source": [
    "#### Heat Map\n",
    "A correlation heatmap is a heatmap that shows a 2D correlation matrix between two discrete dimensions, using colored cells to represent data from usually a monochromatic scale. It ignore null and non-numeric values"
   ]
  },
  {
   "cell_type": "code",
   "execution_count": 648,
   "id": "c05ebe9d",
   "metadata": {},
   "outputs": [
    {
     "data": {
      "text/plain": [
       "<AxesSubplot:>"
      ]
     },
     "execution_count": 648,
     "metadata": {},
     "output_type": "execute_result"
    },
    {
     "data": {
      "image/png": "[encoded data removed]",
      "text/plain": [
       "<Figure size 1080x648 with 2 Axes>"
      ]
     },
     "metadata": {
      "needs_background": "light"
     },
     "output_type": "display_data"
    }
   ],
   "source": [
    "\n",
    "weather_corr = weather_data.corr()\n",
    "## increasing the plot figure size to see the correlation coefficient values clearly\n",
    "plt.subplots(figsize=(15, 9))\n",
    "sns.heatmap(weather_corr, annot=True)"
   ]
  },
  {
   "cell_type": "code",
   "execution_count": 649,
   "id": "9a5d9faf",
   "metadata": {},
   "outputs": [
    {
     "data": {
      "text/plain": [
       "<AxesSubplot:xlabel='visibility', ylabel='tempC'>"
      ]
     },
     "execution_count": 649,
     "metadata": {},
     "output_type": "execute_result"
    },
    {
     "data": {
      "image/png": "[encoded data removed]",
      "text/plain": [
       "<Figure size 432x288 with 1 Axes>"
      ]
     },
     "metadata": {
      "needs_background": "light"
     },
     "output_type": "display_data"
    }
   ],
   "source": [
    "sns.regplot(x=\"visibility\", y=\"tempC\", data=weather_data)"
   ]
  },
  {
   "cell_type": "markdown",
   "id": "1ff59ed1",
   "metadata": {},
   "source": [
    "### Comment:\n",
    "1) tempC and uvIndex are positively correlated. <br>\n",
    "2) tempC and humidity are negatively correlated. <br>\n",
    "    But, the amount of UV radiation that reaches the earth on any given day is not affected by air temperature.(According to domain research)<br><br>\n",
    "3) windspeedMiles, windspeedKmph have similar correlation values (obviously), one of them can be eliminated. <br>\n",
    "    It's the samecase with WindGustMiles, WindGustKmph & visibility, visibilityMiles. <br>\n",
    "4) Keeping the pressureInches column and dropping the actual pressure in millibars column because small numbers are easier to look at!  <br>\n"
   ]
  },
  {
   "cell_type": "markdown",
   "id": "108e409f",
   "metadata": {},
   "source": [
    "#### Since weatherCode, weatherDesc cols seem to have repeating values, so, I decided to check whether they are categorical in anyway"
   ]
  },
  {
   "cell_type": "code",
   "execution_count": 650,
   "id": "e8bfc908",
   "metadata": {},
   "outputs": [
    {
     "data": {
      "text/plain": [
       "37"
      ]
     },
     "execution_count": 650,
     "metadata": {},
     "output_type": "execute_result"
    }
   ],
   "source": [
    "len(weather_data.weatherCode.unique())"
   ]
  },
  {
   "cell_type": "code",
   "execution_count": 651,
   "id": "5eee7c2d",
   "metadata": {
    "scrolled": true
   },
   "outputs": [
    {
     "data": {
      "text/plain": [
       "38"
      ]
     },
     "execution_count": 651,
     "metadata": {},
     "output_type": "execute_result"
    }
   ],
   "source": [
    "len(weather_data.weatherDesc.unique())"
   ]
  },
  {
   "cell_type": "markdown",
   "id": "c9839a07",
   "metadata": {},
   "source": [
    "### Since they have unique values that very close, checked whether they are related somehow."
   ]
  },
  {
   "cell_type": "code",
   "execution_count": 652,
   "id": "6c149e83",
   "metadata": {},
   "outputs": [
    {
     "data": {
      "text/plain": [
       "116    3094\n",
       "113    1308\n",
       "122    1238\n",
       "119     808\n",
       "176     592\n",
       "353     547\n",
       "296     272\n",
       "266     255\n",
       "302     178\n",
       "143     121\n",
       "356      49\n",
       "248      40\n",
       "308      35\n",
       "338      34\n",
       "293      33\n",
       "263      30\n",
       "299      27\n",
       "200      14\n",
       "317      12\n",
       "389      10\n",
       "332      10\n",
       "311       7\n",
       "326       7\n",
       "371       7\n",
       "305       6\n",
       "386       5\n",
       "182       4\n",
       "362       4\n",
       "329       4\n",
       "335       4\n",
       "323       3\n",
       "359       3\n",
       "230       2\n",
       "368       2\n",
       "395       1\n",
       "227       1\n",
       "320       1\n",
       "Name: weatherCode, dtype: int64"
      ]
     },
     "execution_count": 652,
     "metadata": {},
     "output_type": "execute_result"
    }
   ],
   "source": [
    "weather_data.weatherCode.value_counts()"
   ]
  },
  {
   "cell_type": "code",
   "execution_count": 653,
   "id": "3cca935e",
   "metadata": {},
   "outputs": [
    {
     "data": {
      "text/plain": [
       "Partly cloudy                          3094\n",
       "Overcast                               1238\n",
       "Cloudy                                  808\n",
       "Clear                                   684\n",
       "Sunny                                   624\n",
       "Patchy rain possible                    592\n",
       "Light rain shower                       547\n",
       "Light rain                              272\n",
       "Light drizzle                           255\n",
       "Moderate rain                           178\n",
       "Mist                                    121\n",
       "Moderate or heavy rain shower            49\n",
       "Fog                                      40\n",
       "Heavy rain                               35\n",
       "Heavy snow                               34\n",
       "Patchy light rain                        33\n",
       "Patchy light drizzle                     30\n",
       "Moderate rain at times                   27\n",
       "Thundery outbreaks possible              14\n",
       "Light sleet                              12\n",
       "Moderate snow                            10\n",
       "Moderate or heavy rain with thunder      10\n",
       "Light freezing rain                       7\n",
       "Moderate or heavy snow showers            7\n",
       "Light snow                                7\n",
       "Heavy rain at times                       6\n",
       "Patchy light rain with thunder            5\n",
       "Light sleet showers                       4\n",
       "Patchy heavy snow                         4\n",
       "Patchy sleet possible                     4\n",
       "Patchy moderate snow                      4\n",
       "Torrential rain shower                    3\n",
       "Patchy light snow                         3\n",
       "Light snow showers                        2\n",
       "Blizzard                                  2\n",
       "Moderate or heavy sleet                   1\n",
       "Blowing snow                              1\n",
       "Moderate or heavy snow with thunder       1\n",
       "Name: weatherDesc, dtype: int64"
      ]
     },
     "execution_count": 653,
     "metadata": {},
     "output_type": "execute_result"
    }
   ],
   "source": [
    "weather_data.weatherDesc.value_counts()"
   ]
  },
  {
   "cell_type": "markdown",
   "id": "eb88995b",
   "metadata": {},
   "source": [
    "### I love this! \n",
    "count(weatherCode['113']= 1308 = count(weatherDesc['Clear']) + count(weatherCode['Sunny']) and counts of the rest of the values are matching too!!!<br>\n",
    "\n",
    "This means weatherDesc and weatherCode are similar columns. Thus, one of them can be ignored. Since, weatherDesc is more specific, I decided to drop the weatherCode col.\n",
    "\n",
    "The winddirDegree and winddir16Point cols indicate the same thing - the direction of the wind. Therefore one of them can be dropped. I am dropping the winddir16Point as it is categorical and non-numeric. "
   ]
  },
  {
   "cell_type": "code",
   "execution_count": 654,
   "id": "845a6269",
   "metadata": {},
   "outputs": [
    {
     "data": {
      "text/plain": [
       "0.0    8180\n",
       "0.1     420\n",
       "0.2      96\n",
       "0.3      45\n",
       "0.4      12\n",
       "0.5       7\n",
       "0.6       5\n",
       "0.7       2\n",
       "0.8       1\n",
       "Name: precipInches, dtype: int64"
      ]
     },
     "execution_count": 654,
     "metadata": {},
     "output_type": "execute_result"
    }
   ],
   "source": [
    "weather_data.precipInches.value_counts() "
   ]
  },
  {
   "cell_type": "code",
   "execution_count": 655,
   "id": "520db0eb",
   "metadata": {},
   "outputs": [
    {
     "data": {
      "text/plain": [
       "0.0     6405\n",
       "0.1      603\n",
       "0.2      277\n",
       "0.3      193\n",
       "0.4      145\n",
       "        ... \n",
       "16.3       1\n",
       "8.5        1\n",
       "5.6        1\n",
       "8.8        1\n",
       "8.2        1\n",
       "Name: precipMM, Length: 107, dtype: int64"
      ]
     },
     "execution_count": 655,
     "metadata": {},
     "output_type": "execute_result"
    }
   ],
   "source": [
    "weather_data.precipMM.value_counts() "
   ]
  },
  {
   "cell_type": "code",
   "execution_count": 656,
   "id": "ba67e3e0",
   "metadata": {},
   "outputs": [
    {
     "data": {
      "text/plain": [
       "False"
      ]
     },
     "execution_count": 656,
     "metadata": {},
     "output_type": "execute_result"
    }
   ],
   "source": [
    "weather_data['precipMM'].equals(25.4 * weather_data['precipInches'])"
   ]
  },
  {
   "cell_type": "markdown",
   "id": "f247de03",
   "metadata": {},
   "source": [
    "The value of both the columns are not matching but they mean the same thing, the precipInches column has very few values when compared to precipMM, the reason for this is unclear but since both of them indicate the same entity - amount of water per square meter of earth surface. Therefore one of them can be dropped. I am dropping precipInches since this col is discrete."
   ]
  },
  {
   "cell_type": "code",
   "execution_count": 657,
   "id": "7eb778a8",
   "metadata": {},
   "outputs": [],
   "source": [
    "weather_data = weather_data.drop(['windspeedMiles', 'WindGustMiles', 'visibilityMiles', 'pressure', 'weatherCode', 'winddir16Point', 'precipInches'], axis=1)"
   ]
  },
  {
   "cell_type": "code",
   "execution_count": 658,
   "id": "1fc5e624",
   "metadata": {},
   "outputs": [
    {
     "name": "stdout",
     "output_type": "stream",
     "text": [
      "<class 'pandas.core.frame.DataFrame'>\n",
      "RangeIndex: 8768 entries, 0 to 8767\n",
      "Data columns (total 15 columns):\n",
      " #   Column          Non-Null Count  Dtype  \n",
      "---  ------          --------------  -----  \n",
      " 0   tempC           8768 non-null   int64  \n",
      " 1   windspeedKmph   8768 non-null   int64  \n",
      " 2   winddirDegree   8768 non-null   int64  \n",
      " 3   weatherDesc     8768 non-null   object \n",
      " 4   precipMM        8768 non-null   float64\n",
      " 5   humidity        8768 non-null   int64  \n",
      " 6   visibility      8768 non-null   int64  \n",
      " 7   pressureInches  8768 non-null   int64  \n",
      " 8   cloudcover      8768 non-null   int64  \n",
      " 9   WindGustKmph    8768 non-null   int64  \n",
      " 10  uvIndex         8768 non-null   int64  \n",
      " 11  hour            8768 non-null   int64  \n",
      " 12  year            8768 non-null   int64  \n",
      " 13  month           8768 non-null   int64  \n",
      " 14  day             8768 non-null   int64  \n",
      "dtypes: float64(1), int64(13), object(1)\n",
      "memory usage: 1.0+ MB\n"
     ]
    }
   ],
   "source": [
    "weather_data.info()"
   ]
  },
  {
   "cell_type": "markdown",
   "id": "8d84b205",
   "metadata": {},
   "source": [
    "### Feature Encoding"
   ]
  },
  {
   "cell_type": "markdown",
   "id": "e5b87994",
   "metadata": {},
   "source": [
    "Converting all the non-numeric features into numerical value using feature encoding - Target Encoding or Mean encoding"
   ]
  },
  {
   "cell_type": "code",
   "execution_count": 659,
   "id": "632ce8e1",
   "metadata": {},
   "outputs": [
    {
     "name": "stdout",
     "output_type": "stream",
     "text": [
      "Requirement already satisfied: category_encoders in c:\\users\\ravit\\anaconda3\\lib\\site-packages (2.4.0)\n",
      "Requirement already satisfied: statsmodels>=0.9.0 in c:\\users\\ravit\\anaconda3\\lib\\site-packages (from category_encoders) (0.12.2)\n",
      "Requirement already satisfied: pandas>=0.21.1 in c:\\users\\ravit\\anaconda3\\lib\\site-packages (from category_encoders) (1.2.4)\n",
      "Requirement already satisfied: patsy>=0.5.1 in c:\\users\\ravit\\anaconda3\\lib\\site-packages (from category_encoders) (0.5.1)\n",
      "Requirement already satisfied: numpy>=1.14.0 in c:\\users\\ravit\\anaconda3\\lib\\site-packages (from category_encoders) (1.20.1)\n",
      "Requirement already satisfied: scipy>=1.0.0 in c:\\users\\ravit\\anaconda3\\lib\\site-packages (from category_encoders) (1.6.2)\n",
      "Requirement already satisfied: scikit-learn>=0.20.0 in c:\\users\\ravit\\anaconda3\\lib\\site-packages (from category_encoders) (0.24.1)\n",
      "Requirement already satisfied: python-dateutil>=2.7.3 in c:\\users\\ravit\\anaconda3\\lib\\site-packages (from pandas>=0.21.1->category_encoders) (2.8.1)\n",
      "Requirement already satisfied: pytz>=2017.3 in c:\\users\\ravit\\anaconda3\\lib\\site-packages (from pandas>=0.21.1->category_encoders) (2021.1)\n",
      "Requirement already satisfied: six in c:\\users\\ravit\\anaconda3\\lib\\site-packages (from patsy>=0.5.1->category_encoders) (1.15.0)\n",
      "Requirement already satisfied: joblib>=0.11 in c:\\users\\ravit\\anaconda3\\lib\\site-packages (from scikit-learn>=0.20.0->category_encoders) (1.0.1)\n",
      "Requirement already satisfied: threadpoolctl>=2.0.0 in c:\\users\\ravit\\anaconda3\\lib\\site-packages (from scikit-learn>=0.20.0->category_encoders) (2.1.0)\n",
      "Note: you may need to restart the kernel to use updated packages.\n"
     ]
    }
   ],
   "source": [
    "pip install category_encoders"
   ]
  },
  {
   "cell_type": "code",
   "execution_count": 660,
   "id": "0ca55ff5",
   "metadata": {},
   "outputs": [],
   "source": [
    "from category_encoders import TargetEncoder\n",
    "from category_encoders import OneHotEncoder"
   ]
  },
  {
   "cell_type": "code",
   "execution_count": 661,
   "id": "ce129938",
   "metadata": {},
   "outputs": [],
   "source": [
    "description_encoder = TargetEncoder()\n",
    "weather_data['weatherDesc'] = description_encoder.fit_transform(weather_data['weatherDesc'], weather_data['tempC'])"
   ]
  },
  {
   "cell_type": "code",
   "execution_count": 662,
   "id": "7983d6e1",
   "metadata": {},
   "outputs": [],
   "source": [
    "def encode(data, col, max_val):\n",
    "    data[col + '_sin'] = np.sin(2 * np.pi * data[col]/max_val)\n",
    "    data[col + '_cos'] = np.cos(2 * np.pi * data[col]/max_val)\n",
    "    return data\n",
    "\n",
    "\n",
    "weather_data = encode(weather_data, 'month', 12)\n",
    "weather_data = weather_data.drop(['month'],  axis=1)\n",
    "weather_data = encode(weather_data, 'day', 365)\n",
    "weather_data = weather_data.drop(['day'],  axis=1)\n",
    "weather_data = weather_data.drop(['year'],  axis=1)"
   ]
  },
  {
   "cell_type": "markdown",
   "id": "8de0d2aa",
   "metadata": {},
   "source": [
    "### Feature Scaling"
   ]
  },
  {
   "cell_type": "markdown",
   "id": "488de688",
   "metadata": {},
   "source": [
    "#### Min-Max Scaling\n",
    "Regression models perform better when features are on a relatively similar scale and/or close to normally distributed."
   ]
  },
  {
   "cell_type": "code",
   "execution_count": 663,
   "id": "dca3845d",
   "metadata": {},
   "outputs": [
    {
     "data": {
      "text/html": [
       "<div>\n",
       "<style scoped>\n",
       "    .dataframe tbody tr th:only-of-type {\n",
       "        vertical-align: middle;\n",
       "    }\n",
       "\n",
       "    .dataframe tbody tr th {\n",
       "        vertical-align: top;\n",
       "    }\n",
       "\n",
       "    .dataframe thead th {\n",
       "        text-align: right;\n",
       "    }\n",
       "</style>\n",
       "<table border=\"1\" class=\"dataframe\">\n",
       "  <thead>\n",
       "    <tr style=\"text-align: right;\">\n",
       "      <th></th>\n",
       "      <th>tempC</th>\n",
       "      <th>windspeedKmph</th>\n",
       "      <th>winddirDegree</th>\n",
       "      <th>weatherDesc</th>\n",
       "      <th>precipMM</th>\n",
       "      <th>humidity</th>\n",
       "      <th>visibility</th>\n",
       "      <th>pressureInches</th>\n",
       "      <th>cloudcover</th>\n",
       "      <th>WindGustKmph</th>\n",
       "      <th>uvIndex</th>\n",
       "      <th>hour</th>\n",
       "      <th>month_sin</th>\n",
       "      <th>month_cos</th>\n",
       "      <th>day_sin</th>\n",
       "      <th>day_cos</th>\n",
       "    </tr>\n",
       "  </thead>\n",
       "  <tbody>\n",
       "    <tr>\n",
       "      <th>0</th>\n",
       "      <td>9</td>\n",
       "      <td>10</td>\n",
       "      <td>272</td>\n",
       "      <td>11.235057</td>\n",
       "      <td>0.0</td>\n",
       "      <td>78</td>\n",
       "      <td>10</td>\n",
       "      <td>31</td>\n",
       "      <td>100</td>\n",
       "      <td>15</td>\n",
       "      <td>1</td>\n",
       "      <td>0</td>\n",
       "      <td>0.5</td>\n",
       "      <td>0.866025</td>\n",
       "      <td>0.017213</td>\n",
       "      <td>0.999852</td>\n",
       "    </tr>\n",
       "    <tr>\n",
       "      <th>1</th>\n",
       "      <td>8</td>\n",
       "      <td>11</td>\n",
       "      <td>278</td>\n",
       "      <td>12.768908</td>\n",
       "      <td>0.0</td>\n",
       "      <td>85</td>\n",
       "      <td>10</td>\n",
       "      <td>31</td>\n",
       "      <td>34</td>\n",
       "      <td>17</td>\n",
       "      <td>1</td>\n",
       "      <td>3</td>\n",
       "      <td>0.5</td>\n",
       "      <td>0.866025</td>\n",
       "      <td>0.017213</td>\n",
       "      <td>0.999852</td>\n",
       "    </tr>\n",
       "    <tr>\n",
       "      <th>2</th>\n",
       "      <td>7</td>\n",
       "      <td>12</td>\n",
       "      <td>284</td>\n",
       "      <td>14.185897</td>\n",
       "      <td>0.0</td>\n",
       "      <td>88</td>\n",
       "      <td>10</td>\n",
       "      <td>31</td>\n",
       "      <td>25</td>\n",
       "      <td>18</td>\n",
       "      <td>3</td>\n",
       "      <td>6</td>\n",
       "      <td>0.5</td>\n",
       "      <td>0.866025</td>\n",
       "      <td>0.017213</td>\n",
       "      <td>0.999852</td>\n",
       "    </tr>\n",
       "    <tr>\n",
       "      <th>3</th>\n",
       "      <td>7</td>\n",
       "      <td>13</td>\n",
       "      <td>294</td>\n",
       "      <td>12.768908</td>\n",
       "      <td>0.0</td>\n",
       "      <td>88</td>\n",
       "      <td>10</td>\n",
       "      <td>31</td>\n",
       "      <td>38</td>\n",
       "      <td>20</td>\n",
       "      <td>3</td>\n",
       "      <td>9</td>\n",
       "      <td>0.5</td>\n",
       "      <td>0.866025</td>\n",
       "      <td>0.017213</td>\n",
       "      <td>0.999852</td>\n",
       "    </tr>\n",
       "    <tr>\n",
       "      <th>4</th>\n",
       "      <td>9</td>\n",
       "      <td>15</td>\n",
       "      <td>320</td>\n",
       "      <td>12.768908</td>\n",
       "      <td>0.0</td>\n",
       "      <td>81</td>\n",
       "      <td>10</td>\n",
       "      <td>31</td>\n",
       "      <td>57</td>\n",
       "      <td>21</td>\n",
       "      <td>3</td>\n",
       "      <td>12</td>\n",
       "      <td>0.5</td>\n",
       "      <td>0.866025</td>\n",
       "      <td>0.017213</td>\n",
       "      <td>0.999852</td>\n",
       "    </tr>\n",
       "  </tbody>\n",
       "</table>\n",
       "</div>"
      ],
      "text/plain": [
       "   tempC  windspeedKmph  winddirDegree  weatherDesc  precipMM  humidity  \\\n",
       "0      9             10            272    11.235057       0.0        78   \n",
       "1      8             11            278    12.768908       0.0        85   \n",
       "2      7             12            284    14.185897       0.0        88   \n",
       "3      7             13            294    12.768908       0.0        88   \n",
       "4      9             15            320    12.768908       0.0        81   \n",
       "\n",
       "   visibility  pressureInches  cloudcover  WindGustKmph  uvIndex  hour  \\\n",
       "0          10              31         100            15        1     0   \n",
       "1          10              31          34            17        1     3   \n",
       "2          10              31          25            18        3     6   \n",
       "3          10              31          38            20        3     9   \n",
       "4          10              31          57            21        3    12   \n",
       "\n",
       "   month_sin  month_cos   day_sin   day_cos  \n",
       "0        0.5   0.866025  0.017213  0.999852  \n",
       "1        0.5   0.866025  0.017213  0.999852  \n",
       "2        0.5   0.866025  0.017213  0.999852  \n",
       "3        0.5   0.866025  0.017213  0.999852  \n",
       "4        0.5   0.866025  0.017213  0.999852  "
      ]
     },
     "execution_count": 663,
     "metadata": {},
     "output_type": "execute_result"
    }
   ],
   "source": [
    "weather_data.head()"
   ]
  },
  {
   "cell_type": "code",
   "execution_count": 664,
   "id": "ade6c271",
   "metadata": {},
   "outputs": [],
   "source": [
    "from sklearn import preprocessing\n",
    "mm_scaler = preprocessing.MinMaxScaler()\n",
    "weather_data_scaled = mm_scaler.fit_transform(weather_data)\n",
    "weather_data_final = pd.DataFrame(weather_data_scaled, columns = weather_data.columns)"
   ]
  },
  {
   "cell_type": "code",
   "execution_count": 665,
   "id": "fee094df",
   "metadata": {},
   "outputs": [
    {
     "data": {
      "text/html": [
       "<div>\n",
       "<style scoped>\n",
       "    .dataframe tbody tr th:only-of-type {\n",
       "        vertical-align: middle;\n",
       "    }\n",
       "\n",
       "    .dataframe tbody tr th {\n",
       "        vertical-align: top;\n",
       "    }\n",
       "\n",
       "    .dataframe thead th {\n",
       "        text-align: right;\n",
       "    }\n",
       "</style>\n",
       "<table border=\"1\" class=\"dataframe\">\n",
       "  <thead>\n",
       "    <tr style=\"text-align: right;\">\n",
       "      <th></th>\n",
       "      <th>tempC</th>\n",
       "      <th>windspeedKmph</th>\n",
       "      <th>winddirDegree</th>\n",
       "      <th>weatherDesc</th>\n",
       "      <th>precipMM</th>\n",
       "      <th>humidity</th>\n",
       "      <th>visibility</th>\n",
       "      <th>pressureInches</th>\n",
       "      <th>cloudcover</th>\n",
       "      <th>WindGustKmph</th>\n",
       "      <th>uvIndex</th>\n",
       "      <th>hour</th>\n",
       "      <th>month_sin</th>\n",
       "      <th>month_cos</th>\n",
       "      <th>day_sin</th>\n",
       "      <th>day_cos</th>\n",
       "    </tr>\n",
       "  </thead>\n",
       "  <tbody>\n",
       "    <tr>\n",
       "      <th>0</th>\n",
       "      <td>0.372093</td>\n",
       "      <td>0.20</td>\n",
       "      <td>0.755556</td>\n",
       "      <td>0.546567</td>\n",
       "      <td>0.0</td>\n",
       "      <td>0.734177</td>\n",
       "      <td>1.0</td>\n",
       "      <td>1.0</td>\n",
       "      <td>1.00</td>\n",
       "      <td>0.211268</td>\n",
       "      <td>0.00</td>\n",
       "      <td>0.000000</td>\n",
       "      <td>0.75</td>\n",
       "      <td>0.933013</td>\n",
       "      <td>0.0</td>\n",
       "      <td>1.0</td>\n",
       "    </tr>\n",
       "    <tr>\n",
       "      <th>1</th>\n",
       "      <td>0.348837</td>\n",
       "      <td>0.22</td>\n",
       "      <td>0.772222</td>\n",
       "      <td>0.616086</td>\n",
       "      <td>0.0</td>\n",
       "      <td>0.822785</td>\n",
       "      <td>1.0</td>\n",
       "      <td>1.0</td>\n",
       "      <td>0.34</td>\n",
       "      <td>0.239437</td>\n",
       "      <td>0.00</td>\n",
       "      <td>0.142857</td>\n",
       "      <td>0.75</td>\n",
       "      <td>0.933013</td>\n",
       "      <td>0.0</td>\n",
       "      <td>1.0</td>\n",
       "    </tr>\n",
       "    <tr>\n",
       "      <th>2</th>\n",
       "      <td>0.325581</td>\n",
       "      <td>0.24</td>\n",
       "      <td>0.788889</td>\n",
       "      <td>0.680309</td>\n",
       "      <td>0.0</td>\n",
       "      <td>0.860759</td>\n",
       "      <td>1.0</td>\n",
       "      <td>1.0</td>\n",
       "      <td>0.25</td>\n",
       "      <td>0.253521</td>\n",
       "      <td>0.25</td>\n",
       "      <td>0.285714</td>\n",
       "      <td>0.75</td>\n",
       "      <td>0.933013</td>\n",
       "      <td>0.0</td>\n",
       "      <td>1.0</td>\n",
       "    </tr>\n",
       "    <tr>\n",
       "      <th>3</th>\n",
       "      <td>0.325581</td>\n",
       "      <td>0.26</td>\n",
       "      <td>0.816667</td>\n",
       "      <td>0.616086</td>\n",
       "      <td>0.0</td>\n",
       "      <td>0.860759</td>\n",
       "      <td>1.0</td>\n",
       "      <td>1.0</td>\n",
       "      <td>0.38</td>\n",
       "      <td>0.281690</td>\n",
       "      <td>0.25</td>\n",
       "      <td>0.428571</td>\n",
       "      <td>0.75</td>\n",
       "      <td>0.933013</td>\n",
       "      <td>0.0</td>\n",
       "      <td>1.0</td>\n",
       "    </tr>\n",
       "    <tr>\n",
       "      <th>4</th>\n",
       "      <td>0.372093</td>\n",
       "      <td>0.30</td>\n",
       "      <td>0.888889</td>\n",
       "      <td>0.616086</td>\n",
       "      <td>0.0</td>\n",
       "      <td>0.772152</td>\n",
       "      <td>1.0</td>\n",
       "      <td>1.0</td>\n",
       "      <td>0.57</td>\n",
       "      <td>0.295775</td>\n",
       "      <td>0.25</td>\n",
       "      <td>0.571429</td>\n",
       "      <td>0.75</td>\n",
       "      <td>0.933013</td>\n",
       "      <td>0.0</td>\n",
       "      <td>1.0</td>\n",
       "    </tr>\n",
       "  </tbody>\n",
       "</table>\n",
       "</div>"
      ],
      "text/plain": [
       "      tempC  windspeedKmph  winddirDegree  weatherDesc  precipMM  humidity  \\\n",
       "0  0.372093           0.20       0.755556     0.546567       0.0  0.734177   \n",
       "1  0.348837           0.22       0.772222     0.616086       0.0  0.822785   \n",
       "2  0.325581           0.24       0.788889     0.680309       0.0  0.860759   \n",
       "3  0.325581           0.26       0.816667     0.616086       0.0  0.860759   \n",
       "4  0.372093           0.30       0.888889     0.616086       0.0  0.772152   \n",
       "\n",
       "   visibility  pressureInches  cloudcover  WindGustKmph  uvIndex      hour  \\\n",
       "0         1.0             1.0        1.00      0.211268     0.00  0.000000   \n",
       "1         1.0             1.0        0.34      0.239437     0.00  0.142857   \n",
       "2         1.0             1.0        0.25      0.253521     0.25  0.285714   \n",
       "3         1.0             1.0        0.38      0.281690     0.25  0.428571   \n",
       "4         1.0             1.0        0.57      0.295775     0.25  0.571429   \n",
       "\n",
       "   month_sin  month_cos  day_sin  day_cos  \n",
       "0       0.75   0.933013      0.0      1.0  \n",
       "1       0.75   0.933013      0.0      1.0  \n",
       "2       0.75   0.933013      0.0      1.0  \n",
       "3       0.75   0.933013      0.0      1.0  \n",
       "4       0.75   0.933013      0.0      1.0  "
      ]
     },
     "execution_count": 665,
     "metadata": {},
     "output_type": "execute_result"
    }
   ],
   "source": [
    "weather_data_final.head()"
   ]
  },
  {
   "cell_type": "code",
   "execution_count": 666,
   "id": "a13ac671",
   "metadata": {},
   "outputs": [],
   "source": [
    "from sklearn.model_selection import train_test_split\n",
    "X = weather_data_final.iloc[:,1:]\n",
    "y = weather_data_final['tempC']\n",
    "X_train, X_test, y_train, y_test = train_test_split(X, y, test_size=0.2)"
   ]
  },
  {
   "cell_type": "code",
   "execution_count": 667,
   "id": "870b4ce9",
   "metadata": {},
   "outputs": [
    {
     "data": {
      "text/html": [
       "<div>\n",
       "<style scoped>\n",
       "    .dataframe tbody tr th:only-of-type {\n",
       "        vertical-align: middle;\n",
       "    }\n",
       "\n",
       "    .dataframe tbody tr th {\n",
       "        vertical-align: top;\n",
       "    }\n",
       "\n",
       "    .dataframe thead th {\n",
       "        text-align: right;\n",
       "    }\n",
       "</style>\n",
       "<table border=\"1\" class=\"dataframe\">\n",
       "  <thead>\n",
       "    <tr style=\"text-align: right;\">\n",
       "      <th></th>\n",
       "      <th>windspeedKmph</th>\n",
       "      <th>winddirDegree</th>\n",
       "      <th>weatherDesc</th>\n",
       "      <th>precipMM</th>\n",
       "      <th>humidity</th>\n",
       "      <th>visibility</th>\n",
       "      <th>pressureInches</th>\n",
       "      <th>cloudcover</th>\n",
       "      <th>WindGustKmph</th>\n",
       "      <th>uvIndex</th>\n",
       "      <th>hour</th>\n",
       "      <th>month_sin</th>\n",
       "      <th>month_cos</th>\n",
       "      <th>day_sin</th>\n",
       "      <th>day_cos</th>\n",
       "    </tr>\n",
       "  </thead>\n",
       "  <tbody>\n",
       "    <tr>\n",
       "      <th>0</th>\n",
       "      <td>0.20</td>\n",
       "      <td>0.755556</td>\n",
       "      <td>0.546567</td>\n",
       "      <td>0.0</td>\n",
       "      <td>0.734177</td>\n",
       "      <td>1.0</td>\n",
       "      <td>1.0</td>\n",
       "      <td>1.00</td>\n",
       "      <td>0.211268</td>\n",
       "      <td>0.00</td>\n",
       "      <td>0.000000</td>\n",
       "      <td>0.75</td>\n",
       "      <td>0.933013</td>\n",
       "      <td>0.0</td>\n",
       "      <td>1.0</td>\n",
       "    </tr>\n",
       "    <tr>\n",
       "      <th>1</th>\n",
       "      <td>0.22</td>\n",
       "      <td>0.772222</td>\n",
       "      <td>0.616086</td>\n",
       "      <td>0.0</td>\n",
       "      <td>0.822785</td>\n",
       "      <td>1.0</td>\n",
       "      <td>1.0</td>\n",
       "      <td>0.34</td>\n",
       "      <td>0.239437</td>\n",
       "      <td>0.00</td>\n",
       "      <td>0.142857</td>\n",
       "      <td>0.75</td>\n",
       "      <td>0.933013</td>\n",
       "      <td>0.0</td>\n",
       "      <td>1.0</td>\n",
       "    </tr>\n",
       "    <tr>\n",
       "      <th>2</th>\n",
       "      <td>0.24</td>\n",
       "      <td>0.788889</td>\n",
       "      <td>0.680309</td>\n",
       "      <td>0.0</td>\n",
       "      <td>0.860759</td>\n",
       "      <td>1.0</td>\n",
       "      <td>1.0</td>\n",
       "      <td>0.25</td>\n",
       "      <td>0.253521</td>\n",
       "      <td>0.25</td>\n",
       "      <td>0.285714</td>\n",
       "      <td>0.75</td>\n",
       "      <td>0.933013</td>\n",
       "      <td>0.0</td>\n",
       "      <td>1.0</td>\n",
       "    </tr>\n",
       "    <tr>\n",
       "      <th>3</th>\n",
       "      <td>0.26</td>\n",
       "      <td>0.816667</td>\n",
       "      <td>0.616086</td>\n",
       "      <td>0.0</td>\n",
       "      <td>0.860759</td>\n",
       "      <td>1.0</td>\n",
       "      <td>1.0</td>\n",
       "      <td>0.38</td>\n",
       "      <td>0.281690</td>\n",
       "      <td>0.25</td>\n",
       "      <td>0.428571</td>\n",
       "      <td>0.75</td>\n",
       "      <td>0.933013</td>\n",
       "      <td>0.0</td>\n",
       "      <td>1.0</td>\n",
       "    </tr>\n",
       "    <tr>\n",
       "      <th>4</th>\n",
       "      <td>0.30</td>\n",
       "      <td>0.888889</td>\n",
       "      <td>0.616086</td>\n",
       "      <td>0.0</td>\n",
       "      <td>0.772152</td>\n",
       "      <td>1.0</td>\n",
       "      <td>1.0</td>\n",
       "      <td>0.57</td>\n",
       "      <td>0.295775</td>\n",
       "      <td>0.25</td>\n",
       "      <td>0.571429</td>\n",
       "      <td>0.75</td>\n",
       "      <td>0.933013</td>\n",
       "      <td>0.0</td>\n",
       "      <td>1.0</td>\n",
       "    </tr>\n",
       "  </tbody>\n",
       "</table>\n",
       "</div>"
      ],
      "text/plain": [
       "   windspeedKmph  winddirDegree  weatherDesc  precipMM  humidity  visibility  \\\n",
       "0           0.20       0.755556     0.546567       0.0  0.734177         1.0   \n",
       "1           0.22       0.772222     0.616086       0.0  0.822785         1.0   \n",
       "2           0.24       0.788889     0.680309       0.0  0.860759         1.0   \n",
       "3           0.26       0.816667     0.616086       0.0  0.860759         1.0   \n",
       "4           0.30       0.888889     0.616086       0.0  0.772152         1.0   \n",
       "\n",
       "   pressureInches  cloudcover  WindGustKmph  uvIndex      hour  month_sin  \\\n",
       "0             1.0        1.00      0.211268     0.00  0.000000       0.75   \n",
       "1             1.0        0.34      0.239437     0.00  0.142857       0.75   \n",
       "2             1.0        0.25      0.253521     0.25  0.285714       0.75   \n",
       "3             1.0        0.38      0.281690     0.25  0.428571       0.75   \n",
       "4             1.0        0.57      0.295775     0.25  0.571429       0.75   \n",
       "\n",
       "   month_cos  day_sin  day_cos  \n",
       "0   0.933013      0.0      1.0  \n",
       "1   0.933013      0.0      1.0  \n",
       "2   0.933013      0.0      1.0  \n",
       "3   0.933013      0.0      1.0  \n",
       "4   0.933013      0.0      1.0  "
      ]
     },
     "execution_count": 667,
     "metadata": {},
     "output_type": "execute_result"
    }
   ],
   "source": [
    "X.head()"
   ]
  },
  {
   "cell_type": "markdown",
   "id": "2a5e00a0",
   "metadata": {},
   "source": [
    "### Linear Regression"
   ]
  },
  {
   "cell_type": "code",
   "execution_count": 668,
   "id": "757caae4",
   "metadata": {},
   "outputs": [
    {
     "data": {
      "text/plain": [
       "LinearRegression()"
      ]
     },
     "execution_count": 668,
     "metadata": {},
     "output_type": "execute_result"
    }
   ],
   "source": [
    "from sklearn.linear_model import LinearRegression\n",
    "linearRegr = LinearRegression() \n",
    "linearRegr.fit(X_train, y_train)"
   ]
  },
  {
   "cell_type": "code",
   "execution_count": 669,
   "id": "19820644",
   "metadata": {},
   "outputs": [
    {
     "data": {
      "text/plain": [
       "0.7522314060854784"
      ]
     },
     "execution_count": 669,
     "metadata": {},
     "output_type": "execute_result"
    }
   ],
   "source": [
    "linearRegr.score(X_test, y_test)"
   ]
  },
  {
   "cell_type": "code",
   "execution_count": 670,
   "id": "4a407d11",
   "metadata": {},
   "outputs": [],
   "source": [
    "y_pred = linearRegr.predict(X_test)"
   ]
  },
  {
   "cell_type": "code",
   "execution_count": 671,
   "id": "a74f82f9",
   "metadata": {
    "scrolled": false
   },
   "outputs": [
    {
     "name": "stdout",
     "output_type": "stream",
     "text": [
      "MAE: 0.05347739007297216\n"
     ]
    }
   ],
   "source": [
    "from sklearn.metrics import mean_absolute_error\n",
    "print(\"MAE:\",mean_absolute_error(y_test,y_pred))"
   ]
  },
  {
   "cell_type": "code",
   "execution_count": 672,
   "id": "7fd8181e",
   "metadata": {
    "scrolled": true
   },
   "outputs": [
    {
     "name": "stdout",
     "output_type": "stream",
     "text": [
      "MSE: 0.004703606801151327\n"
     ]
    }
   ],
   "source": [
    "from sklearn.metrics import mean_squared_error\n",
    "print(\"MSE:\",mean_squared_error(y_test,y_pred))"
   ]
  },
  {
   "cell_type": "code",
   "execution_count": 673,
   "id": "77a49aa9",
   "metadata": {},
   "outputs": [
    {
     "name": "stdout",
     "output_type": "stream",
     "text": [
      "RMSE: 0.068582846260208\n"
     ]
    }
   ],
   "source": [
    "print(\"RMSE:\",np.sqrt(mean_squared_error(y_test,y_pred)))"
   ]
  },
  {
   "cell_type": "code",
   "execution_count": 674,
   "id": "1180cb94",
   "metadata": {
    "scrolled": true
   },
   "outputs": [
    {
     "name": "stdout",
     "output_type": "stream",
     "text": [
      "RMSLE: -2.6797128300350592\n"
     ]
    }
   ],
   "source": [
    "print(\"RMSLE:\",np.log(np.sqrt(mean_squared_error(y_test,y_pred))))"
   ]
  },
  {
   "cell_type": "code",
   "execution_count": 675,
   "id": "37ebbf04",
   "metadata": {},
   "outputs": [
    {
     "name": "stdout",
     "output_type": "stream",
     "text": [
      "0.7522314060854784\n"
     ]
    }
   ],
   "source": [
    "from sklearn.metrics import r2_score\n",
    "r2 = r2_score(y_test,y_pred)\n",
    "print(r2)"
   ]
  },
  {
   "cell_type": "code",
   "execution_count": 676,
   "id": "5410223c",
   "metadata": {},
   "outputs": [
    {
     "name": "stdout",
     "output_type": "stream",
     "text": [
      "0.000972119675045836\n"
     ]
    }
   ],
   "source": [
    "#mean signed deviation\n",
    "def msd(y_true, y_pred):\n",
    "    return (y_pred - y_true).mean()\n",
    "msd = msd(y_test,y_pred)\n",
    "print(msd)"
   ]
  },
  {
   "cell_type": "markdown",
   "id": "c6af8f07",
   "metadata": {},
   "source": [
    "### Random Forest"
   ]
  },
  {
   "cell_type": "code",
   "execution_count": 677,
   "id": "fbbba54c",
   "metadata": {},
   "outputs": [
    {
     "data": {
      "text/plain": [
       "RandomForestRegressor()"
      ]
     },
     "execution_count": 677,
     "metadata": {},
     "output_type": "execute_result"
    }
   ],
   "source": [
    "from sklearn.ensemble import RandomForestRegressor\n",
    "\n",
    "rf_regr = RandomForestRegressor()\n",
    "\n",
    "rf_regr.fit(X_train, y_train)"
   ]
  },
  {
   "cell_type": "code",
   "execution_count": 678,
   "id": "2d203664",
   "metadata": {},
   "outputs": [
    {
     "data": {
      "text/plain": [
       "0.9074278623733276"
      ]
     },
     "execution_count": 678,
     "metadata": {},
     "output_type": "execute_result"
    }
   ],
   "source": [
    "rf_regr.score(X_test, y_test)"
   ]
  },
  {
   "cell_type": "code",
   "execution_count": 679,
   "id": "40881a9b",
   "metadata": {},
   "outputs": [],
   "source": [
    "y_pred = rf_regr.predict(X_test)"
   ]
  },
  {
   "cell_type": "code",
   "execution_count": 680,
   "id": "529414a2",
   "metadata": {
    "scrolled": true
   },
   "outputs": [
    {
     "name": "stdout",
     "output_type": "stream",
     "text": [
      "MAE: 0.03134417013603458\n"
     ]
    }
   ],
   "source": [
    "from sklearn.metrics import mean_absolute_error\n",
    "print(\"MAE:\",mean_absolute_error(y_test,y_pred))"
   ]
  },
  {
   "cell_type": "code",
   "execution_count": 681,
   "id": "d7418fc4",
   "metadata": {
    "scrolled": true
   },
   "outputs": [
    {
     "name": "stdout",
     "output_type": "stream",
     "text": [
      "MSE: 0.00175737743536677\n"
     ]
    }
   ],
   "source": [
    "from sklearn.metrics import mean_squared_error\n",
    "print(\"MSE:\",mean_squared_error(y_test,y_pred))"
   ]
  },
  {
   "cell_type": "code",
   "execution_count": 682,
   "id": "9a5f46e0",
   "metadata": {},
   "outputs": [
    {
     "name": "stdout",
     "output_type": "stream",
     "text": [
      "RMSE: 0.04192108580853757\n"
     ]
    }
   ],
   "source": [
    "print(\"RMSE:\",np.sqrt(mean_squared_error(y_test,y_pred)))"
   ]
  },
  {
   "cell_type": "code",
   "execution_count": 683,
   "id": "db1d594d",
   "metadata": {
    "scrolled": true
   },
   "outputs": [
    {
     "name": "stdout",
     "output_type": "stream",
     "text": [
      "RMSLE: -3.1719663373835787\n"
     ]
    }
   ],
   "source": [
    "print(\"RMSLE:\",np.log(np.sqrt(mean_squared_error(y_test,y_pred))))"
   ]
  },
  {
   "cell_type": "code",
   "execution_count": 684,
   "id": "6e5ff6a6",
   "metadata": {},
   "outputs": [
    {
     "name": "stdout",
     "output_type": "stream",
     "text": [
      "0.9074278623733276\n"
     ]
    }
   ],
   "source": [
    "from sklearn.metrics import r2_score\n",
    "r2 = r2_score(y_test,y_pred)\n",
    "print(r2)"
   ]
  },
  {
   "cell_type": "code",
   "execution_count": 685,
   "id": "d0d40d02",
   "metadata": {},
   "outputs": [
    {
     "name": "stdout",
     "output_type": "stream",
     "text": [
      "0.0004311739280316271\n"
     ]
    }
   ],
   "source": [
    "#mean signed deviation\n",
    "def msd(y_true, y_pred):\n",
    "    return (y_pred - y_true).mean()\n",
    "msd = msd(y_test,y_pred)\n",
    "print(msd)"
   ]
  },
  {
   "cell_type": "markdown",
   "id": "80fae33b",
   "metadata": {},
   "source": [
    "### SVR"
   ]
  },
  {
   "cell_type": "code",
   "execution_count": 686,
   "id": "93f2da8c",
   "metadata": {},
   "outputs": [
    {
     "data": {
      "text/plain": [
       "SVR(epsilon=0.2)"
      ]
     },
     "execution_count": 686,
     "metadata": {},
     "output_type": "execute_result"
    }
   ],
   "source": [
    "from sklearn.svm import SVR\n",
    "\n",
    "svr_regr = SVR(C=1.0, epsilon=0.2)   \n",
    "svr_regr.fit(X_train, y_train)"
   ]
  },
  {
   "cell_type": "code",
   "execution_count": 687,
   "id": "eb629629",
   "metadata": {},
   "outputs": [
    {
     "data": {
      "text/plain": [
       "0.7125709378840963"
      ]
     },
     "execution_count": 687,
     "metadata": {},
     "output_type": "execute_result"
    }
   ],
   "source": [
    "svr_regr.score(X_test, y_test)"
   ]
  },
  {
   "cell_type": "code",
   "execution_count": 688,
   "id": "0fb3c290",
   "metadata": {},
   "outputs": [],
   "source": [
    "y_pred = svr_regr.predict(X_test)"
   ]
  },
  {
   "cell_type": "markdown",
   "id": "5ed4f689",
   "metadata": {},
   "source": [
    "### SGD"
   ]
  },
  {
   "cell_type": "code",
   "execution_count": 689,
   "id": "75601ba6",
   "metadata": {},
   "outputs": [
    {
     "data": {
      "text/plain": [
       "SGDRegressor()"
      ]
     },
     "execution_count": 689,
     "metadata": {},
     "output_type": "execute_result"
    }
   ],
   "source": [
    "from sklearn.linear_model import SGDRegressor\n",
    "\n",
    "sgd_regr = SGDRegressor()\n",
    "sgd_regr.fit(X_train, y_train)"
   ]
  },
  {
   "cell_type": "code",
   "execution_count": 690,
   "id": "4db30f76",
   "metadata": {},
   "outputs": [
    {
     "data": {
      "text/plain": [
       "0.69782428802542"
      ]
     },
     "execution_count": 690,
     "metadata": {},
     "output_type": "execute_result"
    }
   ],
   "source": [
    "sgd_regr.score(X_test, y_test)"
   ]
  },
  {
   "cell_type": "code",
   "execution_count": 691,
   "id": "61d1f2ad",
   "metadata": {},
   "outputs": [],
   "source": [
    "y_pred = sgd_regr.predict(X_test)"
   ]
  },
  {
   "cell_type": "markdown",
   "id": "6761cd6a",
   "metadata": {},
   "source": [
    "### MLP"
   ]
  },
  {
   "cell_type": "code",
   "execution_count": 692,
   "id": "d22e30bd",
   "metadata": {},
   "outputs": [
    {
     "data": {
      "text/plain": [
       "MLPRegressor(max_iter=500, random_state=1)"
      ]
     },
     "execution_count": 692,
     "metadata": {},
     "output_type": "execute_result"
    }
   ],
   "source": [
    "from sklearn.neural_network import MLPRegressor\n",
    "\n",
    "mlp_regr = MLPRegressor(random_state=1, max_iter=500)\n",
    "mlp_regr.fit(X_train, y_train)"
   ]
  },
  {
   "cell_type": "code",
   "execution_count": 693,
   "id": "47c3fdeb",
   "metadata": {},
   "outputs": [
    {
     "data": {
      "text/plain": [
       "0.8281799906873001"
      ]
     },
     "execution_count": 693,
     "metadata": {},
     "output_type": "execute_result"
    }
   ],
   "source": [
    "mlp_regr.score(X_test, y_test)"
   ]
  },
  {
   "cell_type": "code",
   "execution_count": 694,
   "id": "2b2711f6",
   "metadata": {},
   "outputs": [],
   "source": [
    "y_pred = mlp_regr.predict(X_test)"
   ]
  },
  {
   "cell_type": "code",
   "execution_count": null,
   "id": "1fbf5839",
   "metadata": {},
   "outputs": [],
   "source": []
  }
 ],
 "metadata": {
  "kernelspec": {
   "display_name": "Python 3",
   "language": "python",
   "name": "python3"
  },
  "language_info": {
   "codemirror_mode": {
    "name": "ipython",
    "version": 3
   },
   "file_extension": ".py",
   "mimetype": "text/x-python",
   "name": "python",
   "nbconvert_exporter": "python",
   "pygments_lexer": "ipython3",
   "version": "3.8.8"
  }
 },
 "nbformat": 4,
 "nbformat_minor": 5
}
