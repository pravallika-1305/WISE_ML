{
  "cells": [
    {
      "cell_type": "markdown",
      "metadata": {
        "id": "view-in-github",
        "colab_type": "text"
      },
      "source": [
        "<a href=\"https://colab.research.google.com/github/pravallika-1305/WISE_ML/blob/main/TempForecasting.ipynb\" target=\"_parent\"><img src=\"https://colab.research.google.com/assets/colab-badge.svg\" alt=\"Open In Colab\"/></a>"
      ]
    },
    {
      "cell_type": "code",
      "execution_count": 1,
      "id": "8b8f53fc",
      "metadata": {
        "id": "8b8f53fc"
      },
      "outputs": [],
      "source": [
        "import os\n",
        "\n",
        "import numpy as np # linear algebra\n",
        "import pandas as pd # data processing, CSV file I/O (e.g. pd.read_csv)\n",
        "import matplotlib.pyplot as plt\n",
        "from datetime import datetime as dt\n",
        "import seaborn as sns\n",
        "\n",
        "%matplotlib inline"
      ]
    },
    {
      "cell_type": "code",
      "execution_count": 4,
      "id": "6322722a",
      "metadata": {
        "id": "6322722a"
      },
      "outputs": [],
      "source": [
        "weather_data = pd.read_csv('weather_data_.csv')"
      ]
    },
    {
      "cell_type": "code",
      "execution_count": 5,
      "id": "dc554026",
      "metadata": {
        "colab": {
          "base_uri": "https://localhost:8080/",
          "height": 488
        },
        "id": "dc554026",
        "outputId": "11ff4942-6ebe-4f7c-be65-5e58efa5fd82"
      },
      "outputs": [
        {
          "output_type": "execute_result",
          "data": {
            "text/plain": [
              "      time        date  tempC  windspeedMiles  windspeedKmph  winddirDegree  \\\n",
              "0        0    1/1/2019      9               6             10            272   \n",
              "1      300    1/1/2019      8               7             11            278   \n",
              "2      600    1/1/2019      7               8             12            284   \n",
              "3      900    1/1/2019      7               8             13            294   \n",
              "4     1200    1/1/2019      9               9             15            320   \n",
              "...    ...         ...    ...             ...            ...            ...   \n",
              "8763   900  12/31/2021     12              14             23            206   \n",
              "8764  1200  12/31/2021     13              13             21            226   \n",
              "8765  1500  12/31/2021     14              12             19            227   \n",
              "8766  1800  12/31/2021     12              13             20            227   \n",
              "8767  2100  12/31/2021     13              11             18            231   \n",
              "\n",
              "     winddir16Point  weatherCode    weatherDesc  precipMM  precipInches  \\\n",
              "0                 W          122       Overcast       0.0           0.0   \n",
              "1                 W          116  Partly cloudy       0.0           0.0   \n",
              "2               WNW          113          Sunny       0.0           0.0   \n",
              "3               WNW          116  Partly cloudy       0.0           0.0   \n",
              "4                NW          116  Partly cloudy       0.0           0.0   \n",
              "...             ...          ...            ...       ...           ...   \n",
              "8763            SSW          122       Overcast       0.0           0.0   \n",
              "8764             SW          122       Overcast       0.0           0.0   \n",
              "8765             SW          116  Partly cloudy       0.0           0.0   \n",
              "8766             SW          116  Partly cloudy       0.0           0.0   \n",
              "8767             SW          122       Overcast       0.0           0.0   \n",
              "\n",
              "      humidity  visibility  visibilityMiles  pressure  pressureInches  \\\n",
              "0           78          10                6      1035              31   \n",
              "1           85          10                6      1034              31   \n",
              "2           88          10                6      1034              31   \n",
              "3           88          10                6      1034              31   \n",
              "4           81          10                6      1035              31   \n",
              "...        ...         ...              ...       ...             ...   \n",
              "8763        82          10                6      1017              30   \n",
              "8764        82          10                6      1019              30   \n",
              "8765        81          10                6      1019              30   \n",
              "8766        90          10                6      1020              30   \n",
              "8767        85          10                6      1021              30   \n",
              "\n",
              "      cloudcover  WindGustMiles  WindGustKmph  uvIndex  \n",
              "0            100             10            15        1  \n",
              "1             34             10            17        1  \n",
              "2             25             11            18        3  \n",
              "3             38             13            20        3  \n",
              "4             57             13            21        3  \n",
              "...          ...            ...           ...      ...  \n",
              "8763          92             21            35        3  \n",
              "8764         100             18            29        3  \n",
              "8765          59             17            28        4  \n",
              "8766          32             20            32        1  \n",
              "8767          99             17            27        1  \n",
              "\n",
              "[8768 rows x 20 columns]"
            ],
            "text/html": [
              "\n",
              "  <div id=\"df-9aa94a7f-febc-4f21-bdfd-4f6a656f31c7\">\n",
              "    <div class=\"colab-df-container\">\n",
              "      <div>\n",
              "<style scoped>\n",
              "    .dataframe tbody tr th:only-of-type {\n",
              "        vertical-align: middle;\n",
              "    }\n",
              "\n",
              "    .dataframe tbody tr th {\n",
              "        vertical-align: top;\n",
              "    }\n",
              "\n",
              "    .dataframe thead th {\n",
              "        text-align: right;\n",
              "    }\n",
              "</style>\n",
              "<table border=\"1\" class=\"dataframe\">\n",
              "  <thead>\n",
              "    <tr style=\"text-align: right;\">\n",
              "      <th></th>\n",
              "      <th>time</th>\n",
              "      <th>date</th>\n",
              "      <th>tempC</th>\n",
              "      <th>windspeedMiles</th>\n",
              "      <th>windspeedKmph</th>\n",
              "      <th>winddirDegree</th>\n",
              "      <th>winddir16Point</th>\n",
              "      <th>weatherCode</th>\n",
              "      <th>weatherDesc</th>\n",
              "      <th>precipMM</th>\n",
              "      <th>precipInches</th>\n",
              "      <th>humidity</th>\n",
              "      <th>visibility</th>\n",
              "      <th>visibilityMiles</th>\n",
              "      <th>pressure</th>\n",
              "      <th>pressureInches</th>\n",
              "      <th>cloudcover</th>\n",
              "      <th>WindGustMiles</th>\n",
              "      <th>WindGustKmph</th>\n",
              "      <th>uvIndex</th>\n",
              "    </tr>\n",
              "  </thead>\n",
              "  <tbody>\n",
              "    <tr>\n",
              "      <th>0</th>\n",
              "      <td>0</td>\n",
              "      <td>1/1/2019</td>\n",
              "      <td>9</td>\n",
              "      <td>6</td>\n",
              "      <td>10</td>\n",
              "      <td>272</td>\n",
              "      <td>W</td>\n",
              "      <td>122</td>\n",
              "      <td>Overcast</td>\n",
              "      <td>0.0</td>\n",
              "      <td>0.0</td>\n",
              "      <td>78</td>\n",
              "      <td>10</td>\n",
              "      <td>6</td>\n",
              "      <td>1035</td>\n",
              "      <td>31</td>\n",
              "      <td>100</td>\n",
              "      <td>10</td>\n",
              "      <td>15</td>\n",
              "      <td>1</td>\n",
              "    </tr>\n",
              "    <tr>\n",
              "      <th>1</th>\n",
              "      <td>300</td>\n",
              "      <td>1/1/2019</td>\n",
              "      <td>8</td>\n",
              "      <td>7</td>\n",
              "      <td>11</td>\n",
              "      <td>278</td>\n",
              "      <td>W</td>\n",
              "      <td>116</td>\n",
              "      <td>Partly cloudy</td>\n",
              "      <td>0.0</td>\n",
              "      <td>0.0</td>\n",
              "      <td>85</td>\n",
              "      <td>10</td>\n",
              "      <td>6</td>\n",
              "      <td>1034</td>\n",
              "      <td>31</td>\n",
              "      <td>34</td>\n",
              "      <td>10</td>\n",
              "      <td>17</td>\n",
              "      <td>1</td>\n",
              "    </tr>\n",
              "    <tr>\n",
              "      <th>2</th>\n",
              "      <td>600</td>\n",
              "      <td>1/1/2019</td>\n",
              "      <td>7</td>\n",
              "      <td>8</td>\n",
              "      <td>12</td>\n",
              "      <td>284</td>\n",
              "      <td>WNW</td>\n",
              "      <td>113</td>\n",
              "      <td>Sunny</td>\n",
              "      <td>0.0</td>\n",
              "      <td>0.0</td>\n",
              "      <td>88</td>\n",
              "      <td>10</td>\n",
              "      <td>6</td>\n",
              "      <td>1034</td>\n",
              "      <td>31</td>\n",
              "      <td>25</td>\n",
              "      <td>11</td>\n",
              "      <td>18</td>\n",
              "      <td>3</td>\n",
              "    </tr>\n",
              "    <tr>\n",
              "      <th>3</th>\n",
              "      <td>900</td>\n",
              "      <td>1/1/2019</td>\n",
              "      <td>7</td>\n",
              "      <td>8</td>\n",
              "      <td>13</td>\n",
              "      <td>294</td>\n",
              "      <td>WNW</td>\n",
              "      <td>116</td>\n",
              "      <td>Partly cloudy</td>\n",
              "      <td>0.0</td>\n",
              "      <td>0.0</td>\n",
              "      <td>88</td>\n",
              "      <td>10</td>\n",
              "      <td>6</td>\n",
              "      <td>1034</td>\n",
              "      <td>31</td>\n",
              "      <td>38</td>\n",
              "      <td>13</td>\n",
              "      <td>20</td>\n",
              "      <td>3</td>\n",
              "    </tr>\n",
              "    <tr>\n",
              "      <th>4</th>\n",
              "      <td>1200</td>\n",
              "      <td>1/1/2019</td>\n",
              "      <td>9</td>\n",
              "      <td>9</td>\n",
              "      <td>15</td>\n",
              "      <td>320</td>\n",
              "      <td>NW</td>\n",
              "      <td>116</td>\n",
              "      <td>Partly cloudy</td>\n",
              "      <td>0.0</td>\n",
              "      <td>0.0</td>\n",
              "      <td>81</td>\n",
              "      <td>10</td>\n",
              "      <td>6</td>\n",
              "      <td>1035</td>\n",
              "      <td>31</td>\n",
              "      <td>57</td>\n",
              "      <td>13</td>\n",
              "      <td>21</td>\n",
              "      <td>3</td>\n",
              "    </tr>\n",
              "    <tr>\n",
              "      <th>...</th>\n",
              "      <td>...</td>\n",
              "      <td>...</td>\n",
              "      <td>...</td>\n",
              "      <td>...</td>\n",
              "      <td>...</td>\n",
              "      <td>...</td>\n",
              "      <td>...</td>\n",
              "      <td>...</td>\n",
              "      <td>...</td>\n",
              "      <td>...</td>\n",
              "      <td>...</td>\n",
              "      <td>...</td>\n",
              "      <td>...</td>\n",
              "      <td>...</td>\n",
              "      <td>...</td>\n",
              "      <td>...</td>\n",
              "      <td>...</td>\n",
              "      <td>...</td>\n",
              "      <td>...</td>\n",
              "      <td>...</td>\n",
              "    </tr>\n",
              "    <tr>\n",
              "      <th>8763</th>\n",
              "      <td>900</td>\n",
              "      <td>12/31/2021</td>\n",
              "      <td>12</td>\n",
              "      <td>14</td>\n",
              "      <td>23</td>\n",
              "      <td>206</td>\n",
              "      <td>SSW</td>\n",
              "      <td>122</td>\n",
              "      <td>Overcast</td>\n",
              "      <td>0.0</td>\n",
              "      <td>0.0</td>\n",
              "      <td>82</td>\n",
              "      <td>10</td>\n",
              "      <td>6</td>\n",
              "      <td>1017</td>\n",
              "      <td>30</td>\n",
              "      <td>92</td>\n",
              "      <td>21</td>\n",
              "      <td>35</td>\n",
              "      <td>3</td>\n",
              "    </tr>\n",
              "    <tr>\n",
              "      <th>8764</th>\n",
              "      <td>1200</td>\n",
              "      <td>12/31/2021</td>\n",
              "      <td>13</td>\n",
              "      <td>13</td>\n",
              "      <td>21</td>\n",
              "      <td>226</td>\n",
              "      <td>SW</td>\n",
              "      <td>122</td>\n",
              "      <td>Overcast</td>\n",
              "      <td>0.0</td>\n",
              "      <td>0.0</td>\n",
              "      <td>82</td>\n",
              "      <td>10</td>\n",
              "      <td>6</td>\n",
              "      <td>1019</td>\n",
              "      <td>30</td>\n",
              "      <td>100</td>\n",
              "      <td>18</td>\n",
              "      <td>29</td>\n",
              "      <td>3</td>\n",
              "    </tr>\n",
              "    <tr>\n",
              "      <th>8765</th>\n",
              "      <td>1500</td>\n",
              "      <td>12/31/2021</td>\n",
              "      <td>14</td>\n",
              "      <td>12</td>\n",
              "      <td>19</td>\n",
              "      <td>227</td>\n",
              "      <td>SW</td>\n",
              "      <td>116</td>\n",
              "      <td>Partly cloudy</td>\n",
              "      <td>0.0</td>\n",
              "      <td>0.0</td>\n",
              "      <td>81</td>\n",
              "      <td>10</td>\n",
              "      <td>6</td>\n",
              "      <td>1019</td>\n",
              "      <td>30</td>\n",
              "      <td>59</td>\n",
              "      <td>17</td>\n",
              "      <td>28</td>\n",
              "      <td>4</td>\n",
              "    </tr>\n",
              "    <tr>\n",
              "      <th>8766</th>\n",
              "      <td>1800</td>\n",
              "      <td>12/31/2021</td>\n",
              "      <td>12</td>\n",
              "      <td>13</td>\n",
              "      <td>20</td>\n",
              "      <td>227</td>\n",
              "      <td>SW</td>\n",
              "      <td>116</td>\n",
              "      <td>Partly cloudy</td>\n",
              "      <td>0.0</td>\n",
              "      <td>0.0</td>\n",
              "      <td>90</td>\n",
              "      <td>10</td>\n",
              "      <td>6</td>\n",
              "      <td>1020</td>\n",
              "      <td>30</td>\n",
              "      <td>32</td>\n",
              "      <td>20</td>\n",
              "      <td>32</td>\n",
              "      <td>1</td>\n",
              "    </tr>\n",
              "    <tr>\n",
              "      <th>8767</th>\n",
              "      <td>2100</td>\n",
              "      <td>12/31/2021</td>\n",
              "      <td>13</td>\n",
              "      <td>11</td>\n",
              "      <td>18</td>\n",
              "      <td>231</td>\n",
              "      <td>SW</td>\n",
              "      <td>122</td>\n",
              "      <td>Overcast</td>\n",
              "      <td>0.0</td>\n",
              "      <td>0.0</td>\n",
              "      <td>85</td>\n",
              "      <td>10</td>\n",
              "      <td>6</td>\n",
              "      <td>1021</td>\n",
              "      <td>30</td>\n",
              "      <td>99</td>\n",
              "      <td>17</td>\n",
              "      <td>27</td>\n",
              "      <td>1</td>\n",
              "    </tr>\n",
              "  </tbody>\n",
              "</table>\n",
              "<p>8768 rows × 20 columns</p>\n",
              "</div>\n",
              "      <button class=\"colab-df-convert\" onclick=\"convertToInteractive('df-9aa94a7f-febc-4f21-bdfd-4f6a656f31c7')\"\n",
              "              title=\"Convert this dataframe to an interactive table.\"\n",
              "              style=\"display:none;\">\n",
              "        \n",
              "  <svg xmlns=\"http://www.w3.org/2000/svg\" height=\"24px\"viewBox=\"0 0 24 24\"\n",
              "       width=\"24px\">\n",
              "    <path d=\"M0 0h24v24H0V0z\" fill=\"none\"/>\n",
              "    <path d=\"M18.56 5.44l.94 2.06.94-2.06 2.06-.94-2.06-.94-.94-2.06-.94 2.06-2.06.94zm-11 1L8.5 8.5l.94-2.06 2.06-.94-2.06-.94L8.5 2.5l-.94 2.06-2.06.94zm10 10l.94 2.06.94-2.06 2.06-.94-2.06-.94-.94-2.06-.94 2.06-2.06.94z\"/><path d=\"M17.41 7.96l-1.37-1.37c-.4-.4-.92-.59-1.43-.59-.52 0-1.04.2-1.43.59L10.3 9.45l-7.72 7.72c-.78.78-.78 2.05 0 2.83L4 21.41c.39.39.9.59 1.41.59.51 0 1.02-.2 1.41-.59l7.78-7.78 2.81-2.81c.8-.78.8-2.07 0-2.86zM5.41 20L4 18.59l7.72-7.72 1.47 1.35L5.41 20z\"/>\n",
              "  </svg>\n",
              "      </button>\n",
              "      \n",
              "  <style>\n",
              "    .colab-df-container {\n",
              "      display:flex;\n",
              "      flex-wrap:wrap;\n",
              "      gap: 12px;\n",
              "    }\n",
              "\n",
              "    .colab-df-convert {\n",
              "      background-color: #E8F0FE;\n",
              "      border: none;\n",
              "      border-radius: 50%;\n",
              "      cursor: pointer;\n",
              "      display: none;\n",
              "      fill: #1967D2;\n",
              "      height: 32px;\n",
              "      padding: 0 0 0 0;\n",
              "      width: 32px;\n",
              "    }\n",
              "\n",
              "    .colab-df-convert:hover {\n",
              "      background-color: #E2EBFA;\n",
              "      box-shadow: 0px 1px 2px rgba(60, 64, 67, 0.3), 0px 1px 3px 1px rgba(60, 64, 67, 0.15);\n",
              "      fill: #174EA6;\n",
              "    }\n",
              "\n",
              "    [theme=dark] .colab-df-convert {\n",
              "      background-color: #3B4455;\n",
              "      fill: #D2E3FC;\n",
              "    }\n",
              "\n",
              "    [theme=dark] .colab-df-convert:hover {\n",
              "      background-color: #434B5C;\n",
              "      box-shadow: 0px 1px 3px 1px rgba(0, 0, 0, 0.15);\n",
              "      filter: drop-shadow(0px 1px 2px rgba(0, 0, 0, 0.3));\n",
              "      fill: #FFFFFF;\n",
              "    }\n",
              "  </style>\n",
              "\n",
              "      <script>\n",
              "        const buttonEl =\n",
              "          document.querySelector('#df-9aa94a7f-febc-4f21-bdfd-4f6a656f31c7 button.colab-df-convert');\n",
              "        buttonEl.style.display =\n",
              "          google.colab.kernel.accessAllowed ? 'block' : 'none';\n",
              "\n",
              "        async function convertToInteractive(key) {\n",
              "          const element = document.querySelector('#df-9aa94a7f-febc-4f21-bdfd-4f6a656f31c7');\n",
              "          const dataTable =\n",
              "            await google.colab.kernel.invokeFunction('convertToInteractive',\n",
              "                                                     [key], {});\n",
              "          if (!dataTable) return;\n",
              "\n",
              "          const docLinkHtml = 'Like what you see? Visit the ' +\n",
              "            '<a target=\"_blank\" href=https://colab.research.google.com/notebooks/data_table.ipynb>data table notebook</a>'\n",
              "            + ' to learn more about interactive tables.';\n",
              "          element.innerHTML = '';\n",
              "          dataTable['output_type'] = 'display_data';\n",
              "          await google.colab.output.renderOutput(dataTable, element);\n",
              "          const docLink = document.createElement('div');\n",
              "          docLink.innerHTML = docLinkHtml;\n",
              "          element.appendChild(docLink);\n",
              "        }\n",
              "      </script>\n",
              "    </div>\n",
              "  </div>\n",
              "  "
            ]
          },
          "metadata": {},
          "execution_count": 5
        }
      ],
      "source": [
        "weather_data"
      ]
    },
    {
      "cell_type": "code",
      "execution_count": 6,
      "id": "fcd98f72",
      "metadata": {
        "colab": {
          "base_uri": "https://localhost:8080/"
        },
        "id": "fcd98f72",
        "outputId": "a6ee97dd-da44-459e-ccbd-1b20d5f63c75"
      },
      "outputs": [
        {
          "output_type": "stream",
          "name": "stdout",
          "text": [
            "<class 'pandas.core.frame.DataFrame'>\n",
            "RangeIndex: 8768 entries, 0 to 8767\n",
            "Data columns (total 20 columns):\n",
            " #   Column           Non-Null Count  Dtype  \n",
            "---  ------           --------------  -----  \n",
            " 0   time             8768 non-null   int64  \n",
            " 1   date             8768 non-null   object \n",
            " 2   tempC            8768 non-null   int64  \n",
            " 3   windspeedMiles   8768 non-null   int64  \n",
            " 4   windspeedKmph    8768 non-null   int64  \n",
            " 5   winddirDegree    8768 non-null   int64  \n",
            " 6   winddir16Point   8768 non-null   object \n",
            " 7   weatherCode      8768 non-null   int64  \n",
            " 8   weatherDesc      8768 non-null   object \n",
            " 9   precipMM         8768 non-null   float64\n",
            " 10  precipInches     8768 non-null   float64\n",
            " 11  humidity         8768 non-null   int64  \n",
            " 12  visibility       8768 non-null   int64  \n",
            " 13  visibilityMiles  8768 non-null   int64  \n",
            " 14  pressure         8768 non-null   int64  \n",
            " 15  pressureInches   8768 non-null   int64  \n",
            " 16  cloudcover       8768 non-null   int64  \n",
            " 17  WindGustMiles    8768 non-null   int64  \n",
            " 18  WindGustKmph     8768 non-null   int64  \n",
            " 19  uvIndex          8768 non-null   int64  \n",
            "dtypes: float64(2), int64(15), object(3)\n",
            "memory usage: 1.3+ MB\n"
          ]
        }
      ],
      "source": [
        "#check the format of date\n",
        "weather_data.info()"
      ]
    },
    {
      "cell_type": "markdown",
      "id": "9ac9afba",
      "metadata": {
        "id": "9ac9afba"
      },
      "source": [
        "#### cloudcover: \n",
        "Refers to the fraction of the sky obscured by clouds when observed from a particular location"
      ]
    },
    {
      "cell_type": "code",
      "execution_count": 7,
      "id": "3d7be3da",
      "metadata": {
        "id": "3d7be3da"
      },
      "outputs": [],
      "source": [
        "#returns the time format HH:MM:SS of a given string\n",
        "def time_to_string(x):\n",
        "    if x == 0:\n",
        "        return '00:00:00'\n",
        "    x = str(x)\n",
        "    if len(x) == 3:\n",
        "        return \"0\" + x[0:1] + \":\" + x[1:3] +\":00\"\n",
        "    else:\n",
        "        return x[0:2] + \":\" + x[2:4] +\":00\""
      ]
    },
    {
      "cell_type": "code",
      "execution_count": 8,
      "id": "4e9ce651",
      "metadata": {
        "id": "4e9ce651"
      },
      "outputs": [],
      "source": [
        "#change the format of the string to time format\n",
        "weather_data['time'] = weather_data['time'].apply(time_to_string)"
      ]
    },
    {
      "cell_type": "code",
      "execution_count": 9,
      "id": "59439779",
      "metadata": {
        "scrolled": true,
        "id": "59439779"
      },
      "outputs": [],
      "source": [
        "#change the date format and convert to string format\n",
        "weather_data[\"date\"] = pd.to_datetime(weather_data.date)\n",
        "weather_data[\"date\"] = weather_data[\"date\"].dt.strftime('%Y-%m-%d')"
      ]
    },
    {
      "cell_type": "code",
      "execution_count": 10,
      "id": "36e60f27",
      "metadata": {
        "id": "36e60f27"
      },
      "outputs": [],
      "source": [
        "weather_data.insert(loc=0, column='datetime', value=weather_data[\"date\"] + \" \" + weather_data[\"time\"])\n",
        "weather_data = weather_data.drop(['date', 'time'],  axis=1)"
      ]
    },
    {
      "cell_type": "code",
      "execution_count": 11,
      "id": "e8c41b1f",
      "metadata": {
        "id": "e8c41b1f"
      },
      "outputs": [],
      "source": [
        "weather_data['datetime'] = pd.to_datetime(weather_data.datetime)\n",
        "weather_data['hour'] = weather_data['datetime'].dt.hour\n",
        "weather_data['year'] = weather_data['datetime'].dt.year\n",
        "weather_data['month'] = weather_data['datetime'].dt.month\n",
        "weather_data['day'] = weather_data['datetime'].dt.day\n",
        "weather_data = weather_data.drop(['datetime'],  axis=1)"
      ]
    },
    {
      "cell_type": "code",
      "execution_count": 12,
      "id": "ab05560a",
      "metadata": {
        "colab": {
          "base_uri": "https://localhost:8080/",
          "height": 474
        },
        "id": "ab05560a",
        "outputId": "2e943825-1f7b-4daa-a9e1-acf3216fdbe5"
      },
      "outputs": [
        {
          "output_type": "execute_result",
          "data": {
            "text/plain": [
              "   tempC  windspeedMiles  windspeedKmph  winddirDegree winddir16Point  \\\n",
              "0      9               6             10            272              W   \n",
              "1      8               7             11            278              W   \n",
              "2      7               8             12            284            WNW   \n",
              "3      7               8             13            294            WNW   \n",
              "4      9               9             15            320             NW   \n",
              "5     10               7             12            338            NNW   \n",
              "6      9               7             12             13            NNE   \n",
              "7      7               8             13             15            NNE   \n",
              "8      6               8             12             11            NNE   \n",
              "9      4               8             13            356              N   \n",
              "\n",
              "   weatherCode           weatherDesc  precipMM  precipInches  humidity  ...  \\\n",
              "0          122              Overcast       0.0           0.0        78  ...   \n",
              "1          116         Partly cloudy       0.0           0.0        85  ...   \n",
              "2          113                 Sunny       0.0           0.0        88  ...   \n",
              "3          116         Partly cloudy       0.0           0.0        88  ...   \n",
              "4          116         Partly cloudy       0.0           0.0        81  ...   \n",
              "5          122              Overcast       0.1           0.0        81  ...   \n",
              "6          176  Patchy rain possible       0.2           0.0        74  ...   \n",
              "7          116         Partly cloudy       0.0           0.0        69  ...   \n",
              "8          113                 Clear       0.0           0.0        73  ...   \n",
              "9          113                 Clear       0.0           0.0        74  ...   \n",
              "\n",
              "   pressure  pressureInches  cloudcover  WindGustMiles  WindGustKmph  uvIndex  \\\n",
              "0      1035              31         100             10            15        1   \n",
              "1      1034              31          34             10            17        1   \n",
              "2      1034              31          25             11            18        3   \n",
              "3      1034              31          38             13            20        3   \n",
              "4      1035              31          57             13            21        3   \n",
              "5      1035              31          89             10            17        2   \n",
              "6      1037              31          45              9            14        1   \n",
              "7      1039              31          42             11            17        1   \n",
              "8      1041              31          12             10            16        1   \n",
              "9      1042              31          14             11            17        1   \n",
              "\n",
              "   hour  year  month  day  \n",
              "0     0  2019      1    1  \n",
              "1     3  2019      1    1  \n",
              "2     6  2019      1    1  \n",
              "3     9  2019      1    1  \n",
              "4    12  2019      1    1  \n",
              "5    15  2019      1    1  \n",
              "6    18  2019      1    1  \n",
              "7    21  2019      1    1  \n",
              "8     0  2019      1    2  \n",
              "9     3  2019      1    2  \n",
              "\n",
              "[10 rows x 22 columns]"
            ],
            "text/html": [
              "\n",
              "  <div id=\"df-3a1f0a1a-fb74-4417-986c-ccc3acd8496c\">\n",
              "    <div class=\"colab-df-container\">\n",
              "      <div>\n",
              "<style scoped>\n",
              "    .dataframe tbody tr th:only-of-type {\n",
              "        vertical-align: middle;\n",
              "    }\n",
              "\n",
              "    .dataframe tbody tr th {\n",
              "        vertical-align: top;\n",
              "    }\n",
              "\n",
              "    .dataframe thead th {\n",
              "        text-align: right;\n",
              "    }\n",
              "</style>\n",
              "<table border=\"1\" class=\"dataframe\">\n",
              "  <thead>\n",
              "    <tr style=\"text-align: right;\">\n",
              "      <th></th>\n",
              "      <th>tempC</th>\n",
              "      <th>windspeedMiles</th>\n",
              "      <th>windspeedKmph</th>\n",
              "      <th>winddirDegree</th>\n",
              "      <th>winddir16Point</th>\n",
              "      <th>weatherCode</th>\n",
              "      <th>weatherDesc</th>\n",
              "      <th>precipMM</th>\n",
              "      <th>precipInches</th>\n",
              "      <th>humidity</th>\n",
              "      <th>...</th>\n",
              "      <th>pressure</th>\n",
              "      <th>pressureInches</th>\n",
              "      <th>cloudcover</th>\n",
              "      <th>WindGustMiles</th>\n",
              "      <th>WindGustKmph</th>\n",
              "      <th>uvIndex</th>\n",
              "      <th>hour</th>\n",
              "      <th>year</th>\n",
              "      <th>month</th>\n",
              "      <th>day</th>\n",
              "    </tr>\n",
              "  </thead>\n",
              "  <tbody>\n",
              "    <tr>\n",
              "      <th>0</th>\n",
              "      <td>9</td>\n",
              "      <td>6</td>\n",
              "      <td>10</td>\n",
              "      <td>272</td>\n",
              "      <td>W</td>\n",
              "      <td>122</td>\n",
              "      <td>Overcast</td>\n",
              "      <td>0.0</td>\n",
              "      <td>0.0</td>\n",
              "      <td>78</td>\n",
              "      <td>...</td>\n",
              "      <td>1035</td>\n",
              "      <td>31</td>\n",
              "      <td>100</td>\n",
              "      <td>10</td>\n",
              "      <td>15</td>\n",
              "      <td>1</td>\n",
              "      <td>0</td>\n",
              "      <td>2019</td>\n",
              "      <td>1</td>\n",
              "      <td>1</td>\n",
              "    </tr>\n",
              "    <tr>\n",
              "      <th>1</th>\n",
              "      <td>8</td>\n",
              "      <td>7</td>\n",
              "      <td>11</td>\n",
              "      <td>278</td>\n",
              "      <td>W</td>\n",
              "      <td>116</td>\n",
              "      <td>Partly cloudy</td>\n",
              "      <td>0.0</td>\n",
              "      <td>0.0</td>\n",
              "      <td>85</td>\n",
              "      <td>...</td>\n",
              "      <td>1034</td>\n",
              "      <td>31</td>\n",
              "      <td>34</td>\n",
              "      <td>10</td>\n",
              "      <td>17</td>\n",
              "      <td>1</td>\n",
              "      <td>3</td>\n",
              "      <td>2019</td>\n",
              "      <td>1</td>\n",
              "      <td>1</td>\n",
              "    </tr>\n",
              "    <tr>\n",
              "      <th>2</th>\n",
              "      <td>7</td>\n",
              "      <td>8</td>\n",
              "      <td>12</td>\n",
              "      <td>284</td>\n",
              "      <td>WNW</td>\n",
              "      <td>113</td>\n",
              "      <td>Sunny</td>\n",
              "      <td>0.0</td>\n",
              "      <td>0.0</td>\n",
              "      <td>88</td>\n",
              "      <td>...</td>\n",
              "      <td>1034</td>\n",
              "      <td>31</td>\n",
              "      <td>25</td>\n",
              "      <td>11</td>\n",
              "      <td>18</td>\n",
              "      <td>3</td>\n",
              "      <td>6</td>\n",
              "      <td>2019</td>\n",
              "      <td>1</td>\n",
              "      <td>1</td>\n",
              "    </tr>\n",
              "    <tr>\n",
              "      <th>3</th>\n",
              "      <td>7</td>\n",
              "      <td>8</td>\n",
              "      <td>13</td>\n",
              "      <td>294</td>\n",
              "      <td>WNW</td>\n",
              "      <td>116</td>\n",
              "      <td>Partly cloudy</td>\n",
              "      <td>0.0</td>\n",
              "      <td>0.0</td>\n",
              "      <td>88</td>\n",
              "      <td>...</td>\n",
              "      <td>1034</td>\n",
              "      <td>31</td>\n",
              "      <td>38</td>\n",
              "      <td>13</td>\n",
              "      <td>20</td>\n",
              "      <td>3</td>\n",
              "      <td>9</td>\n",
              "      <td>2019</td>\n",
              "      <td>1</td>\n",
              "      <td>1</td>\n",
              "    </tr>\n",
              "    <tr>\n",
              "      <th>4</th>\n",
              "      <td>9</td>\n",
              "      <td>9</td>\n",
              "      <td>15</td>\n",
              "      <td>320</td>\n",
              "      <td>NW</td>\n",
              "      <td>116</td>\n",
              "      <td>Partly cloudy</td>\n",
              "      <td>0.0</td>\n",
              "      <td>0.0</td>\n",
              "      <td>81</td>\n",
              "      <td>...</td>\n",
              "      <td>1035</td>\n",
              "      <td>31</td>\n",
              "      <td>57</td>\n",
              "      <td>13</td>\n",
              "      <td>21</td>\n",
              "      <td>3</td>\n",
              "      <td>12</td>\n",
              "      <td>2019</td>\n",
              "      <td>1</td>\n",
              "      <td>1</td>\n",
              "    </tr>\n",
              "    <tr>\n",
              "      <th>5</th>\n",
              "      <td>10</td>\n",
              "      <td>7</td>\n",
              "      <td>12</td>\n",
              "      <td>338</td>\n",
              "      <td>NNW</td>\n",
              "      <td>122</td>\n",
              "      <td>Overcast</td>\n",
              "      <td>0.1</td>\n",
              "      <td>0.0</td>\n",
              "      <td>81</td>\n",
              "      <td>...</td>\n",
              "      <td>1035</td>\n",
              "      <td>31</td>\n",
              "      <td>89</td>\n",
              "      <td>10</td>\n",
              "      <td>17</td>\n",
              "      <td>2</td>\n",
              "      <td>15</td>\n",
              "      <td>2019</td>\n",
              "      <td>1</td>\n",
              "      <td>1</td>\n",
              "    </tr>\n",
              "    <tr>\n",
              "      <th>6</th>\n",
              "      <td>9</td>\n",
              "      <td>7</td>\n",
              "      <td>12</td>\n",
              "      <td>13</td>\n",
              "      <td>NNE</td>\n",
              "      <td>176</td>\n",
              "      <td>Patchy rain possible</td>\n",
              "      <td>0.2</td>\n",
              "      <td>0.0</td>\n",
              "      <td>74</td>\n",
              "      <td>...</td>\n",
              "      <td>1037</td>\n",
              "      <td>31</td>\n",
              "      <td>45</td>\n",
              "      <td>9</td>\n",
              "      <td>14</td>\n",
              "      <td>1</td>\n",
              "      <td>18</td>\n",
              "      <td>2019</td>\n",
              "      <td>1</td>\n",
              "      <td>1</td>\n",
              "    </tr>\n",
              "    <tr>\n",
              "      <th>7</th>\n",
              "      <td>7</td>\n",
              "      <td>8</td>\n",
              "      <td>13</td>\n",
              "      <td>15</td>\n",
              "      <td>NNE</td>\n",
              "      <td>116</td>\n",
              "      <td>Partly cloudy</td>\n",
              "      <td>0.0</td>\n",
              "      <td>0.0</td>\n",
              "      <td>69</td>\n",
              "      <td>...</td>\n",
              "      <td>1039</td>\n",
              "      <td>31</td>\n",
              "      <td>42</td>\n",
              "      <td>11</td>\n",
              "      <td>17</td>\n",
              "      <td>1</td>\n",
              "      <td>21</td>\n",
              "      <td>2019</td>\n",
              "      <td>1</td>\n",
              "      <td>1</td>\n",
              "    </tr>\n",
              "    <tr>\n",
              "      <th>8</th>\n",
              "      <td>6</td>\n",
              "      <td>8</td>\n",
              "      <td>12</td>\n",
              "      <td>11</td>\n",
              "      <td>NNE</td>\n",
              "      <td>113</td>\n",
              "      <td>Clear</td>\n",
              "      <td>0.0</td>\n",
              "      <td>0.0</td>\n",
              "      <td>73</td>\n",
              "      <td>...</td>\n",
              "      <td>1041</td>\n",
              "      <td>31</td>\n",
              "      <td>12</td>\n",
              "      <td>10</td>\n",
              "      <td>16</td>\n",
              "      <td>1</td>\n",
              "      <td>0</td>\n",
              "      <td>2019</td>\n",
              "      <td>1</td>\n",
              "      <td>2</td>\n",
              "    </tr>\n",
              "    <tr>\n",
              "      <th>9</th>\n",
              "      <td>4</td>\n",
              "      <td>8</td>\n",
              "      <td>13</td>\n",
              "      <td>356</td>\n",
              "      <td>N</td>\n",
              "      <td>113</td>\n",
              "      <td>Clear</td>\n",
              "      <td>0.0</td>\n",
              "      <td>0.0</td>\n",
              "      <td>74</td>\n",
              "      <td>...</td>\n",
              "      <td>1042</td>\n",
              "      <td>31</td>\n",
              "      <td>14</td>\n",
              "      <td>11</td>\n",
              "      <td>17</td>\n",
              "      <td>1</td>\n",
              "      <td>3</td>\n",
              "      <td>2019</td>\n",
              "      <td>1</td>\n",
              "      <td>2</td>\n",
              "    </tr>\n",
              "  </tbody>\n",
              "</table>\n",
              "<p>10 rows × 22 columns</p>\n",
              "</div>\n",
              "      <button class=\"colab-df-convert\" onclick=\"convertToInteractive('df-3a1f0a1a-fb74-4417-986c-ccc3acd8496c')\"\n",
              "              title=\"Convert this dataframe to an interactive table.\"\n",
              "              style=\"display:none;\">\n",
              "        \n",
              "  <svg xmlns=\"http://www.w3.org/2000/svg\" height=\"24px\"viewBox=\"0 0 24 24\"\n",
              "       width=\"24px\">\n",
              "    <path d=\"M0 0h24v24H0V0z\" fill=\"none\"/>\n",
              "    <path d=\"M18.56 5.44l.94 2.06.94-2.06 2.06-.94-2.06-.94-.94-2.06-.94 2.06-2.06.94zm-11 1L8.5 8.5l.94-2.06 2.06-.94-2.06-.94L8.5 2.5l-.94 2.06-2.06.94zm10 10l.94 2.06.94-2.06 2.06-.94-2.06-.94-.94-2.06-.94 2.06-2.06.94z\"/><path d=\"M17.41 7.96l-1.37-1.37c-.4-.4-.92-.59-1.43-.59-.52 0-1.04.2-1.43.59L10.3 9.45l-7.72 7.72c-.78.78-.78 2.05 0 2.83L4 21.41c.39.39.9.59 1.41.59.51 0 1.02-.2 1.41-.59l7.78-7.78 2.81-2.81c.8-.78.8-2.07 0-2.86zM5.41 20L4 18.59l7.72-7.72 1.47 1.35L5.41 20z\"/>\n",
              "  </svg>\n",
              "      </button>\n",
              "      \n",
              "  <style>\n",
              "    .colab-df-container {\n",
              "      display:flex;\n",
              "      flex-wrap:wrap;\n",
              "      gap: 12px;\n",
              "    }\n",
              "\n",
              "    .colab-df-convert {\n",
              "      background-color: #E8F0FE;\n",
              "      border: none;\n",
              "      border-radius: 50%;\n",
              "      cursor: pointer;\n",
              "      display: none;\n",
              "      fill: #1967D2;\n",
              "      height: 32px;\n",
              "      padding: 0 0 0 0;\n",
              "      width: 32px;\n",
              "    }\n",
              "\n",
              "    .colab-df-convert:hover {\n",
              "      background-color: #E2EBFA;\n",
              "      box-shadow: 0px 1px 2px rgba(60, 64, 67, 0.3), 0px 1px 3px 1px rgba(60, 64, 67, 0.15);\n",
              "      fill: #174EA6;\n",
              "    }\n",
              "\n",
              "    [theme=dark] .colab-df-convert {\n",
              "      background-color: #3B4455;\n",
              "      fill: #D2E3FC;\n",
              "    }\n",
              "\n",
              "    [theme=dark] .colab-df-convert:hover {\n",
              "      background-color: #434B5C;\n",
              "      box-shadow: 0px 1px 3px 1px rgba(0, 0, 0, 0.15);\n",
              "      filter: drop-shadow(0px 1px 2px rgba(0, 0, 0, 0.3));\n",
              "      fill: #FFFFFF;\n",
              "    }\n",
              "  </style>\n",
              "\n",
              "      <script>\n",
              "        const buttonEl =\n",
              "          document.querySelector('#df-3a1f0a1a-fb74-4417-986c-ccc3acd8496c button.colab-df-convert');\n",
              "        buttonEl.style.display =\n",
              "          google.colab.kernel.accessAllowed ? 'block' : 'none';\n",
              "\n",
              "        async function convertToInteractive(key) {\n",
              "          const element = document.querySelector('#df-3a1f0a1a-fb74-4417-986c-ccc3acd8496c');\n",
              "          const dataTable =\n",
              "            await google.colab.kernel.invokeFunction('convertToInteractive',\n",
              "                                                     [key], {});\n",
              "          if (!dataTable) return;\n",
              "\n",
              "          const docLinkHtml = 'Like what you see? Visit the ' +\n",
              "            '<a target=\"_blank\" href=https://colab.research.google.com/notebooks/data_table.ipynb>data table notebook</a>'\n",
              "            + ' to learn more about interactive tables.';\n",
              "          element.innerHTML = '';\n",
              "          dataTable['output_type'] = 'display_data';\n",
              "          await google.colab.output.renderOutput(dataTable, element);\n",
              "          const docLink = document.createElement('div');\n",
              "          docLink.innerHTML = docLinkHtml;\n",
              "          element.appendChild(docLink);\n",
              "        }\n",
              "      </script>\n",
              "    </div>\n",
              "  </div>\n",
              "  "
            ]
          },
          "metadata": {},
          "execution_count": 12
        }
      ],
      "source": [
        "weather_data.head(10)"
      ]
    },
    {
      "cell_type": "code",
      "execution_count": 13,
      "id": "701f2db7",
      "metadata": {
        "colab": {
          "base_uri": "https://localhost:8080/"
        },
        "id": "701f2db7",
        "outputId": "6b127bfc-0d61-4589-e390-e856478510cb"
      },
      "outputs": [
        {
          "output_type": "execute_result",
          "data": {
            "text/plain": [
              "tempC              0\n",
              "windspeedMiles     0\n",
              "windspeedKmph      0\n",
              "winddirDegree      0\n",
              "winddir16Point     0\n",
              "weatherCode        0\n",
              "weatherDesc        0\n",
              "precipMM           0\n",
              "precipInches       0\n",
              "humidity           0\n",
              "visibility         0\n",
              "visibilityMiles    0\n",
              "pressure           0\n",
              "pressureInches     0\n",
              "cloudcover         0\n",
              "WindGustMiles      0\n",
              "WindGustKmph       0\n",
              "uvIndex            0\n",
              "hour               0\n",
              "year               0\n",
              "month              0\n",
              "day                0\n",
              "dtype: int64"
            ]
          },
          "metadata": {},
          "execution_count": 13
        }
      ],
      "source": [
        "#checking for missing values\n",
        "missing_values = weather_data.isnull().sum()\n",
        "missing_values"
      ]
    },
    {
      "cell_type": "markdown",
      "id": "96b67f94",
      "metadata": {
        "id": "96b67f94"
      },
      "source": [
        "#### Comment:\n",
        "No missing values in the data"
      ]
    },
    {
      "cell_type": "markdown",
      "id": "b2adfa4f",
      "metadata": {
        "id": "b2adfa4f"
      },
      "source": [
        "### EDA"
      ]
    },
    {
      "cell_type": "markdown",
      "id": "d1d5ea93",
      "metadata": {
        "id": "d1d5ea93"
      },
      "source": [
        "#### Heat Map\n",
        "A correlation heatmap is a heatmap that shows a 2D correlation matrix between two discrete dimensions, using colored cells to represent data from usually a monochromatic scale. It ignore null and non-numeric values"
      ]
    },
    {
      "cell_type": "code",
      "execution_count": 14,
      "id": "c05ebe9d",
      "metadata": {
        "colab": {
          "base_uri": "https://localhost:8080/",
          "height": 631
        },
        "id": "c05ebe9d",
        "outputId": "0ce81671-11bf-4306-d0aa-74b5ad692de4"
      },
      "outputs": [
        {
          "output_type": "execute_result",
          "data": {
            "text/plain": [
              "<matplotlib.axes._subplots.AxesSubplot at 0x7f4013fd6790>"
            ]
          },
          "metadata": {},
          "execution_count": 14
        },
        {
          "output_type": "display_data",
          "data": {
            "text/plain": [
              "<Figure size 1080x648 with 2 Axes>"
            ],
            "image/png": "[encoded data removed]"
          },
          "metadata": {
            "needs_background": "light"
          }
        }
      ],
      "source": [
        "weather_corr = weather_data.corr()\n",
        "## increasing the plot figure size to see the correlation coefficient values clearly\n",
        "plt.subplots(figsize=(15, 9))\n",
        "sns.heatmap(weather_corr, annot=True)"
      ]
    },
    {
      "cell_type": "markdown",
      "id": "1ff59ed1",
      "metadata": {
        "id": "1ff59ed1"
      },
      "source": [
        "#### **Comment**:\n",
        "1) tempC and uvIndex are positively correlated. <br>\n",
        "2) tempC and humidity are negatively correlated. <br>\n",
        "    But, the amount of UV radiation that reaches the earth on any given day is not affected by air temperature.(According to domain research)<br><br>\n",
        "3) windspeedMiles, windspeedKmph have similar correlation values (obviously), one of them can be eliminated. <br>\n",
        "    It's the samecase with WindGustMiles, WindGustKmph & visibility, visibilityMiles. <br>\n",
        "4) Keeping the pressureInches column and dropping the actual pressure in millibars column because small numbers are easier to look at!  <br>\n"
      ]
    },
    {
      "cell_type": "markdown",
      "id": "108e409f",
      "metadata": {
        "id": "108e409f"
      },
      "source": [
        "#### Since weatherCode, weatherDesc cols seem to have repeating values, so, I decided to check whether they are categorical in anyway"
      ]
    },
    {
      "cell_type": "code",
      "execution_count": 15,
      "id": "e8bfc908",
      "metadata": {
        "colab": {
          "base_uri": "https://localhost:8080/"
        },
        "id": "e8bfc908",
        "outputId": "106fb635-6ff6-493e-d470-8696c1a251ec"
      },
      "outputs": [
        {
          "output_type": "execute_result",
          "data": {
            "text/plain": [
              "37"
            ]
          },
          "metadata": {},
          "execution_count": 15
        }
      ],
      "source": [
        "len(weather_data.weatherCode.unique())"
      ]
    },
    {
      "cell_type": "code",
      "execution_count": 16,
      "id": "5eee7c2d",
      "metadata": {
        "scrolled": true,
        "colab": {
          "base_uri": "https://localhost:8080/"
        },
        "id": "5eee7c2d",
        "outputId": "6b9119bc-0257-4b0d-f99f-8b243c5501b1"
      },
      "outputs": [
        {
          "output_type": "execute_result",
          "data": {
            "text/plain": [
              "38"
            ]
          },
          "metadata": {},
          "execution_count": 16
        }
      ],
      "source": [
        "len(weather_data.weatherDesc.unique())"
      ]
    },
    {
      "cell_type": "markdown",
      "id": "296c5499",
      "metadata": {
        "id": "296c5499"
      },
      "source": [
        "#### Since they have unique values that are very close, checked whether they are related somehow."
      ]
    },
    {
      "cell_type": "code",
      "execution_count": 17,
      "id": "6c149e83",
      "metadata": {
        "colab": {
          "base_uri": "https://localhost:8080/"
        },
        "id": "6c149e83",
        "outputId": "328f1a33-13f6-42e1-a088-4b32919a0a71"
      },
      "outputs": [
        {
          "output_type": "execute_result",
          "data": {
            "text/plain": [
              "116    3094\n",
              "113    1308\n",
              "122    1238\n",
              "119     808\n",
              "176     592\n",
              "353     547\n",
              "296     272\n",
              "266     255\n",
              "302     178\n",
              "143     121\n",
              "356      49\n",
              "248      40\n",
              "308      35\n",
              "338      34\n",
              "293      33\n",
              "263      30\n",
              "299      27\n",
              "200      14\n",
              "317      12\n",
              "332      10\n",
              "389      10\n",
              "326       7\n",
              "311       7\n",
              "371       7\n",
              "305       6\n",
              "386       5\n",
              "362       4\n",
              "335       4\n",
              "182       4\n",
              "329       4\n",
              "359       3\n",
              "323       3\n",
              "368       2\n",
              "230       2\n",
              "227       1\n",
              "320       1\n",
              "395       1\n",
              "Name: weatherCode, dtype: int64"
            ]
          },
          "metadata": {},
          "execution_count": 17
        }
      ],
      "source": [
        "weather_data.weatherCode.value_counts()"
      ]
    },
    {
      "cell_type": "code",
      "execution_count": 18,
      "id": "3cca935e",
      "metadata": {
        "scrolled": true,
        "colab": {
          "base_uri": "https://localhost:8080/"
        },
        "id": "3cca935e",
        "outputId": "c333c88f-b3ce-42a5-87a6-bbd8acb316d2"
      },
      "outputs": [
        {
          "output_type": "execute_result",
          "data": {
            "text/plain": [
              "Partly cloudy                          3094\n",
              "Overcast                               1238\n",
              "Cloudy                                  808\n",
              "Clear                                   684\n",
              "Sunny                                   624\n",
              "Patchy rain possible                    592\n",
              "Light rain shower                       547\n",
              "Light rain                              272\n",
              "Light drizzle                           255\n",
              "Moderate rain                           178\n",
              "Mist                                    121\n",
              "Moderate or heavy rain shower            49\n",
              "Fog                                      40\n",
              "Heavy rain                               35\n",
              "Heavy snow                               34\n",
              "Patchy light rain                        33\n",
              "Patchy light drizzle                     30\n",
              "Moderate rain at times                   27\n",
              "Thundery outbreaks possible              14\n",
              "Light sleet                              12\n",
              "Moderate snow                            10\n",
              "Moderate or heavy rain with thunder      10\n",
              "Light snow                                7\n",
              "Light freezing rain                       7\n",
              "Moderate or heavy snow showers            7\n",
              "Heavy rain at times                       6\n",
              "Patchy light rain with thunder            5\n",
              "Light sleet showers                       4\n",
              "Patchy heavy snow                         4\n",
              "Patchy sleet possible                     4\n",
              "Patchy moderate snow                      4\n",
              "Torrential rain shower                    3\n",
              "Patchy light snow                         3\n",
              "Light snow showers                        2\n",
              "Blizzard                                  2\n",
              "Blowing snow                              1\n",
              "Moderate or heavy sleet                   1\n",
              "Moderate or heavy snow with thunder       1\n",
              "Name: weatherDesc, dtype: int64"
            ]
          },
          "metadata": {},
          "execution_count": 18
        }
      ],
      "source": [
        "weather_data.weatherDesc.value_counts()"
      ]
    },
    {
      "cell_type": "markdown",
      "id": "eb88995b",
      "metadata": {
        "id": "eb88995b"
      },
      "source": [
        "#### I love this! \n",
        "count(weatherCode['113']= 1308 = count(weatherDesc['Clear']) + count(weatherCode['Sunny']) and counts of the rest of the values are matching too!!!<br>\n",
        "\n",
        "This means weatherDesc and weatherCode are similar columns. Thus, one of them can be ignored. Since, weatherDesc is more specific, I decided to drop the weatherCode col.\n",
        "\n",
        "The winddirDegree and winddir16Point cols indicate the same thing - the direction of the wind. Therefore one of them can be dropped. I am dropping the winddir16Point as it is categorical and non-numeric. "
      ]
    },
    {
      "cell_type": "code",
      "execution_count": 19,
      "id": "845a6269",
      "metadata": {
        "colab": {
          "base_uri": "https://localhost:8080/"
        },
        "id": "845a6269",
        "outputId": "5acb5d18-0b3b-4439-f1f7-78e6895b5afb"
      },
      "outputs": [
        {
          "output_type": "execute_result",
          "data": {
            "text/plain": [
              "0.0    8180\n",
              "0.1     420\n",
              "0.2      96\n",
              "0.3      45\n",
              "0.4      12\n",
              "0.5       7\n",
              "0.6       5\n",
              "0.7       2\n",
              "0.8       1\n",
              "Name: precipInches, dtype: int64"
            ]
          },
          "metadata": {},
          "execution_count": 19
        }
      ],
      "source": [
        "weather_data.precipInches.value_counts() "
      ]
    },
    {
      "cell_type": "code",
      "execution_count": 20,
      "id": "520db0eb",
      "metadata": {
        "colab": {
          "base_uri": "https://localhost:8080/"
        },
        "id": "520db0eb",
        "outputId": "2cbe5782-5e4f-4974-a889-6394924914f9"
      },
      "outputs": [
        {
          "output_type": "execute_result",
          "data": {
            "text/plain": [
              "0.0     6405\n",
              "0.1      603\n",
              "0.2      277\n",
              "0.3      193\n",
              "0.4      145\n",
              "        ... \n",
              "9.8        1\n",
              "8.8        1\n",
              "5.6        1\n",
              "11.6       1\n",
              "8.2        1\n",
              "Name: precipMM, Length: 107, dtype: int64"
            ]
          },
          "metadata": {},
          "execution_count": 20
        }
      ],
      "source": [
        "weather_data.precipMM.value_counts() "
      ]
    },
    {
      "cell_type": "code",
      "execution_count": 21,
      "id": "ba67e3e0",
      "metadata": {
        "colab": {
          "base_uri": "https://localhost:8080/"
        },
        "id": "ba67e3e0",
        "outputId": "7c59bd7e-d8cb-4815-c64f-9c74e348938d"
      },
      "outputs": [
        {
          "output_type": "execute_result",
          "data": {
            "text/plain": [
              "False"
            ]
          },
          "metadata": {},
          "execution_count": 21
        }
      ],
      "source": [
        "weather_data['precipMM'].equals(25.4 * weather_data['precipInches'])"
      ]
    },
    {
      "cell_type": "markdown",
      "id": "f247de03",
      "metadata": {
        "id": "f247de03"
      },
      "source": [
        "The value of both the columns are not matching but they mean the same thing, the precipInches column has very few values when compared to precipMM, the reason for this is unclear but since both of them indicate the same entity - amount of water per square meter of earth surface. Therefore one of them can be dropped. I am dropping precipInches since this col is discrete."
      ]
    },
    {
      "cell_type": "code",
      "execution_count": 22,
      "id": "7eb778a8",
      "metadata": {
        "id": "7eb778a8"
      },
      "outputs": [],
      "source": [
        "weather_data = weather_data.drop(['windspeedMiles', 'WindGustMiles', 'visibilityMiles', 'pressure', 'weatherCode', 'winddir16Point', 'precipInches'], axis=1)"
      ]
    },
    {
      "cell_type": "code",
      "execution_count": 23,
      "id": "1fc5e624",
      "metadata": {
        "scrolled": true,
        "colab": {
          "base_uri": "https://localhost:8080/"
        },
        "id": "1fc5e624",
        "outputId": "9de47665-2883-4883-d1a7-18b9ab91fde0"
      },
      "outputs": [
        {
          "output_type": "stream",
          "name": "stdout",
          "text": [
            "<class 'pandas.core.frame.DataFrame'>\n",
            "RangeIndex: 8768 entries, 0 to 8767\n",
            "Data columns (total 15 columns):\n",
            " #   Column          Non-Null Count  Dtype  \n",
            "---  ------          --------------  -----  \n",
            " 0   tempC           8768 non-null   int64  \n",
            " 1   windspeedKmph   8768 non-null   int64  \n",
            " 2   winddirDegree   8768 non-null   int64  \n",
            " 3   weatherDesc     8768 non-null   object \n",
            " 4   precipMM        8768 non-null   float64\n",
            " 5   humidity        8768 non-null   int64  \n",
            " 6   visibility      8768 non-null   int64  \n",
            " 7   pressureInches  8768 non-null   int64  \n",
            " 8   cloudcover      8768 non-null   int64  \n",
            " 9   WindGustKmph    8768 non-null   int64  \n",
            " 10  uvIndex         8768 non-null   int64  \n",
            " 11  hour            8768 non-null   int64  \n",
            " 12  year            8768 non-null   int64  \n",
            " 13  month           8768 non-null   int64  \n",
            " 14  day             8768 non-null   int64  \n",
            "dtypes: float64(1), int64(13), object(1)\n",
            "memory usage: 1.0+ MB\n"
          ]
        }
      ],
      "source": [
        "weather_data.info()"
      ]
    },
    {
      "cell_type": "markdown",
      "id": "8d84b205",
      "metadata": {
        "id": "8d84b205"
      },
      "source": [
        "### Feature Encoding"
      ]
    },
    {
      "cell_type": "markdown",
      "id": "4ae36b63",
      "metadata": {
        "id": "4ae36b63"
      },
      "source": [
        "Converting all the non-numeric features into numerical value using feature encoding - Target Encoding or Mean encoding"
      ]
    },
    {
      "cell_type": "code",
      "execution_count": 24,
      "id": "632ce8e1",
      "metadata": {
        "colab": {
          "base_uri": "https://localhost:8080/"
        },
        "id": "632ce8e1",
        "outputId": "55e72f5a-f1c2-4df6-b206-af1508e960d7"
      },
      "outputs": [
        {
          "output_type": "stream",
          "name": "stdout",
          "text": [
            "Collecting category_encoders\n",
            "  Downloading category_encoders-2.4.0-py2.py3-none-any.whl (86 kB)\n",
            "\u001b[?25l\r\u001b[K     |███▉                            | 10 kB 16.3 MB/s eta 0:00:01\r\u001b[K     |███████▋                        | 20 kB 12.2 MB/s eta 0:00:01\r\u001b[K     |███████████▍                    | 30 kB 9.4 MB/s eta 0:00:01\r\u001b[K     |███████████████▏                | 40 kB 4.6 MB/s eta 0:00:01\r\u001b[K     |███████████████████             | 51 kB 4.3 MB/s eta 0:00:01\r\u001b[K     |██████████████████████▊         | 61 kB 5.1 MB/s eta 0:00:01\r\u001b[K     |██████████████████████████▌     | 71 kB 5.8 MB/s eta 0:00:01\r\u001b[K     |██████████████████████████████▎ | 81 kB 6.1 MB/s eta 0:00:01\r\u001b[K     |████████████████████████████████| 86 kB 3.2 MB/s \n",
            "\u001b[?25hRequirement already satisfied: scikit-learn>=0.20.0 in /usr/local/lib/python3.7/dist-packages (from category_encoders) (1.0.2)\n",
            "Requirement already satisfied: scipy>=1.0.0 in /usr/local/lib/python3.7/dist-packages (from category_encoders) (1.4.1)\n",
            "Requirement already satisfied: numpy>=1.14.0 in /usr/local/lib/python3.7/dist-packages (from category_encoders) (1.21.5)\n",
            "Requirement already satisfied: pandas>=0.21.1 in /usr/local/lib/python3.7/dist-packages (from category_encoders) (1.3.5)\n",
            "Requirement already satisfied: statsmodels>=0.9.0 in /usr/local/lib/python3.7/dist-packages (from category_encoders) (0.10.2)\n",
            "Requirement already satisfied: patsy>=0.5.1 in /usr/local/lib/python3.7/dist-packages (from category_encoders) (0.5.2)\n",
            "Requirement already satisfied: python-dateutil>=2.7.3 in /usr/local/lib/python3.7/dist-packages (from pandas>=0.21.1->category_encoders) (2.8.2)\n",
            "Requirement already satisfied: pytz>=2017.3 in /usr/local/lib/python3.7/dist-packages (from pandas>=0.21.1->category_encoders) (2018.9)\n",
            "Requirement already satisfied: six in /usr/local/lib/python3.7/dist-packages (from patsy>=0.5.1->category_encoders) (1.15.0)\n",
            "Requirement already satisfied: joblib>=0.11 in /usr/local/lib/python3.7/dist-packages (from scikit-learn>=0.20.0->category_encoders) (1.1.0)\n",
            "Requirement already satisfied: threadpoolctl>=2.0.0 in /usr/local/lib/python3.7/dist-packages (from scikit-learn>=0.20.0->category_encoders) (3.1.0)\n",
            "Installing collected packages: category-encoders\n",
            "Successfully installed category-encoders-2.4.0\n"
          ]
        }
      ],
      "source": [
        "pip install category_encoders"
      ]
    },
    {
      "cell_type": "code",
      "execution_count": 25,
      "id": "0ca55ff5",
      "metadata": {
        "colab": {
          "base_uri": "https://localhost:8080/"
        },
        "id": "0ca55ff5",
        "outputId": "3e1ea9f3-068e-42fa-b7c5-a9dca31fab5a"
      },
      "outputs": [
        {
          "output_type": "stream",
          "name": "stderr",
          "text": [
            "/usr/local/lib/python3.7/dist-packages/statsmodels/tools/_testing.py:19: FutureWarning: pandas.util.testing is deprecated. Use the functions in the public API at pandas.testing instead.\n",
            "  import pandas.util.testing as tm\n"
          ]
        }
      ],
      "source": [
        "from category_encoders import TargetEncoder\n",
        "from category_encoders import OneHotEncoder"
      ]
    },
    {
      "cell_type": "code",
      "execution_count": 26,
      "id": "ce129938",
      "metadata": {
        "id": "ce129938"
      },
      "outputs": [],
      "source": [
        "description_encoder = TargetEncoder()\n",
        "weather_data['weatherDesc'] = description_encoder.fit_transform(weather_data['weatherDesc'], weather_data['tempC'])"
      ]
    },
    {
      "cell_type": "code",
      "execution_count": 27,
      "id": "7983d6e1",
      "metadata": {
        "id": "7983d6e1"
      },
      "outputs": [],
      "source": [
        "def encode(data, col, max_val):\n",
        "    data[col + '_sin'] = np.sin(2 * np.pi * data[col]/max_val)\n",
        "    data[col + '_cos'] = np.cos(2 * np.pi * data[col]/max_val)\n",
        "    return data\n",
        "\n",
        "\n",
        "weather_data = encode(weather_data, 'month', 12)\n",
        "weather_data = weather_data.drop(['month'],  axis=1)\n",
        "weather_data = encode(weather_data, 'day', 365)\n",
        "weather_data = weather_data.drop(['day'],  axis=1)\n",
        "weather_data = weather_data.drop(['year'],  axis=1)"
      ]
    },
    {
      "cell_type": "markdown",
      "id": "93fd19f4",
      "metadata": {
        "id": "93fd19f4"
      },
      "source": [
        "### Feature Scaling"
      ]
    },
    {
      "cell_type": "markdown",
      "id": "5e8cf16e",
      "metadata": {
        "id": "5e8cf16e"
      },
      "source": [
        "#### Min-Max Scaling\n",
        "Regression models perform better when features are on a relatively similar scale and/or close to normally distributed."
      ]
    },
    {
      "cell_type": "code",
      "source": [
        "weather_data.head()"
      ],
      "metadata": {
        "colab": {
          "base_uri": "https://localhost:8080/",
          "height": 206
        },
        "id": "6r4Xtd15SjxO",
        "outputId": "399aa486-adb9-4f40-adfb-e5229b13e434"
      },
      "id": "6r4Xtd15SjxO",
      "execution_count": 28,
      "outputs": [
        {
          "output_type": "execute_result",
          "data": {
            "text/plain": [
              "   tempC  windspeedKmph  winddirDegree  weatherDesc  precipMM  humidity  \\\n",
              "0      9             10            272    11.235057       0.0        78   \n",
              "1      8             11            278    12.768908       0.0        85   \n",
              "2      7             12            284    14.185897       0.0        88   \n",
              "3      7             13            294    12.768908       0.0        88   \n",
              "4      9             15            320    12.768908       0.0        81   \n",
              "\n",
              "   visibility  pressureInches  cloudcover  WindGustKmph  uvIndex  hour  \\\n",
              "0          10              31         100            15        1     0   \n",
              "1          10              31          34            17        1     3   \n",
              "2          10              31          25            18        3     6   \n",
              "3          10              31          38            20        3     9   \n",
              "4          10              31          57            21        3    12   \n",
              "\n",
              "   month_sin  month_cos   day_sin   day_cos  \n",
              "0        0.5   0.866025  0.017213  0.999852  \n",
              "1        0.5   0.866025  0.017213  0.999852  \n",
              "2        0.5   0.866025  0.017213  0.999852  \n",
              "3        0.5   0.866025  0.017213  0.999852  \n",
              "4        0.5   0.866025  0.017213  0.999852  "
            ],
            "text/html": [
              "\n",
              "  <div id=\"df-5e6a17d1-b1f7-4174-889d-06e0743f746d\">\n",
              "    <div class=\"colab-df-container\">\n",
              "      <div>\n",
              "<style scoped>\n",
              "    .dataframe tbody tr th:only-of-type {\n",
              "        vertical-align: middle;\n",
              "    }\n",
              "\n",
              "    .dataframe tbody tr th {\n",
              "        vertical-align: top;\n",
              "    }\n",
              "\n",
              "    .dataframe thead th {\n",
              "        text-align: right;\n",
              "    }\n",
              "</style>\n",
              "<table border=\"1\" class=\"dataframe\">\n",
              "  <thead>\n",
              "    <tr style=\"text-align: right;\">\n",
              "      <th></th>\n",
              "      <th>tempC</th>\n",
              "      <th>windspeedKmph</th>\n",
              "      <th>winddirDegree</th>\n",
              "      <th>weatherDesc</th>\n",
              "      <th>precipMM</th>\n",
              "      <th>humidity</th>\n",
              "      <th>visibility</th>\n",
              "      <th>pressureInches</th>\n",
              "      <th>cloudcover</th>\n",
              "      <th>WindGustKmph</th>\n",
              "      <th>uvIndex</th>\n",
              "      <th>hour</th>\n",
              "      <th>month_sin</th>\n",
              "      <th>month_cos</th>\n",
              "      <th>day_sin</th>\n",
              "      <th>day_cos</th>\n",
              "    </tr>\n",
              "  </thead>\n",
              "  <tbody>\n",
              "    <tr>\n",
              "      <th>0</th>\n",
              "      <td>9</td>\n",
              "      <td>10</td>\n",
              "      <td>272</td>\n",
              "      <td>11.235057</td>\n",
              "      <td>0.0</td>\n",
              "      <td>78</td>\n",
              "      <td>10</td>\n",
              "      <td>31</td>\n",
              "      <td>100</td>\n",
              "      <td>15</td>\n",
              "      <td>1</td>\n",
              "      <td>0</td>\n",
              "      <td>0.5</td>\n",
              "      <td>0.866025</td>\n",
              "      <td>0.017213</td>\n",
              "      <td>0.999852</td>\n",
              "    </tr>\n",
              "    <tr>\n",
              "      <th>1</th>\n",
              "      <td>8</td>\n",
              "      <td>11</td>\n",
              "      <td>278</td>\n",
              "      <td>12.768908</td>\n",
              "      <td>0.0</td>\n",
              "      <td>85</td>\n",
              "      <td>10</td>\n",
              "      <td>31</td>\n",
              "      <td>34</td>\n",
              "      <td>17</td>\n",
              "      <td>1</td>\n",
              "      <td>3</td>\n",
              "      <td>0.5</td>\n",
              "      <td>0.866025</td>\n",
              "      <td>0.017213</td>\n",
              "      <td>0.999852</td>\n",
              "    </tr>\n",
              "    <tr>\n",
              "      <th>2</th>\n",
              "      <td>7</td>\n",
              "      <td>12</td>\n",
              "      <td>284</td>\n",
              "      <td>14.185897</td>\n",
              "      <td>0.0</td>\n",
              "      <td>88</td>\n",
              "      <td>10</td>\n",
              "      <td>31</td>\n",
              "      <td>25</td>\n",
              "      <td>18</td>\n",
              "      <td>3</td>\n",
              "      <td>6</td>\n",
              "      <td>0.5</td>\n",
              "      <td>0.866025</td>\n",
              "      <td>0.017213</td>\n",
              "      <td>0.999852</td>\n",
              "    </tr>\n",
              "    <tr>\n",
              "      <th>3</th>\n",
              "      <td>7</td>\n",
              "      <td>13</td>\n",
              "      <td>294</td>\n",
              "      <td>12.768908</td>\n",
              "      <td>0.0</td>\n",
              "      <td>88</td>\n",
              "      <td>10</td>\n",
              "      <td>31</td>\n",
              "      <td>38</td>\n",
              "      <td>20</td>\n",
              "      <td>3</td>\n",
              "      <td>9</td>\n",
              "      <td>0.5</td>\n",
              "      <td>0.866025</td>\n",
              "      <td>0.017213</td>\n",
              "      <td>0.999852</td>\n",
              "    </tr>\n",
              "    <tr>\n",
              "      <th>4</th>\n",
              "      <td>9</td>\n",
              "      <td>15</td>\n",
              "      <td>320</td>\n",
              "      <td>12.768908</td>\n",
              "      <td>0.0</td>\n",
              "      <td>81</td>\n",
              "      <td>10</td>\n",
              "      <td>31</td>\n",
              "      <td>57</td>\n",
              "      <td>21</td>\n",
              "      <td>3</td>\n",
              "      <td>12</td>\n",
              "      <td>0.5</td>\n",
              "      <td>0.866025</td>\n",
              "      <td>0.017213</td>\n",
              "      <td>0.999852</td>\n",
              "    </tr>\n",
              "  </tbody>\n",
              "</table>\n",
              "</div>\n",
              "      <button class=\"colab-df-convert\" onclick=\"convertToInteractive('df-5e6a17d1-b1f7-4174-889d-06e0743f746d')\"\n",
              "              title=\"Convert this dataframe to an interactive table.\"\n",
              "              style=\"display:none;\">\n",
              "        \n",
              "  <svg xmlns=\"http://www.w3.org/2000/svg\" height=\"24px\"viewBox=\"0 0 24 24\"\n",
              "       width=\"24px\">\n",
              "    <path d=\"M0 0h24v24H0V0z\" fill=\"none\"/>\n",
              "    <path d=\"M18.56 5.44l.94 2.06.94-2.06 2.06-.94-2.06-.94-.94-2.06-.94 2.06-2.06.94zm-11 1L8.5 8.5l.94-2.06 2.06-.94-2.06-.94L8.5 2.5l-.94 2.06-2.06.94zm10 10l.94 2.06.94-2.06 2.06-.94-2.06-.94-.94-2.06-.94 2.06-2.06.94z\"/><path d=\"M17.41 7.96l-1.37-1.37c-.4-.4-.92-.59-1.43-.59-.52 0-1.04.2-1.43.59L10.3 9.45l-7.72 7.72c-.78.78-.78 2.05 0 2.83L4 21.41c.39.39.9.59 1.41.59.51 0 1.02-.2 1.41-.59l7.78-7.78 2.81-2.81c.8-.78.8-2.07 0-2.86zM5.41 20L4 18.59l7.72-7.72 1.47 1.35L5.41 20z\"/>\n",
              "  </svg>\n",
              "      </button>\n",
              "      \n",
              "  <style>\n",
              "    .colab-df-container {\n",
              "      display:flex;\n",
              "      flex-wrap:wrap;\n",
              "      gap: 12px;\n",
              "    }\n",
              "\n",
              "    .colab-df-convert {\n",
              "      background-color: #E8F0FE;\n",
              "      border: none;\n",
              "      border-radius: 50%;\n",
              "      cursor: pointer;\n",
              "      display: none;\n",
              "      fill: #1967D2;\n",
              "      height: 32px;\n",
              "      padding: 0 0 0 0;\n",
              "      width: 32px;\n",
              "    }\n",
              "\n",
              "    .colab-df-convert:hover {\n",
              "      background-color: #E2EBFA;\n",
              "      box-shadow: 0px 1px 2px rgba(60, 64, 67, 0.3), 0px 1px 3px 1px rgba(60, 64, 67, 0.15);\n",
              "      fill: #174EA6;\n",
              "    }\n",
              "\n",
              "    [theme=dark] .colab-df-convert {\n",
              "      background-color: #3B4455;\n",
              "      fill: #D2E3FC;\n",
              "    }\n",
              "\n",
              "    [theme=dark] .colab-df-convert:hover {\n",
              "      background-color: #434B5C;\n",
              "      box-shadow: 0px 1px 3px 1px rgba(0, 0, 0, 0.15);\n",
              "      filter: drop-shadow(0px 1px 2px rgba(0, 0, 0, 0.3));\n",
              "      fill: #FFFFFF;\n",
              "    }\n",
              "  </style>\n",
              "\n",
              "      <script>\n",
              "        const buttonEl =\n",
              "          document.querySelector('#df-5e6a17d1-b1f7-4174-889d-06e0743f746d button.colab-df-convert');\n",
              "        buttonEl.style.display =\n",
              "          google.colab.kernel.accessAllowed ? 'block' : 'none';\n",
              "\n",
              "        async function convertToInteractive(key) {\n",
              "          const element = document.querySelector('#df-5e6a17d1-b1f7-4174-889d-06e0743f746d');\n",
              "          const dataTable =\n",
              "            await google.colab.kernel.invokeFunction('convertToInteractive',\n",
              "                                                     [key], {});\n",
              "          if (!dataTable) return;\n",
              "\n",
              "          const docLinkHtml = 'Like what you see? Visit the ' +\n",
              "            '<a target=\"_blank\" href=https://colab.research.google.com/notebooks/data_table.ipynb>data table notebook</a>'\n",
              "            + ' to learn more about interactive tables.';\n",
              "          element.innerHTML = '';\n",
              "          dataTable['output_type'] = 'display_data';\n",
              "          await google.colab.output.renderOutput(dataTable, element);\n",
              "          const docLink = document.createElement('div');\n",
              "          docLink.innerHTML = docLinkHtml;\n",
              "          element.appendChild(docLink);\n",
              "        }\n",
              "      </script>\n",
              "    </div>\n",
              "  </div>\n",
              "  "
            ]
          },
          "metadata": {},
          "execution_count": 28
        }
      ]
    },
    {
      "cell_type": "code",
      "source": [
        "from sklearn import preprocessing\n",
        "mm_scaler = preprocessing.MinMaxScaler()\n",
        "weather_data_scaled = mm_scaler.fit_transform(weather_data)\n",
        "weather_data_final = pd.DataFrame(weather_data_scaled, columns = weather_data.columns)"
      ],
      "metadata": {
        "id": "Ye32LZj7Sl_2"
      },
      "id": "Ye32LZj7Sl_2",
      "execution_count": 29,
      "outputs": []
    },
    {
      "cell_type": "code",
      "source": [
        "weather_data_final.head()"
      ],
      "metadata": {
        "colab": {
          "base_uri": "https://localhost:8080/",
          "height": 206
        },
        "id": "5NeAmUjqSoe_",
        "outputId": "dca1129f-cabd-4bd4-b66c-85069d9c5d8f"
      },
      "id": "5NeAmUjqSoe_",
      "execution_count": 30,
      "outputs": [
        {
          "output_type": "execute_result",
          "data": {
            "text/plain": [
              "      tempC  windspeedKmph  winddirDegree  weatherDesc  precipMM  humidity  \\\n",
              "0  0.372093           0.20       0.755556     0.546567       0.0  0.734177   \n",
              "1  0.348837           0.22       0.772222     0.616086       0.0  0.822785   \n",
              "2  0.325581           0.24       0.788889     0.680309       0.0  0.860759   \n",
              "3  0.325581           0.26       0.816667     0.616086       0.0  0.860759   \n",
              "4  0.372093           0.30       0.888889     0.616086       0.0  0.772152   \n",
              "\n",
              "   visibility  pressureInches  cloudcover  WindGustKmph  uvIndex      hour  \\\n",
              "0         1.0             1.0        1.00      0.211268     0.00  0.000000   \n",
              "1         1.0             1.0        0.34      0.239437     0.00  0.142857   \n",
              "2         1.0             1.0        0.25      0.253521     0.25  0.285714   \n",
              "3         1.0             1.0        0.38      0.281690     0.25  0.428571   \n",
              "4         1.0             1.0        0.57      0.295775     0.25  0.571429   \n",
              "\n",
              "   month_sin  month_cos  day_sin  day_cos  \n",
              "0       0.75   0.933013      0.0      1.0  \n",
              "1       0.75   0.933013      0.0      1.0  \n",
              "2       0.75   0.933013      0.0      1.0  \n",
              "3       0.75   0.933013      0.0      1.0  \n",
              "4       0.75   0.933013      0.0      1.0  "
            ],
            "text/html": [
              "\n",
              "  <div id=\"df-394c83e0-a706-4f5e-98b1-d01b617403ec\">\n",
              "    <div class=\"colab-df-container\">\n",
              "      <div>\n",
              "<style scoped>\n",
              "    .dataframe tbody tr th:only-of-type {\n",
              "        vertical-align: middle;\n",
              "    }\n",
              "\n",
              "    .dataframe tbody tr th {\n",
              "        vertical-align: top;\n",
              "    }\n",
              "\n",
              "    .dataframe thead th {\n",
              "        text-align: right;\n",
              "    }\n",
              "</style>\n",
              "<table border=\"1\" class=\"dataframe\">\n",
              "  <thead>\n",
              "    <tr style=\"text-align: right;\">\n",
              "      <th></th>\n",
              "      <th>tempC</th>\n",
              "      <th>windspeedKmph</th>\n",
              "      <th>winddirDegree</th>\n",
              "      <th>weatherDesc</th>\n",
              "      <th>precipMM</th>\n",
              "      <th>humidity</th>\n",
              "      <th>visibility</th>\n",
              "      <th>pressureInches</th>\n",
              "      <th>cloudcover</th>\n",
              "      <th>WindGustKmph</th>\n",
              "      <th>uvIndex</th>\n",
              "      <th>hour</th>\n",
              "      <th>month_sin</th>\n",
              "      <th>month_cos</th>\n",
              "      <th>day_sin</th>\n",
              "      <th>day_cos</th>\n",
              "    </tr>\n",
              "  </thead>\n",
              "  <tbody>\n",
              "    <tr>\n",
              "      <th>0</th>\n",
              "      <td>0.372093</td>\n",
              "      <td>0.20</td>\n",
              "      <td>0.755556</td>\n",
              "      <td>0.546567</td>\n",
              "      <td>0.0</td>\n",
              "      <td>0.734177</td>\n",
              "      <td>1.0</td>\n",
              "      <td>1.0</td>\n",
              "      <td>1.00</td>\n",
              "      <td>0.211268</td>\n",
              "      <td>0.00</td>\n",
              "      <td>0.000000</td>\n",
              "      <td>0.75</td>\n",
              "      <td>0.933013</td>\n",
              "      <td>0.0</td>\n",
              "      <td>1.0</td>\n",
              "    </tr>\n",
              "    <tr>\n",
              "      <th>1</th>\n",
              "      <td>0.348837</td>\n",
              "      <td>0.22</td>\n",
              "      <td>0.772222</td>\n",
              "      <td>0.616086</td>\n",
              "      <td>0.0</td>\n",
              "      <td>0.822785</td>\n",
              "      <td>1.0</td>\n",
              "      <td>1.0</td>\n",
              "      <td>0.34</td>\n",
              "      <td>0.239437</td>\n",
              "      <td>0.00</td>\n",
              "      <td>0.142857</td>\n",
              "      <td>0.75</td>\n",
              "      <td>0.933013</td>\n",
              "      <td>0.0</td>\n",
              "      <td>1.0</td>\n",
              "    </tr>\n",
              "    <tr>\n",
              "      <th>2</th>\n",
              "      <td>0.325581</td>\n",
              "      <td>0.24</td>\n",
              "      <td>0.788889</td>\n",
              "      <td>0.680309</td>\n",
              "      <td>0.0</td>\n",
              "      <td>0.860759</td>\n",
              "      <td>1.0</td>\n",
              "      <td>1.0</td>\n",
              "      <td>0.25</td>\n",
              "      <td>0.253521</td>\n",
              "      <td>0.25</td>\n",
              "      <td>0.285714</td>\n",
              "      <td>0.75</td>\n",
              "      <td>0.933013</td>\n",
              "      <td>0.0</td>\n",
              "      <td>1.0</td>\n",
              "    </tr>\n",
              "    <tr>\n",
              "      <th>3</th>\n",
              "      <td>0.325581</td>\n",
              "      <td>0.26</td>\n",
              "      <td>0.816667</td>\n",
              "      <td>0.616086</td>\n",
              "      <td>0.0</td>\n",
              "      <td>0.860759</td>\n",
              "      <td>1.0</td>\n",
              "      <td>1.0</td>\n",
              "      <td>0.38</td>\n",
              "      <td>0.281690</td>\n",
              "      <td>0.25</td>\n",
              "      <td>0.428571</td>\n",
              "      <td>0.75</td>\n",
              "      <td>0.933013</td>\n",
              "      <td>0.0</td>\n",
              "      <td>1.0</td>\n",
              "    </tr>\n",
              "    <tr>\n",
              "      <th>4</th>\n",
              "      <td>0.372093</td>\n",
              "      <td>0.30</td>\n",
              "      <td>0.888889</td>\n",
              "      <td>0.616086</td>\n",
              "      <td>0.0</td>\n",
              "      <td>0.772152</td>\n",
              "      <td>1.0</td>\n",
              "      <td>1.0</td>\n",
              "      <td>0.57</td>\n",
              "      <td>0.295775</td>\n",
              "      <td>0.25</td>\n",
              "      <td>0.571429</td>\n",
              "      <td>0.75</td>\n",
              "      <td>0.933013</td>\n",
              "      <td>0.0</td>\n",
              "      <td>1.0</td>\n",
              "    </tr>\n",
              "  </tbody>\n",
              "</table>\n",
              "</div>\n",
              "      <button class=\"colab-df-convert\" onclick=\"convertToInteractive('df-394c83e0-a706-4f5e-98b1-d01b617403ec')\"\n",
              "              title=\"Convert this dataframe to an interactive table.\"\n",
              "              style=\"display:none;\">\n",
              "        \n",
              "  <svg xmlns=\"http://www.w3.org/2000/svg\" height=\"24px\"viewBox=\"0 0 24 24\"\n",
              "       width=\"24px\">\n",
              "    <path d=\"M0 0h24v24H0V0z\" fill=\"none\"/>\n",
              "    <path d=\"M18.56 5.44l.94 2.06.94-2.06 2.06-.94-2.06-.94-.94-2.06-.94 2.06-2.06.94zm-11 1L8.5 8.5l.94-2.06 2.06-.94-2.06-.94L8.5 2.5l-.94 2.06-2.06.94zm10 10l.94 2.06.94-2.06 2.06-.94-2.06-.94-.94-2.06-.94 2.06-2.06.94z\"/><path d=\"M17.41 7.96l-1.37-1.37c-.4-.4-.92-.59-1.43-.59-.52 0-1.04.2-1.43.59L10.3 9.45l-7.72 7.72c-.78.78-.78 2.05 0 2.83L4 21.41c.39.39.9.59 1.41.59.51 0 1.02-.2 1.41-.59l7.78-7.78 2.81-2.81c.8-.78.8-2.07 0-2.86zM5.41 20L4 18.59l7.72-7.72 1.47 1.35L5.41 20z\"/>\n",
              "  </svg>\n",
              "      </button>\n",
              "      \n",
              "  <style>\n",
              "    .colab-df-container {\n",
              "      display:flex;\n",
              "      flex-wrap:wrap;\n",
              "      gap: 12px;\n",
              "    }\n",
              "\n",
              "    .colab-df-convert {\n",
              "      background-color: #E8F0FE;\n",
              "      border: none;\n",
              "      border-radius: 50%;\n",
              "      cursor: pointer;\n",
              "      display: none;\n",
              "      fill: #1967D2;\n",
              "      height: 32px;\n",
              "      padding: 0 0 0 0;\n",
              "      width: 32px;\n",
              "    }\n",
              "\n",
              "    .colab-df-convert:hover {\n",
              "      background-color: #E2EBFA;\n",
              "      box-shadow: 0px 1px 2px rgba(60, 64, 67, 0.3), 0px 1px 3px 1px rgba(60, 64, 67, 0.15);\n",
              "      fill: #174EA6;\n",
              "    }\n",
              "\n",
              "    [theme=dark] .colab-df-convert {\n",
              "      background-color: #3B4455;\n",
              "      fill: #D2E3FC;\n",
              "    }\n",
              "\n",
              "    [theme=dark] .colab-df-convert:hover {\n",
              "      background-color: #434B5C;\n",
              "      box-shadow: 0px 1px 3px 1px rgba(0, 0, 0, 0.15);\n",
              "      filter: drop-shadow(0px 1px 2px rgba(0, 0, 0, 0.3));\n",
              "      fill: #FFFFFF;\n",
              "    }\n",
              "  </style>\n",
              "\n",
              "      <script>\n",
              "        const buttonEl =\n",
              "          document.querySelector('#df-394c83e0-a706-4f5e-98b1-d01b617403ec button.colab-df-convert');\n",
              "        buttonEl.style.display =\n",
              "          google.colab.kernel.accessAllowed ? 'block' : 'none';\n",
              "\n",
              "        async function convertToInteractive(key) {\n",
              "          const element = document.querySelector('#df-394c83e0-a706-4f5e-98b1-d01b617403ec');\n",
              "          const dataTable =\n",
              "            await google.colab.kernel.invokeFunction('convertToInteractive',\n",
              "                                                     [key], {});\n",
              "          if (!dataTable) return;\n",
              "\n",
              "          const docLinkHtml = 'Like what you see? Visit the ' +\n",
              "            '<a target=\"_blank\" href=https://colab.research.google.com/notebooks/data_table.ipynb>data table notebook</a>'\n",
              "            + ' to learn more about interactive tables.';\n",
              "          element.innerHTML = '';\n",
              "          dataTable['output_type'] = 'display_data';\n",
              "          await google.colab.output.renderOutput(dataTable, element);\n",
              "          const docLink = document.createElement('div');\n",
              "          docLink.innerHTML = docLinkHtml;\n",
              "          element.appendChild(docLink);\n",
              "        }\n",
              "      </script>\n",
              "    </div>\n",
              "  </div>\n",
              "  "
            ]
          },
          "metadata": {},
          "execution_count": 30
        }
      ]
    },
    {
      "cell_type": "code",
      "source": [
        "from sklearn.model_selection import train_test_split\n",
        "X = weather_data_final.iloc[:,1:]\n",
        "y = weather_data_final['tempC']\n",
        "X_train, X_test, y_train, y_test = train_test_split(X, y, test_size=0.2)"
      ],
      "metadata": {
        "id": "N-RVue3bSqoF"
      },
      "id": "N-RVue3bSqoF",
      "execution_count": 31,
      "outputs": []
    },
    {
      "cell_type": "markdown",
      "id": "5dfdef1d",
      "metadata": {
        "id": "5dfdef1d"
      },
      "source": [
        "### Feature Selection and model training "
      ]
    },
    {
      "cell_type": "code",
      "source": [
        "from numpy import mean\n",
        "from numpy import std\n",
        "from sklearn.datasets import make_classification\n",
        "from sklearn.model_selection import cross_val_score\n",
        "from sklearn.model_selection import RepeatedKFold\n",
        "from sklearn.feature_selection import RFE\n",
        "from sklearn.linear_model import LinearRegression\n",
        "from sklearn.linear_model import SGDRegressor\n",
        "#from sklearn.neural_network import MLPRegressor\n",
        "from sklearn.tree import DecisionTreeClassifier\n",
        "from sklearn.ensemble import RandomForestRegressor\n",
        "from sklearn.pipeline import Pipeline\n",
        "from matplotlib import pyplot\n",
        "from sklearn.svm import SVR\n",
        "from sklearn.metrics import mean_absolute_error\n",
        "from sklearn.metrics import r2_score\n",
        "from sklearn.metrics import mean_squared_error"
      ],
      "metadata": {
        "id": "LeuoHFSKggjn"
      },
      "id": "LeuoHFSKggjn",
      "execution_count": 32,
      "outputs": []
    },
    {
      "cell_type": "markdown",
      "source": [
        "### **Linear Regression**"
      ],
      "metadata": {
        "id": "NKkipYdDeFG-"
      },
      "id": "NKkipYdDeFG-"
    },
    {
      "cell_type": "code",
      "source": [
        "rfe = RFE(estimator=LinearRegression(), n_features_to_select=10)\n",
        "model = RandomForestRegressor()\n",
        "lr = Pipeline(steps=[('s',rfe),('m',model)])\n",
        "test_results = list()\n",
        "cv = RepeatedKFold(n_splits=10, n_repeats=3, random_state=100)\n",
        "scores_nmae = cross_val_score(lr, X_train, y_train, scoring='neg_mean_absolute_error', cv=cv, n_jobs=-1)\n",
        "scores_r2 = cross_val_score(lr, X_train, y_train, scoring='r2', cv=cv, n_jobs=-1)\n",
        "scores_nmse = cross_val_score(lr, X_train, y_train, scoring='neg_mean_squared_error', cv=cv, n_jobs=-1)"
      ],
      "metadata": {
        "id": "0KVvFpTmbzpB"
      },
      "id": "0KVvFpTmbzpB",
      "execution_count": 103,
      "outputs": []
    },
    {
      "cell_type": "code",
      "source": [
        "test_results = list()\n",
        "train_results = list()\n",
        "lr.fit(X, y)\n",
        "y_pred = lr.predict(X_test)\n",
        "y_train_pred = lr.predict(X_train)\n",
        "test_results.append(mean_absolute_error(y_test,y_pred))\n",
        "test_results.append(r2_score(y_test,y_pred))\n",
        "test_results.append(mean_squared_error(y_test,y_pred))\n",
        "train_results.append(mean_absolute_error(y_train,y_train_pred))\n",
        "train_results.append(r2_score(y_train,y_train_pred))\n",
        "train_results.append(mean_squared_error(y_train,y_train_pred))"
      ],
      "metadata": {
        "id": "uvUc2LPlbzb3"
      },
      "id": "uvUc2LPlbzb3",
      "execution_count": 104,
      "outputs": []
    },
    {
      "cell_type": "code",
      "source": [
        "print('Training scores:')\n",
        "print('NMAE> %.3f' % (train_results[0]))\n",
        "print('R2> %.3f' % (train_results[1]))\n",
        "print('MSE> %.3f' % (train_results[2]))\n",
        "print('Validation scores:')\n",
        "print('NMAE> %.3f (%.3f)' % (mean(scores_nmae), std(scores_nmae)))\n",
        "print('R2> %.3f (%.3f)' % (mean(scores_r2), std(scores_r2)))\n",
        "print('MSE> %.3f (%.3f)' % (mean(scores_nmse), std(scores_nmse)))\n",
        "print('Testing scores:')\n",
        "print('NMAE> %.3f' % (test_results[0]))\n",
        "print('R2> %.3f' % (test_results[1]))\n",
        "print('MSE> %.3f' % (test_results[2]))"
      ],
      "metadata": {
        "colab": {
          "base_uri": "https://localhost:8080/"
        },
        "id": "xCC43Z70bzQ3",
        "outputId": "767dbdfc-6b18-4b3f-800b-0c793c7b3f9e"
      },
      "id": "xCC43Z70bzQ3",
      "execution_count": 105,
      "outputs": [
        {
          "output_type": "stream",
          "name": "stdout",
          "text": [
            "Testing scores:\n",
            "NMAE> 0.013\n",
            "R2> 0.984\n",
            "MSE> 0.000\n",
            "Validation scores:\n",
            "NMAE> -0.036 (0.001)\n",
            "R2> 0.882 (0.011)\n",
            "MSE> -0.002 (0.000)\n",
            "Testing scores:\n",
            "NMAE> 0.013\n",
            "R2> 0.984\n",
            "MSE> 0.000\n"
          ]
        }
      ]
    },
    {
      "cell_type": "markdown",
      "source": [
        "### **Random Forest Regressor**"
      ],
      "metadata": {
        "id": "q_9AMTqKd9y2"
      },
      "id": "q_9AMTqKd9y2"
    },
    {
      "cell_type": "code",
      "source": [
        "rfe = RFE(estimator=RandomForestRegressor(), n_features_to_select=10)\n",
        "model = RandomForestRegressor()\n",
        "rf = Pipeline(steps=[('s',rfe),('m',model)])\n",
        "test_results = list()\n",
        "cv = RepeatedKFold(n_splits=10, n_repeats=3, random_state=100)\n",
        "scores_nmae = cross_val_score(rf, X_train, y_train, scoring='neg_mean_absolute_error', cv=cv, n_jobs=-1)\n",
        "scores_r2 = cross_val_score(rf, X_train, y_train, scoring='r2', cv=cv, n_jobs=-1)\n",
        "scores_nmse = cross_val_score(rf, X_train, y_train, scoring='neg_mean_squared_error', cv=cv, n_jobs=-1)"
      ],
      "metadata": {
        "id": "W8rfXY24dtbv"
      },
      "id": "W8rfXY24dtbv",
      "execution_count": 106,
      "outputs": []
    },
    {
      "cell_type": "code",
      "source": [
        "test_results = list()\n",
        "train_results = list()\n",
        "rf.fit(X, y)\n",
        "y_pred = rf.predict(X_test)\n",
        "y_train_pred = rf.predict(X_train)\n",
        "test_results.append(mean_absolute_error(y_test,y_pred))\n",
        "test_results.append(r2_score(y_test,y_pred))\n",
        "test_results.append(mean_squared_error(y_test,y_pred))\n",
        "train_results.append(mean_absolute_error(y_train,y_train_pred))\n",
        "train_results.append(r2_score(y_train,y_train_pred))\n",
        "train_results.append(mean_squared_error(y_train,y_train_pred))"
      ],
      "metadata": {
        "id": "kiZNDniCdtRP"
      },
      "id": "kiZNDniCdtRP",
      "execution_count": 107,
      "outputs": []
    },
    {
      "cell_type": "code",
      "source": [
        "print('Training scores:')\n",
        "print('NMAE> %.3f' % (train_results[0]))\n",
        "print('R2> %.3f' % (train_results[1]))\n",
        "print('MSE> %.3f' % (train_results[2]))\n",
        "print('Validation scores:')\n",
        "print('NMAE> %.3f (%.3f)' % (mean(scores_nmae), std(scores_nmae)))\n",
        "print('R2> %.3f (%.3f)' % (mean(scores_r2), std(scores_r2)))\n",
        "print('MSE> %.3f (%.3f)' % (mean(scores_nmse), std(scores_nmse)))\n",
        "print('Testing scores:')\n",
        "print('NMAE> %.3f' % (test_results[0]))\n",
        "print('R2> %.3f' % (test_results[1]))\n",
        "print('MSE> %.3f' % (test_results[2]))"
      ],
      "metadata": {
        "colab": {
          "base_uri": "https://localhost:8080/"
        },
        "id": "Au2TgnAPdtKf",
        "outputId": "d9806c79-2f92-46a2-edbd-067702928de9"
      },
      "id": "Au2TgnAPdtKf",
      "execution_count": 108,
      "outputs": [
        {
          "output_type": "stream",
          "name": "stdout",
          "text": [
            "Testing scores:\n",
            "NMAE> 0.012\n",
            "R2> 0.986\n",
            "MSE> 0.000\n",
            "Validation scores:\n",
            "NMAE> -0.033 (0.001)\n",
            "R2> 0.899 (0.009)\n",
            "MSE> -0.002 (0.000)\n",
            "Testing scores:\n",
            "NMAE> 0.012\n",
            "R2> 0.986\n",
            "MSE> 0.000\n"
          ]
        }
      ]
    },
    {
      "cell_type": "markdown",
      "source": [
        "### **SGD Regressor**"
      ],
      "metadata": {
        "id": "LSFi_fLpeuK_"
      },
      "id": "LSFi_fLpeuK_"
    },
    {
      "cell_type": "code",
      "source": [
        "rfe = RFE(estimator=SGDRegressor(), n_features_to_select=10)\n",
        "model = RandomForestRegressor()\n",
        "sgd = Pipeline(steps=[('s',rfe),('m',model)])\n",
        "test_results = list()\n",
        "cv = RepeatedKFold(n_splits=10, n_repeats=3, random_state=100)\n",
        "scores_nmae = cross_val_score(sgd, X_train, y_train, scoring='neg_mean_absolute_error', cv=cv, n_jobs=-1)\n",
        "scores_r2 = cross_val_score(sgd, X_train, y_train, scoring='r2', cv=cv, n_jobs=-1)\n",
        "scores_nmse = cross_val_score(sgd, X_train, y_train, scoring='neg_mean_squared_error', cv=cv, n_jobs=-1)"
      ],
      "metadata": {
        "id": "4pcnHsUceXEL"
      },
      "id": "4pcnHsUceXEL",
      "execution_count": 109,
      "outputs": []
    },
    {
      "cell_type": "code",
      "source": [
        "test_results = list()\n",
        "train_results = list()\n",
        "sgd.fit(X, y)\n",
        "y_pred = sgd.predict(X_test)\n",
        "y_train_pred = sgd.predict(X_train)\n",
        "test_results.append(mean_absolute_error(y_test,y_pred))\n",
        "test_results.append(r2_score(y_test,y_pred))\n",
        "test_results.append(mean_squared_error(y_test,y_pred))\n",
        "train_results.append(mean_absolute_error(y_train,y_train_pred))\n",
        "train_results.append(r2_score(y_train,y_train_pred))\n",
        "train_results.append(mean_squared_error(y_train,y_train_pred))"
      ],
      "metadata": {
        "id": "986SrTCleXB4"
      },
      "id": "986SrTCleXB4",
      "execution_count": 110,
      "outputs": []
    },
    {
      "cell_type": "code",
      "source": [
        "print('Training scores:')\n",
        "print('NMAE> %.3f' % (train_results[0]))\n",
        "print('R2> %.3f' % (train_results[1]))\n",
        "print('MSE> %.3f' % (train_results[2]))\n",
        "print('Validation scores:')\n",
        "print('NMAE> %.3f (%.3f)' % (mean(scores_nmae), std(scores_nmae)))\n",
        "print('R2> %.3f (%.3f)' % (mean(scores_r2), std(scores_r2)))\n",
        "print('MSE> %.3f (%.3f)' % (mean(scores_nmse), std(scores_nmse)))\n",
        "print('Testing scores:')\n",
        "print('NMAE> %.3f' % (test_results[0]))\n",
        "print('R2> %.3f' % (test_results[1]))\n",
        "print('MSE> %.3f' % (test_results[2]))"
      ],
      "metadata": {
        "colab": {
          "base_uri": "https://localhost:8080/"
        },
        "id": "ciHzFT92eW_J",
        "outputId": "4fada02c-5995-4588-c367-09c7d575bf53"
      },
      "id": "ciHzFT92eW_J",
      "execution_count": 111,
      "outputs": [
        {
          "output_type": "stream",
          "name": "stdout",
          "text": [
            "Testing scores:\n",
            "NMAE> 0.013\n",
            "R2> 0.983\n",
            "MSE> 0.000\n",
            "Validation scores:\n",
            "NMAE> -0.036 (0.001)\n",
            "R2> 0.876 (0.010)\n",
            "MSE> -0.002 (0.000)\n",
            "Testing scores:\n",
            "NMAE> 0.013\n",
            "R2> 0.981\n",
            "MSE> 0.000\n"
          ]
        }
      ]
    },
    {
      "cell_type": "markdown",
      "source": [
        "### SVR"
      ],
      "metadata": {
        "id": "LMZHv45OIIM7"
      },
      "id": "LMZHv45OIIM7"
    },
    {
      "cell_type": "code",
      "source": [
        "rfe = RFE(estimator=SVR(C=1.0, epsilon=0.2,kernel=\"linear\"), n_features_to_select=10)\n",
        "model = RandomForestRegressor()\n",
        "svr = Pipeline(steps=[('s',rfe),('m',model)])\n",
        "test_results = list()\n",
        "cv = RepeatedKFold(n_splits=10, n_repeats=3, random_state=100)\n",
        "scores_nmae = cross_val_score(svr, X_train, y_train, scoring='neg_mean_absolute_error', cv=cv, n_jobs=-1)\n",
        "scores_r2 = cross_val_score(svr, X_train, y_train, scoring='r2', cv=cv, n_jobs=-1)\n",
        "scores_nmse = cross_val_score(svr, X_train, y_train, scoring='neg_mean_squared_error', cv=cv, n_jobs=-1)"
      ],
      "metadata": {
        "id": "MDy93fBVgoan"
      },
      "id": "MDy93fBVgoan",
      "execution_count": 34,
      "outputs": []
    },
    {
      "cell_type": "code",
      "source": [
        "test_results = list()\n",
        "train_results = list()\n",
        "svr.fit(X, y)\n",
        "y_pred = svr.predict(X_test)\n",
        "y_train_pred = svr.predict(X_train)\n",
        "test_results.append(mean_absolute_error(y_test,y_pred))\n",
        "test_results.append(r2_score(y_test,y_pred))\n",
        "test_results.append(mean_squared_error(y_test,y_pred))\n",
        "train_results.append(mean_absolute_error(y_train,y_train_pred))\n",
        "train_results.append(r2_score(y_train,y_train_pred))\n",
        "train_results.append(mean_squared_error(y_train,y_train_pred))"
      ],
      "metadata": {
        "id": "TpHA-dSxgwvn"
      },
      "id": "TpHA-dSxgwvn",
      "execution_count": 35,
      "outputs": []
    },
    {
      "cell_type": "code",
      "source": [
        "print('Training scores:')\n",
        "print('NMAE> %.3f' % (train_results[0]))\n",
        "print('R2> %.3f' % (train_results[1]))\n",
        "print('MSE> %.3f' % (train_results[2]))\n",
        "print('Validation scores:')\n",
        "print('NMAE> %.3f (%.3f)' % (mean(scores_nmae), std(scores_nmae)))\n",
        "print('R2> %.3f (%.3f)' % (mean(scores_r2), std(scores_r2)))\n",
        "print('MSE> %.3f (%.3f)' % (mean(scores_nmse), std(scores_nmse)))\n",
        "print('Testing scores:')\n",
        "print('NMAE> %.3f' % (test_results[0]))\n",
        "print('R2> %.3f' % (test_results[1]))\n",
        "print('MSE> %.3f' % (test_results[2]))"
      ],
      "metadata": {
        "colab": {
          "base_uri": "https://localhost:8080/"
        },
        "id": "zio17YmBg2PX",
        "outputId": "6d7f5abf-bd40-4246-d395-22ff8035e8d9"
      },
      "id": "zio17YmBg2PX",
      "execution_count": 36,
      "outputs": [
        {
          "output_type": "stream",
          "name": "stdout",
          "text": [
            "Training scores:\n",
            "NMAE> 0.013\n",
            "R2> 0.985\n",
            "MSE> 0.000\n",
            "Validation scores:\n",
            "NMAE> -0.036 (0.001)\n",
            "R2> 0.881 (0.010)\n",
            "MSE> -0.002 (0.000)\n",
            "Testing scores:\n",
            "NMAE> 0.012\n",
            "R2> 0.986\n",
            "MSE> 0.000\n"
          ]
        }
      ]
    },
    {
      "cell_type": "markdown",
      "source": [
        "### **Comment**:\n",
        "#### randomForest did slightly better than other models."
      ],
      "metadata": {
        "id": "5SESdv5VPYyF"
      },
      "id": "5SESdv5VPYyF"
    },
    {
      "cell_type": "markdown",
      "source": [
        "### **AdaBoost**"
      ],
      "metadata": {
        "id": "iB9nQfZQQwTM"
      },
      "id": "iB9nQfZQQwTM"
    },
    {
      "cell_type": "code",
      "source": [
        "from sklearn.ensemble import AdaBoostRegressor\n",
        "rfe = RFE(estimator=AdaBoostRegressor(), n_features_to_select=10)\n",
        "model = RandomForestRegressor()\n",
        "adb = Pipeline(steps=[('s',rfe),('m',model)])\n",
        "test_results = list()\n",
        "cv = RepeatedKFold(n_splits=10, n_repeats=3, random_state=100)\n",
        "scores_nmae = cross_val_score(adb, X_train, y_train, scoring='neg_mean_absolute_error', cv=cv, n_jobs=-1)\n",
        "scores_r2 = cross_val_score(adb, X_train, y_train, scoring='r2', cv=cv, n_jobs=-1)\n",
        "scores_nmse = cross_val_score(adb, X_train, y_train, scoring='neg_mean_squared_error', cv=cv, n_jobs=-1)"
      ],
      "metadata": {
        "id": "qg6ebNrmLWGc"
      },
      "id": "qg6ebNrmLWGc",
      "execution_count": 41,
      "outputs": []
    },
    {
      "cell_type": "code",
      "source": [
        "test_results = list()\n",
        "train_results = list()\n",
        "adb.fit(X, y)\n",
        "y_pred = adb.predict(X_test)\n",
        "y_train_pred = adb.predict(X_train)\n",
        "test_results.append(mean_absolute_error(y_test,y_pred))\n",
        "test_results.append(r2_score(y_test,y_pred))\n",
        "test_results.append(mean_squared_error(y_test,y_pred))\n",
        "train_results.append(mean_absolute_error(y_train,y_train_pred))\n",
        "train_results.append(r2_score(y_train,y_train_pred))\n",
        "train_results.append(mean_squared_error(y_train,y_train_pred))"
      ],
      "metadata": {
        "id": "8BIAFG16LV8f"
      },
      "id": "8BIAFG16LV8f",
      "execution_count": 42,
      "outputs": []
    },
    {
      "cell_type": "code",
      "source": [
        "print('Training scores:')\n",
        "print('NMAE> %.3f' % (train_results[0]))\n",
        "print('R2> %.3f' % (train_results[1]))\n",
        "print('MSE> %.3f' % (train_results[2]))\n",
        "print('Validation scores:')\n",
        "print('NMAE> %.3f (%.3f)' % (mean(scores_nmae), std(scores_nmae)))\n",
        "print('R2> %.3f (%.3f)' % (mean(scores_r2), std(scores_r2)))\n",
        "print('MSE> %.3f (%.3f)' % (mean(scores_nmse), std(scores_nmse)))\n",
        "print('Testing scores:')\n",
        "print('NMAE> %.3f' % (test_results[0]))\n",
        "print('R2> %.3f' % (test_results[1]))\n",
        "print('MSE> %.3f' % (test_results[2]))"
      ],
      "metadata": {
        "colab": {
          "base_uri": "https://localhost:8080/"
        },
        "id": "Mih49q_MLVjr",
        "outputId": "ddf210e4-1123-47c6-ec1f-bf6894f4944c"
      },
      "id": "Mih49q_MLVjr",
      "execution_count": 43,
      "outputs": [
        {
          "output_type": "stream",
          "name": "stdout",
          "text": [
            "Training scores:\n",
            "NMAE> 0.012\n",
            "R2> 0.987\n",
            "MSE> 0.000\n",
            "Validation scores:\n",
            "NMAE> -0.033 (0.001)\n",
            "R2> 0.896 (0.010)\n",
            "MSE> -0.002 (0.000)\n",
            "Testing scores:\n",
            "NMAE> 0.011\n",
            "R2> 0.987\n",
            "MSE> 0.000\n"
          ]
        }
      ]
    },
    {
      "cell_type": "markdown",
      "source": [
        "### **Comment**:\n",
        "\n",
        "The performance is slightly better than randomForest"
      ],
      "metadata": {
        "id": "NQ6cMgxqTgr8"
      },
      "id": "NQ6cMgxqTgr8"
    },
    {
      "cell_type": "markdown",
      "source": [
        "### **Gradient** **Boosting**"
      ],
      "metadata": {
        "id": "aInqY3DwTLg3"
      },
      "id": "aInqY3DwTLg3"
    },
    {
      "cell_type": "code",
      "source": [
        "from sklearn.ensemble import GradientBoostingRegressor\n",
        "rfe = RFE(estimator=GradientBoostingRegressor(), n_features_to_select=10)\n",
        "model = RandomForestRegressor()\n",
        "gbr = Pipeline(steps=[('s',rfe),('m',model)])\n",
        "test_results = list()\n",
        "cv = RepeatedKFold(n_splits=10, n_repeats=3, random_state=100)\n",
        "scores_nmae = cross_val_score(gbr, X_train, y_train, scoring='neg_mean_absolute_error', cv=cv, n_jobs=-1)\n",
        "scores_r2 = cross_val_score(gbr, X_train, y_train, scoring='r2', cv=cv, n_jobs=-1)\n",
        "scores_nmse = cross_val_score(gbr, X_train, y_train, scoring='neg_mean_squared_error', cv=cv, n_jobs=-1)"
      ],
      "metadata": {
        "id": "6lRxWtBRStUM"
      },
      "id": "6lRxWtBRStUM",
      "execution_count": 44,
      "outputs": []
    },
    {
      "cell_type": "code",
      "source": [
        "test_results = list()\n",
        "train_results = list()\n",
        "gbr.fit(X, y)\n",
        "y_pred = gbr.predict(X_test)\n",
        "y_train_pred = gbr.predict(X_train)\n",
        "test_results.append(mean_absolute_error(y_test,y_pred))\n",
        "test_results.append(r2_score(y_test,y_pred))\n",
        "test_results.append(mean_squared_error(y_test,y_pred))\n",
        "train_results.append(mean_absolute_error(y_train,y_train_pred))\n",
        "train_results.append(r2_score(y_train,y_train_pred))\n",
        "train_results.append(mean_squared_error(y_train,y_train_pred))"
      ],
      "metadata": {
        "id": "6Mao3YZNS_8U"
      },
      "id": "6Mao3YZNS_8U",
      "execution_count": 46,
      "outputs": []
    },
    {
      "cell_type": "code",
      "source": [
        "print('Training scores:')\n",
        "print('NMAE> %.3f' % (train_results[0]))\n",
        "print('R2> %.3f' % (train_results[1]))\n",
        "print('MSE> %.3f' % (train_results[2]))\n",
        "print('Validation scores:')\n",
        "print('NMAE> %.3f (%.3f)' % (mean(scores_nmae), std(scores_nmae)))\n",
        "print('R2> %.3f (%.3f)' % (mean(scores_r2), std(scores_r2)))\n",
        "print('MSE> %.3f (%.3f)' % (mean(scores_nmse), std(scores_nmse)))\n",
        "print('Testing scores:')\n",
        "print('NMAE> %.3f' % (test_results[0]))\n",
        "print('R2> %.3f' % (test_results[1]))\n",
        "print('MSE> %.3f' % (test_results[2]))"
      ],
      "metadata": {
        "colab": {
          "base_uri": "https://localhost:8080/"
        },
        "id": "ZJbTV9ZLS_2M",
        "outputId": "87dcfd66-a76f-4c13-e554-46ee7cfd7eaa"
      },
      "id": "ZJbTV9ZLS_2M",
      "execution_count": 47,
      "outputs": [
        {
          "output_type": "stream",
          "name": "stdout",
          "text": [
            "Training scores:\n",
            "NMAE> 0.012\n",
            "R2> 0.987\n",
            "MSE> 0.000\n",
            "Validation scores:\n",
            "NMAE> -0.032 (0.001)\n",
            "R2> 0.901 (0.008)\n",
            "MSE> -0.002 (0.000)\n",
            "Testing scores:\n",
            "NMAE> 0.012\n",
            "R2> 0.987\n",
            "MSE> 0.000\n"
          ]
        }
      ]
    },
    {
      "cell_type": "markdown",
      "source": [
        "### **Training** **Scores** - **Visualization**\n",
        "\n"
      ],
      "metadata": {
        "id": "WnOdIfTXZ1x1"
      },
      "id": "WnOdIfTXZ1x1"
    },
    {
      "cell_type": "code",
      "source": [
        "#training scores plotting\n",
        "MAE = {'linear':0.013, 'RandomForest': 0.012,'SGD': 0.013,'SVR': 0.013,'ADABoost': 0.012,'GradientBoost': 0.012}\n",
        "R2 = {'linear':0.984,'RandomForest':0.986,'SGD':0.983,'SVR':0.985,'ADABoost':0.987,'GradientBoost':0.987}\n",
        "MSE = {'linear':0.000,'RandomForest':0.000,'SGD':0.000,'SVR':0.000,'ADABoost':0.000,'GradientBoost':0.000}\n",
        "\n",
        "models = list(MAE.keys())\n",
        "values = list(MAE.values())\n",
        "fig = plt.figure(figsize = (10, 5))\n",
        "plt.bar(models, values, color ='grey', width = 0.4)\n",
        "plt.xlabel(\"Models\")\n",
        "plt.ylabel(\"Mean Absolute Error\")\n",
        "plt.title(\"Training Score - Mean Absolute Error\")\n",
        "plt.show()"
      ],
      "metadata": {
        "colab": {
          "base_uri": "https://localhost:8080/",
          "height": 350
        },
        "id": "9LcWusYKWkZ7",
        "outputId": "477c0835-d943-4a4e-915e-013052ef9bb7"
      },
      "id": "9LcWusYKWkZ7",
      "execution_count": 53,
      "outputs": [
        {
          "output_type": "display_data",
          "data": {
            "text/plain": [
              "<Figure size 720x360 with 1 Axes>"
            ],
            "image/png": "[encoded data removed]"
          },
          "metadata": {
            "needs_background": "light"
          }
        }
      ]
    },
    {
      "cell_type": "code",
      "source": [
        "models = list(R2.keys())\n",
        "values = list(R2.values())\n",
        "fig = plt.figure(figsize = (10, 5))\n",
        "plt.bar(models, values, color ='grey', width = 0.4)\n",
        "plt.xlabel(\"Models\")\n",
        "plt.ylabel(\"R2\")\n",
        "plt.title(\"Training Score - R- Square\")\n",
        "plt.show()"
      ],
      "metadata": {
        "colab": {
          "base_uri": "https://localhost:8080/",
          "height": 350
        },
        "id": "p_EJ-6uOZUd1",
        "outputId": "f988b71d-283c-4dc0-ca9b-04bf2e05e092"
      },
      "id": "p_EJ-6uOZUd1",
      "execution_count": 52,
      "outputs": [
        {
          "output_type": "display_data",
          "data": {
            "text/plain": [
              "<Figure size 720x360 with 1 Axes>"
            ],
            "image/png": "[encoded data removed]"
          },
          "metadata": {
            "needs_background": "light"
          }
        }
      ]
    },
    {
      "cell_type": "code",
      "source": [
        "models = list(MSE.keys())\n",
        "values = list(MSE.values())\n",
        "fig = plt.figure(figsize = (10, 5))\n",
        "plt.bar(models, values, color ='grey', width = 0.4)\n",
        "plt.xlabel(\"Models\")\n",
        "plt.ylabel(\"Mean Squared Error\")\n",
        "plt.title(\"Training Score - Mean Squared Error\")\n",
        "plt.show()"
      ],
      "metadata": {
        "colab": {
          "base_uri": "https://localhost:8080/",
          "height": 350
        },
        "id": "FlJWi5HJZZlN",
        "outputId": "59ccf78f-5711-4eea-c32e-297e3b9fab07"
      },
      "id": "FlJWi5HJZZlN",
      "execution_count": 54,
      "outputs": [
        {
          "output_type": "display_data",
          "data": {
            "text/plain": [
              "<Figure size 720x360 with 1 Axes>"
            ],
            "image/png": "[encoded data removed]"
          },
          "metadata": {
            "needs_background": "light"
          }
        }
      ]
    },
    {
      "cell_type": "markdown",
      "source": [
        "### **Validation** **Scores** - **Visualization**"
      ],
      "metadata": {
        "id": "forWIKMzchCm"
      },
      "id": "forWIKMzchCm"
    },
    {
      "cell_type": "code",
      "source": [
        "MAE_val = {'linear':0.036, 'RandomForest': 0.033,'SGD': 0.036,'SVR': 0.036,'ADABoost': 0.033,'GradientBoost': 0.032}\n",
        "R2_val = {'linear':0.882,'RandomForest':0.899,'SGD':0.876,'SVR':0.881,'ADABoost':0.987,'GradientBoost':0.987}\n",
        "MSE_val = {'linear':0.002,'RandomForest':0.002,'SGD':0.002,'SVR':0.002,'ADABoost':0.002,'GradientBoost':0.002}\n",
        "\n",
        "models = list(MAE_val.keys())\n",
        "values = list(MAE_val.values())\n",
        "fig = plt.figure(figsize = (10, 5))\n",
        "plt.bar(models, values, color ='grey', width = 0.4)\n",
        "plt.xlabel(\"Models\")\n",
        "plt.ylabel(\"Mean Absolute Error\")\n",
        "plt.title(\"Validation Score - Mean Absolute Error\")\n",
        "plt.show()"
      ],
      "metadata": {
        "colab": {
          "base_uri": "https://localhost:8080/",
          "height": 350
        },
        "id": "fxEyFDCEZ8Cd",
        "outputId": "073d5dad-98e2-4bbc-d4a2-b54eec0b8a9d"
      },
      "id": "fxEyFDCEZ8Cd",
      "execution_count": 55,
      "outputs": [
        {
          "output_type": "display_data",
          "data": {
            "text/plain": [
              "<Figure size 720x360 with 1 Axes>"
            ],
            "image/png": "[encoded data removed]"
          },
          "metadata": {
            "needs_background": "light"
          }
        }
      ]
    },
    {
      "cell_type": "code",
      "source": [
        "models = list(R2_val.keys())\n",
        "values = list(R2_val.values())\n",
        "fig = plt.figure(figsize = (10, 5))\n",
        "plt.bar(models, values, color ='grey', width = 0.4)\n",
        "plt.xlabel(\"Models\")\n",
        "plt.ylabel(\"R 2\")\n",
        "plt.title(\"Validation Score - R square\")\n",
        "plt.show()"
      ],
      "metadata": {
        "colab": {
          "base_uri": "https://localhost:8080/",
          "height": 350
        },
        "id": "QkTEEXPxZ7z9",
        "outputId": "14a574e9-7d7e-4c8d-dbef-c04dbd39a6cd"
      },
      "id": "QkTEEXPxZ7z9",
      "execution_count": 56,
      "outputs": [
        {
          "output_type": "display_data",
          "data": {
            "text/plain": [
              "<Figure size 720x360 with 1 Axes>"
            ],
            "image/png": "[encoded data removed]"
          },
          "metadata": {
            "needs_background": "light"
          }
        }
      ]
    },
    {
      "cell_type": "code",
      "source": [
        "models = list(MSE_val.keys())\n",
        "values = list(MSE_val.values())\n",
        "fig = plt.figure(figsize = (10, 5))\n",
        "plt.bar(models, values, color ='grey', width = 0.4)\n",
        "plt.xlabel(\"Models\")\n",
        "plt.ylabel(\"MSE\")\n",
        "plt.title(\"Validation Score -Mean Squared Error\")\n",
        "plt.show()"
      ],
      "metadata": {
        "colab": {
          "base_uri": "https://localhost:8080/",
          "height": 350
        },
        "id": "N_cmuoWkZ7xk",
        "outputId": "d5d97b1d-f5b0-44af-8ed0-ed378bc581d1"
      },
      "id": "N_cmuoWkZ7xk",
      "execution_count": 57,
      "outputs": [
        {
          "output_type": "display_data",
          "data": {
            "text/plain": [
              "<Figure size 720x360 with 1 Axes>"
            ],
            "image/png": "[encoded data removed]"
          },
          "metadata": {
            "needs_background": "light"
          }
        }
      ]
    },
    {
      "cell_type": "markdown",
      "source": [
        "### **Testing** **Scores** - Visualization"
      ],
      "metadata": {
        "id": "Ybqqe_nCck-9"
      },
      "id": "Ybqqe_nCck-9"
    },
    {
      "cell_type": "code",
      "source": [
        "#model = [[training], [validation], [testing]]\n",
        "linear = [[0.013, 0.984, 0.000], [0.036, 0.882, 0.002], [0.013, 0.984, 0.000]] \n",
        "randomForest = [[0.012, 0.986, 0.000],[0.033, 0.899, 0.002],[0.012, 0.986, 0.000]]\n",
        "sgdReg = [[ 0.013, 0.983, 0.000], [0.036, 0.876, 0.002], [0.013, 0.981, 0.000]]\n",
        "svreg = [[0.013, 0.985, 0.000], [0.036, 0.881, 0.002], [0.012, 0.986, 0.000]]"
      ],
      "metadata": {
        "id": "1s4Jahl1bas9"
      },
      "id": "1s4Jahl1bas9",
      "execution_count": null,
      "outputs": []
    },
    {
      "cell_type": "code",
      "source": [
        "MAE_test = {'linear':0.013, 'RandomForest': 0.012,'SGD': 0.013,'SVR': 0.012,'ADABoost': 0.011,'GradientBoost': 0.012}\n",
        "R2_test = {'linear':0.984,'RandomForest':0.986,'SGD':0.981,'SVR':0.986,'ADABoost':0.6,'GradientBoost':0.901}\n",
        "MSE_test = {'linear':0.000,'RandomForest':0.000,'SGD':0.000,'SVR':0.000,'ADABoost':0.000,'GradientBoost':0.000}\n",
        "\n",
        "models = list(MAE_test.keys())\n",
        "values = list(MAE_test.values())\n",
        "fig = plt.figure(figsize = (10, 5))\n",
        "plt.bar(models, values, color ='grey', width = 0.4)\n",
        "plt.xlabel(\"Models\")\n",
        "plt.ylabel(\"Mean Absolute Error\")\n",
        "plt.title(\"Testing Score - Mean Absolute Error\")\n",
        "plt.show()"
      ],
      "metadata": {
        "colab": {
          "base_uri": "https://localhost:8080/",
          "height": 350
        },
        "id": "ttBJCdcPbF4O",
        "outputId": "2686bda2-951b-4d3a-9ef9-b20e2460d62a"
      },
      "id": "ttBJCdcPbF4O",
      "execution_count": 58,
      "outputs": [
        {
          "output_type": "display_data",
          "data": {
            "text/plain": [
              "<Figure size 720x360 with 1 Axes>"
            ],
            "image/png": "[encoded data removed]"
          },
          "metadata": {
            "needs_background": "light"
          }
        }
      ]
    },
    {
      "cell_type": "code",
      "source": [
        "models = list(R2_test.keys())\n",
        "values = list(R2_test.values())\n",
        "fig = plt.figure(figsize = (10, 5))\n",
        "plt.bar(models, values, color ='grey', width = 0.4)\n",
        "plt.xlabel(\"Models\")\n",
        "plt.ylabel(\"R 2\")\n",
        "plt.title(\"Testing Score - R square\")\n",
        "plt.show()"
      ],
      "metadata": {
        "colab": {
          "base_uri": "https://localhost:8080/",
          "height": 350
        },
        "id": "0l0t1ydtcNR9",
        "outputId": "45aadf87-496b-4635-ab87-6792b22eaca6"
      },
      "id": "0l0t1ydtcNR9",
      "execution_count": 60,
      "outputs": [
        {
          "output_type": "display_data",
          "data": {
            "text/plain": [
              "<Figure size 720x360 with 1 Axes>"
            ],
            "image/png": "[encoded data removed]"
          },
          "metadata": {
            "needs_background": "light"
          }
        }
      ]
    },
    {
      "cell_type": "code",
      "source": [
        "models = list(MSE_test.keys())\n",
        "values = list(MSE_test.values())\n",
        "fig = plt.figure(figsize = (10, 5))\n",
        "plt.bar(models, values, color ='grey', width = 0.4)\n",
        "plt.xlabel(\"Models\")\n",
        "plt.ylabel(\"MSE\")\n",
        "plt.title(\"Testing Score -Mean Squared Error\")\n",
        "plt.show()"
      ],
      "metadata": {
        "colab": {
          "base_uri": "https://localhost:8080/",
          "height": 350
        },
        "id": "I5KHtb2GcGPd",
        "outputId": "b27ed476-4d9c-49e6-aac5-ccf6613c2c8a"
      },
      "id": "I5KHtb2GcGPd",
      "execution_count": 59,
      "outputs": [
        {
          "output_type": "display_data",
          "data": {
            "text/plain": [
              "<Figure size 720x360 with 1 Axes>"
            ],
            "image/png": "[encoded data removed]"
          },
          "metadata": {
            "needs_background": "light"
          }
        }
      ]
    },
    {
      "cell_type": "markdown",
      "source": [
        "### **Comment**:\n",
        "Training scores are high but validation scores are low - therefore they are slightly overfitting but since they gave comparable scores in testing, this is not a huge issue.\n",
        "\n",
        " \n",
        "#### RandomForest performs well in normal models.\n",
        "\n",
        "### **Overall**:\n",
        "#### Gradient Boost performs well on a whole.\n"
      ],
      "metadata": {
        "id": "aT4uM894cu_2"
      },
      "id": "aT4uM894cu_2"
    },
    {
      "cell_type": "markdown",
      "source": [
        "### Ignore the below cells"
      ],
      "metadata": {
        "id": "acZPRwVWIAfc"
      },
      "id": "acZPRwVWIAfc"
    },
    {
      "cell_type": "code",
      "source": [
        "#mean signed deviation\n",
        "def msd(y_true, y_pred):\n",
        "    return (y_pred - y_true).mean()\n",
        "msd = msd(y_test,y_pred)\n",
        "print(msd)"
      ],
      "metadata": {
        "id": "EQ7WNMRkHdhr"
      },
      "id": "EQ7WNMRkHdhr",
      "execution_count": null,
      "outputs": []
    },
    {
      "cell_type": "code",
      "source": [
        "print('Training scores:')\n",
        "print('NMAE> %.3f' % (train_results[0]))\n",
        "print('R2> %.3f' % (train_results[1]))\n",
        "print('MSE> %.3f' % (train_results[2]))\n",
        "print('Validation scores:')\n",
        "print('NMAE> %.3f (%.3f)' % (mean(scores_nmae), std(scores_nmae)))\n",
        "print('R2> %.3f (%.3f)' % (mean(scores_r2), std(scores_r2)))\n",
        "print('MSE> %.3f (%.3f)' % (mean(scores_nmse), std(scores_nmse)))\n",
        "print('Testing scores:')\n",
        "print('NMAE> %.3f' % (test_results[0]))\n",
        "print('R2> %.3f' % (test_results[1]))\n",
        "print('MSE> %.3f' % (test_results[2]))"
      ],
      "metadata": {
        "id": "7N7Y_C4JHdfL"
      },
      "id": "7N7Y_C4JHdfL",
      "execution_count": null,
      "outputs": []
    },
    {
      "cell_type": "code",
      "source": [
        "# get the dataset\n",
        "#def get_dataset():\n",
        "\t#X, y = make_classification(n_samples=1000, n_features=10, n_informative=5, n_redundant=5, random_state=1)\n",
        "\t#return X, y\n",
        "\n",
        "# get a list of models to evaluate\n",
        "def get_models():\n",
        "\tmodels = dict()\n",
        "\t# lr\n",
        "\trfe = RFE(estimator=LinearRegression(), n_features_to_select=10)\n",
        "\tmodel = RandomForestRegressor()\n",
        "\tmodels['lr'] = Pipeline(steps=[('s',rfe),('m',model)])\n",
        "\t# perceptron\n",
        "\trfe = RFE(estimator=RandomForestRegressor(), n_features_to_select=10)\n",
        "\tmodel = RandomForestRegressor()\n",
        "\tmodels['rf'] = Pipeline(steps=[('s',rfe),('m',model)])\n",
        "\t# cart\n",
        "\trfe = RFE(estimator=SGDRegressor(), n_features_to_select=10)\n",
        "\tmodel = RandomForestRegressor()\n",
        "\tmodels['sgd'] = Pipeline(steps=[('s',rfe),('m',model)])\n",
        "\t# rf\n",
        "\trfe = RFE(estimator=MLPRegressor(), n_features_to_select=10)\n",
        "\tmodel = RandomForestRegressor()\n",
        "\tmodels['mlp'] = Pipeline(steps=[('s',rfe),('m',model)])\n",
        "\t# gbm\n",
        "\trfe = RFE(estimator=SVR(C=1.0, epsilon=0.2), n_features_to_select=10)\n",
        "\tmodel = RandomForestRegressor()\n",
        "\tmodels['svr'] = Pipeline(steps=[('s',rfe),('m',model)])\n",
        "\treturn models\n",
        "\n",
        "# evaluate a given model using cross-validation\n",
        "def evaluate_and_train_model(model, X, y, X_test, y_test):\n",
        "    test_results = list()\n",
        "    cv = RepeatedKFold(n_splits=10, n_repeats=25, random_state=100)\n",
        "    scores_nmae = cross_val_score(model, X, y, scoring='neg_mean_absolute_error', cv=cv, n_jobs=-1)\n",
        "    scores_r2 = cross_val_score(model, X, y, scoring='r2', cv=cv, n_jobs=-1)\n",
        "    scores_nmse = cross_val_score(model, X, y, scoring='neg_mean_squared_error', cv=cv, n_jobs=-1)\n",
        "    model.fit(X, y)\n",
        "    y_pred = model.predict(X_test)\n",
        "    test_results.append(mean_absolute_error(y_test,y_pred))\n",
        "    test_results.append(r2_score(y_test,y_pred))\n",
        "    test_results.append(mean_squared_error(y_test,y_pred))\n",
        "    return scores_nmae, scores_r2, scores_nmse, test_results\n",
        "\n",
        "# get the models to evaluate\n",
        "models = get_models()\n",
        "# evaluate the models and store results\n",
        "results_nmae, results_r2, results_nmse, names, test_results = list(), list(), list(), list(), list()\n",
        "for name, model in models.items():\n",
        "    #get the training and testing scores\n",
        "    scores_nmae, scores_r2, scores_nmse, test_results = evaluate_and_train_model(model, X_train, y_train, X_test, y_test)\n",
        "    results_nmae.append(scores_nmae)\n",
        "    results_r2.append(scores_r2)\n",
        "    results_nmse.append(scores_nmse)\n",
        "    names.append(name)\n",
        "    print('Training scores:')\n",
        "    print('NMAE>%s %.3f (%.3f)' % (name, mean(scores_nmae), std(scores_nmae)))\n",
        "    print('R2>%s %.3f (%.3f)' % (name, mean(scores_r2), std(scores_r2)))\n",
        "    print('MSE>%s %.3f (%.3f)' % (name, mean(scores_nmse), std(scores_nmse)))\n",
        "    print('Testing scores:')\n",
        "    print('NMAE>%s %.3f' % (name, test_results[0]))\n",
        "    print('R2>%s %.3f' % (name, test_results[1]))\n",
        "    print('MSE>%s %.3f' % (name, test_results[2]))\n",
        "# plot model performance for comparison\n",
        "pyplot.boxplot(results_nmae, labels=names, showmeans=True)\n",
        "pyplot.show()\n",
        "pyplot.boxplot(results_r2, labels=names, showmeans=True)\n",
        "pyplot.show()\n",
        "pyplot.boxplot(results_nmse, labels=names, showmeans=True)\n",
        "pyplot.show()"
      ],
      "metadata": {
        "id": "abBuOWkTgkTY"
      },
      "id": "abBuOWkTgkTY",
      "execution_count": null,
      "outputs": []
    }
  ],
  "metadata": {
    "kernelspec": {
      "display_name": "Python 3",
      "language": "python",
      "name": "python3"
    },
    "language_info": {
      "codemirror_mode": {
        "name": "ipython",
        "version": 3
      },
      "file_extension": ".py",
      "mimetype": "text/x-python",
      "name": "python",
      "nbconvert_exporter": "python",
      "pygments_lexer": "ipython3",
      "version": "3.8.8"
    },
    "colab": {
      "name": "TempForecasting.ipynb",
      "provenance": [],
      "include_colab_link": true
    },
    "accelerator": "GPU"
  },
  "nbformat": 4,
  "nbformat_minor": 5
}