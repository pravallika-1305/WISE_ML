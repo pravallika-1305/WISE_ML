{
  "nbformat": 4,
  "nbformat_minor": 0,
  "metadata": {
    "colab": {
      "name": "IntroductiontoMatplotlib1.ipynb",
      "private_outputs": true,
      "provenance": [],
      "include_colab_link": true
    },
    "kernelspec": {
      "name": "python3",
      "display_name": "Python 3"
    }
  },
  "cells": [
    {
      "cell_type": "markdown",
      "metadata": {
        "id": "view-in-github",
        "colab_type": "text"
      },
      "source": [
        "<a href=\"https://colab.research.google.com/github/pravallika-1305/WISE_ML/blob/main/IntroductiontoMatplotlib1.ipynb\" target=\"_parent\"><img src=\"https://colab.research.google.com/assets/colab-badge.svg\" alt=\"Open In Colab\"/></a>"
      ]
    },
    {
      "cell_type": "markdown",
      "metadata": {
        "id": "XDxtr_MamOuM"
      },
      "source": [
        "## Objective\n",
        "\n",
        "At the end of the experiment you will be able to\n",
        "\n",
        "* visualize multiple forms of both 2D and 3D graphs, like line graphs, scatter plots, bar charts, and more"
      ]
    },
    {
      "cell_type": "markdown",
      "metadata": {
        "id": "HDXTEL6ym08u"
      },
      "source": [
        "### Introduction to Matplotlib\n",
        "\n",
        "Matplotlib is probably the most used Python package for 2D and 3D graphics. It provides both a quick way to visualize data from Python and publication-quality figures in many formats.\n",
        "\n",
        "Now it is time to work on practicals. Following Are the given Exercise:"
      ]
    },
    {
      "cell_type": "markdown",
      "metadata": {
        "id": "tkdX2oq-oVdj"
      },
      "source": [
        "#### Data"
      ]
    },
    {
      "cell_type": "code",
      "metadata": {
        "id": "mHbpMXREmLGr"
      },
      "source": [
        "import numpy as np\n",
        "import pandas as pd\n",
        "X = np.arange(0,100)\n",
        "Y = X * 2\n",
        "X = X ** 3"
      ],
      "execution_count": null,
      "outputs": []
    },
    {
      "cell_type": "markdown",
      "metadata": {
        "id": "jKVqei9sogU4"
      },
      "source": [
        "#### Exercise 0: Import matplotlib.pyplot as plt and set %matplotlib inline"
      ]
    },
    {
      "cell_type": "code",
      "metadata": {
        "id": "TIz82RR4oa4S"
      },
      "source": [
        "# Your Code Here\r\n",
        "import matplotlib.pyplot as plt\r\n",
        "%matplotlib inline"
      ],
      "execution_count": null,
      "outputs": []
    },
    {
      "cell_type": "markdown",
      "metadata": {
        "id": "ELzab7r3os19"
      },
      "source": [
        "#### Exercise 1: Follow along with these steps:\n",
        "\n",
        "* Create a figure object called fig using plt.figure()\n",
        "* Use add_axes to add an axis to the figure canvas at [0,0,1,1]. Call this new axis ax.\n",
        "* Plot (X,Y) on that axes and set labels and title for the graph"
      ]
    },
    {
      "cell_type": "code",
      "metadata": {
        "id": "1lri-TVjosMt"
      },
      "source": [
        "# Your Code Here\r\n",
        "fig = plt.figure()\r\n",
        "\r\n",
        "ax = fig.add_axes([0,0,1,1])\r\n",
        "ax.set_title('title')\r\n",
        "ax.set_xlabel('x')\r\n",
        "ax.set_ylabel('y')\r\n",
        "\r\n",
        "ax.plot(X,Y)"
      ],
      "execution_count": null,
      "outputs": []
    },
    {
      "cell_type": "markdown",
      "metadata": {
        "id": "I6dQqcSSpI5w"
      },
      "source": [
        "### Exercise 3: Create a figure object and put two axes on it, ax1 and ax2. Located at [0, 0, 1, 1] and [0.4, 0.3, 0.1, 0.2] respectively."
      ]
    },
    {
      "cell_type": "code",
      "metadata": {
        "id": "QCtn6VeIpDli"
      },
      "source": [
        "# Your Code Here\r\n",
        "fig1 = plt.figure()\r\n",
        "\r\n",
        "ax1 = fig1.add_axes([0,0,1,1])\r\n",
        "ax2 = fig1.add_axes([0.4,0.3,.1,.2])"
      ],
      "execution_count": null,
      "outputs": []
    },
    {
      "cell_type": "markdown",
      "metadata": {
        "id": "RuQlgHWHpsdQ"
      },
      "source": [
        "#### Exercise 4: Now plot (X, Y) on both axes. And call your figure object to show it."
      ]
    },
    {
      "cell_type": "code",
      "metadata": {
        "id": "row9zhy-pa0m"
      },
      "source": [
        "# Your Code Here\r\n",
        "fig1 = plt.figure()\r\n",
        "\r\n",
        "ax1 = fig1.add_axes([0,0,1,1])\r\n",
        "ax2 = fig1.add_axes([0.4,0.3,.1,.2])\r\n",
        "\r\n",
        "ax1.plot(X,Y)\r\n",
        "ax2.plot(X,Y)"
      ],
      "execution_count": null,
      "outputs": []
    },
    {
      "cell_type": "markdown",
      "metadata": {
        "id": "kHkCWfLVqTPy"
      },
      "source": [
        "#### Exercise 5: For the following dataframe:\n",
        "\n",
        "* Plot a simple bar chart.\n",
        "* Set the title and axis labels of the graph.\n",
        "* In the plot method, remove the legend, change the colour, and increase the width of the bars.\n",
        "* Remove the ticks (It's OK to C + P this!)\n",
        "* Remove the top and right borders"
      ]
    },
    {
      "cell_type": "code",
      "metadata": {
        "id": "S2UAMWt7p4EP"
      },
      "source": [
        "df1 = pd.DataFrame({'date':['11-May-16','18-May-16','01-Jun-16','08-Jun-16','15-Jun-16'], # Importing some dates as a string\n",
        "                   'data':np.random.randint(0,1000,5)*100})\n",
        "df1 = df1.set_index('date')\n",
        "df1.index.name = None\n",
        "df1"
      ],
      "execution_count": null,
      "outputs": []
    },
    {
      "cell_type": "code",
      "metadata": {
        "id": "U_1kWztFrBkY"
      },
      "source": [
        "# Your Code Here\r\n",
        "ax = plt.axes()\r\n",
        "ax.bar(df1.index,df1['data'],color='red',width=0.9)\r\n",
        "ax.set_xlabel('Date')\r\n",
        "ax.set_ylabel('Data')\r\n",
        "ax.set_title('Data')\r\n",
        "plt.xticks([])\r\n",
        "plt.yticks([])\r\n",
        "ax.spines['top'].set_visible(False)\r\n",
        "ax.spines['right'].set_visible(False)"
      ],
      "execution_count": null,
      "outputs": []
    },
    {
      "cell_type": "markdown",
      "metadata": {
        "id": "7a3ZjKYUqowH"
      },
      "source": [
        "Exercise 6: For the following dataframe:\n",
        "\n",
        "* Plot a basic scatter chart.\n",
        "* Set the title and axis labels of the graph.\n",
        "* See if you can find out how to set the scale to 0 - 1000\n",
        "* See if you can find out how to change the scatter marker to a square"
      ]
    },
    {
      "cell_type": "code",
      "metadata": {
        "id": "zOcEvwIeqtc5"
      },
      "source": [
        "df2 = pd.DataFrame({'data1':np.random.randint(0,1000,1000),\n",
        "                   'data2':np.random.randint(0,1000,1000)})\n",
        "df2"
      ],
      "execution_count": null,
      "outputs": []
    },
    {
      "cell_type": "code",
      "metadata": {
        "id": "xgifyzCUrCNM"
      },
      "source": [
        "# Your Code Here\r\n",
        "plt.scatter(df2['data1'],df2['data2'],marker='o')\r\n",
        "plt.xlabel('data1')\r\n",
        "plt.ylabel('data2')\r\n",
        "plt.title('data1 vs data2')\r\n",
        "plt.xlim(0,1000)"
      ],
      "execution_count": null,
      "outputs": []
    },
    {
      "cell_type": "code",
      "metadata": {
        "id": "cQeSTyIQDOnd"
      },
      "source": [
        ""
      ],
      "execution_count": null,
      "outputs": []
    }
  ]
}