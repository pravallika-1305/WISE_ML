{
  "nbformat": 4,
  "nbformat_minor": 0,
  "metadata": {
    "accelerator": "GPU",
    "colab": {
      "name": "carInsurancePrediction.ipynb",
      "provenance": [],
      "collapsed_sections": [],
      "authorship_tag": "ABX9TyOJDn62rl44fWgwBaxlwcJF",
      "include_colab_link": true
    },
    "kernelspec": {
      "display_name": "Python 3",
      "name": "python3"
    },
    "language_info": {
      "name": "python"
    }
  },
  "cells": [
    {
      "cell_type": "markdown",
      "metadata": {
        "id": "view-in-github",
        "colab_type": "text"
      },
      "source": [
        "<a href=\"https://colab.research.google.com/github/pravallika-1305/WISE_ML/blob/main/DPhi/carInsurancePrediction.ipynb\" target=\"_parent\"><img src=\"https://colab.research.google.com/assets/colab-badge.svg\" alt=\"Open In Colab\"/></a>"
      ]
    },
    {
      "cell_type": "code",
      "metadata": {
        "id": "myr_PwgSeGIP"
      },
      "source": [
        "import numpy as np \n",
        "import pandas as pd \n",
        "\n",
        "# Data Visualization\n",
        "import matplotlib.pyplot as plt\n",
        "%matplotlib inline\n",
        "import seaborn as sns"
      ],
      "execution_count": 3,
      "outputs": []
    },
    {
      "cell_type": "code",
      "metadata": {
        "colab": {
          "base_uri": "https://localhost:8080/"
        },
        "id": "nq-knetKeo3G",
        "outputId": "efeca068-127f-493b-e29e-470e05bbec9a"
      },
      "source": [
        "from google.colab import drive\n",
        "drive.mount('/content/drive')"
      ],
      "execution_count": 4,
      "outputs": [
        {
          "output_type": "stream",
          "text": [
            "Mounted at /content/drive\n"
          ],
          "name": "stdout"
        }
      ]
    },
    {
      "cell_type": "code",
      "metadata": {
        "id": "y_cuEFO4eMUB"
      },
      "source": [
        "df_train = pd.read_csv('/content/drive/My Drive/Data/Train_data.csv')\n",
        "df_test = pd.read_csv('/content/drive/My Drive/Data/Test_data.csv')"
      ],
      "execution_count": 5,
      "outputs": []
    },
    {
      "cell_type": "code",
      "metadata": {
        "colab": {
          "base_uri": "https://localhost:8080/"
        },
        "id": "LJN__vHxfzmR",
        "outputId": "8929c966-b24c-48eb-8621-17c2d6711959"
      },
      "source": [
        "df_train.info()"
      ],
      "execution_count": 6,
      "outputs": [
        {
          "output_type": "stream",
          "text": [
            "<class 'pandas.core.frame.DataFrame'>\n",
            "RangeIndex: 3102 entries, 0 to 3101\n",
            "Data columns (total 18 columns):\n",
            " #   Column               Non-Null Count  Dtype  \n",
            "---  ------               --------------  -----  \n",
            " 0   age                  3102 non-null   float64\n",
            " 1   job_type             3091 non-null   object \n",
            " 2   marital_status       3102 non-null   object \n",
            " 3   education_level      2989 non-null   object \n",
            " 4   default_or_not       3102 non-null   int64  \n",
            " 5   balance_amt          3102 non-null   float64\n",
            " 6   household_insurance  3102 non-null   int64  \n",
            " 7   car_loan             3102 non-null   int64  \n",
            " 8   communication        2559 non-null   object \n",
            " 9   last_contact_day     3102 non-null   int64  \n",
            " 10  last_contact_month   3102 non-null   object \n",
            " 11  no_of_contacts       3102 non-null   int64  \n",
            " 12  days_passed          3102 non-null   int64  \n",
            " 13  prev_attempts        3102 non-null   int64  \n",
            " 14  Outcome              751 non-null    object \n",
            " 15  call_start           3102 non-null   object \n",
            " 16  call_end             3102 non-null   object \n",
            " 17  car_insurance        3102 non-null   int64  \n",
            "dtypes: float64(2), int64(8), object(8)\n",
            "memory usage: 436.3+ KB\n"
          ],
          "name": "stdout"
        }
      ]
    },
    {
      "cell_type": "code",
      "metadata": {
        "colab": {
          "base_uri": "https://localhost:8080/",
          "height": 215
        },
        "id": "9TmCqAfUe-f1",
        "outputId": "1295d642-956c-4d70-df93-dd88239fa6f4"
      },
      "source": [
        "df_train.head()\n",
        "#missing values observed in some columns\n",
        "#days passed has missing values as `-1`"
      ],
      "execution_count": 7,
      "outputs": [
        {
          "output_type": "execute_result",
          "data": {
            "text/html": [
              "<div>\n",
              "<style scoped>\n",
              "    .dataframe tbody tr th:only-of-type {\n",
              "        vertical-align: middle;\n",
              "    }\n",
              "\n",
              "    .dataframe tbody tr th {\n",
              "        vertical-align: top;\n",
              "    }\n",
              "\n",
              "    .dataframe thead th {\n",
              "        text-align: right;\n",
              "    }\n",
              "</style>\n",
              "<table border=\"1\" class=\"dataframe\">\n",
              "  <thead>\n",
              "    <tr style=\"text-align: right;\">\n",
              "      <th></th>\n",
              "      <th>age</th>\n",
              "      <th>job_type</th>\n",
              "      <th>marital_status</th>\n",
              "      <th>education_level</th>\n",
              "      <th>default_or_not</th>\n",
              "      <th>balance_amt</th>\n",
              "      <th>household_insurance</th>\n",
              "      <th>car_loan</th>\n",
              "      <th>communication</th>\n",
              "      <th>last_contact_day</th>\n",
              "      <th>last_contact_month</th>\n",
              "      <th>no_of_contacts</th>\n",
              "      <th>days_passed</th>\n",
              "      <th>prev_attempts</th>\n",
              "      <th>Outcome</th>\n",
              "      <th>call_start</th>\n",
              "      <th>call_end</th>\n",
              "      <th>car_insurance</th>\n",
              "    </tr>\n",
              "  </thead>\n",
              "  <tbody>\n",
              "    <tr>\n",
              "      <th>0</th>\n",
              "      <td>47.000000</td>\n",
              "      <td>blue-collar</td>\n",
              "      <td>married</td>\n",
              "      <td>primary</td>\n",
              "      <td>0</td>\n",
              "      <td>1112.000000</td>\n",
              "      <td>1</td>\n",
              "      <td>0</td>\n",
              "      <td>cellular</td>\n",
              "      <td>13</td>\n",
              "      <td>may</td>\n",
              "      <td>1</td>\n",
              "      <td>-1</td>\n",
              "      <td>0</td>\n",
              "      <td>NaN</td>\n",
              "      <td>10:22:20</td>\n",
              "      <td>10:24:29</td>\n",
              "      <td>0</td>\n",
              "    </tr>\n",
              "    <tr>\n",
              "      <th>1</th>\n",
              "      <td>46.031442</td>\n",
              "      <td>management</td>\n",
              "      <td>married</td>\n",
              "      <td>tertiary</td>\n",
              "      <td>0</td>\n",
              "      <td>1.312372</td>\n",
              "      <td>0</td>\n",
              "      <td>1</td>\n",
              "      <td>cellular</td>\n",
              "      <td>15</td>\n",
              "      <td>may</td>\n",
              "      <td>3</td>\n",
              "      <td>219</td>\n",
              "      <td>1</td>\n",
              "      <td>other</td>\n",
              "      <td>09:06:30</td>\n",
              "      <td>13:59:48</td>\n",
              "      <td>1</td>\n",
              "    </tr>\n",
              "    <tr>\n",
              "      <th>2</th>\n",
              "      <td>36.000000</td>\n",
              "      <td>services</td>\n",
              "      <td>single</td>\n",
              "      <td>NaN</td>\n",
              "      <td>0</td>\n",
              "      <td>281.000000</td>\n",
              "      <td>1</td>\n",
              "      <td>0</td>\n",
              "      <td>NaN</td>\n",
              "      <td>16</td>\n",
              "      <td>may</td>\n",
              "      <td>1</td>\n",
              "      <td>-1</td>\n",
              "      <td>0</td>\n",
              "      <td>NaN</td>\n",
              "      <td>13:18:41</td>\n",
              "      <td>13:27:16</td>\n",
              "      <td>1</td>\n",
              "    </tr>\n",
              "    <tr>\n",
              "      <th>3</th>\n",
              "      <td>32.000000</td>\n",
              "      <td>technician</td>\n",
              "      <td>single</td>\n",
              "      <td>secondary</td>\n",
              "      <td>0</td>\n",
              "      <td>540.000000</td>\n",
              "      <td>0</td>\n",
              "      <td>1</td>\n",
              "      <td>cellular</td>\n",
              "      <td>29</td>\n",
              "      <td>jan</td>\n",
              "      <td>1</td>\n",
              "      <td>-1</td>\n",
              "      <td>0</td>\n",
              "      <td>NaN</td>\n",
              "      <td>10:09:18</td>\n",
              "      <td>10:21:48</td>\n",
              "      <td>1</td>\n",
              "    </tr>\n",
              "    <tr>\n",
              "      <th>4</th>\n",
              "      <td>30.000000</td>\n",
              "      <td>admin.</td>\n",
              "      <td>single</td>\n",
              "      <td>secondary</td>\n",
              "      <td>0</td>\n",
              "      <td>315.000000</td>\n",
              "      <td>1</td>\n",
              "      <td>0</td>\n",
              "      <td>cellular</td>\n",
              "      <td>14</td>\n",
              "      <td>may</td>\n",
              "      <td>3</td>\n",
              "      <td>346</td>\n",
              "      <td>4</td>\n",
              "      <td>failure</td>\n",
              "      <td>12:12:30</td>\n",
              "      <td>12:27:14</td>\n",
              "      <td>1</td>\n",
              "    </tr>\n",
              "  </tbody>\n",
              "</table>\n",
              "</div>"
            ],
            "text/plain": [
              "         age     job_type marital_status  ... call_start  call_end  car_insurance\n",
              "0  47.000000  blue-collar        married  ...   10:22:20  10:24:29              0\n",
              "1  46.031442   management        married  ...   09:06:30  13:59:48              1\n",
              "2  36.000000     services         single  ...   13:18:41  13:27:16              1\n",
              "3  32.000000   technician         single  ...   10:09:18  10:21:48              1\n",
              "4  30.000000       admin.         single  ...   12:12:30  12:27:14              1\n",
              "\n",
              "[5 rows x 18 columns]"
            ]
          },
          "metadata": {
            "tags": []
          },
          "execution_count": 7
        }
      ]
    },
    {
      "cell_type": "code",
      "metadata": {
        "colab": {
          "base_uri": "https://localhost:8080/"
        },
        "id": "NATqelgEfYyQ",
        "outputId": "54bfa40e-0455-43c1-c6a2-6937a7ae823d"
      },
      "source": [
        "#check the total number of missing values\n",
        "df_train.isna().sum()"
      ],
      "execution_count": 8,
      "outputs": [
        {
          "output_type": "execute_result",
          "data": {
            "text/plain": [
              "age                       0\n",
              "job_type                 11\n",
              "marital_status            0\n",
              "education_level         113\n",
              "default_or_not            0\n",
              "balance_amt               0\n",
              "household_insurance       0\n",
              "car_loan                  0\n",
              "communication           543\n",
              "last_contact_day          0\n",
              "last_contact_month        0\n",
              "no_of_contacts            0\n",
              "days_passed               0\n",
              "prev_attempts             0\n",
              "Outcome                2351\n",
              "call_start                0\n",
              "call_end                  0\n",
              "car_insurance             0\n",
              "dtype: int64"
            ]
          },
          "metadata": {
            "tags": []
          },
          "execution_count": 8
        }
      ]
    },
    {
      "cell_type": "code",
      "metadata": {
        "id": "L52s_vx1fcxZ"
      },
      "source": [
        "#convert age from `float-> int`\n",
        "df_train[\"age\"] = df_train['age'].astype(int)"
      ],
      "execution_count": 9,
      "outputs": []
    },
    {
      "cell_type": "code",
      "metadata": {
        "id": "s_DM6SYEfvzY"
      },
      "source": [
        "#Handling missing values\n",
        "from sklearn.impute import SimpleImputer\n",
        "imputer = SimpleImputer(missing_values=np.nan, strategy='most_frequent')"
      ],
      "execution_count": 10,
      "outputs": []
    },
    {
      "cell_type": "code",
      "metadata": {
        "id": "T1zjLsDQgN_G"
      },
      "source": [
        "#replacing them with most requent values\n",
        "df_train['job_type'] = imputer.fit_transform(df_train[['job_type']])\n",
        "df_train['education_level'] = imputer.fit_transform(df_train[['education_level']])"
      ],
      "execution_count": 11,
      "outputs": []
    },
    {
      "cell_type": "code",
      "metadata": {
        "colab": {
          "base_uri": "https://localhost:8080/"
        },
        "id": "Xph12xtCgcyj",
        "outputId": "4c0c9d23-6032-4596-b414-472a72f8b98b"
      },
      "source": [
        "df_train.isna().sum()"
      ],
      "execution_count": 12,
      "outputs": [
        {
          "output_type": "execute_result",
          "data": {
            "text/plain": [
              "age                       0\n",
              "job_type                  0\n",
              "marital_status            0\n",
              "education_level           0\n",
              "default_or_not            0\n",
              "balance_amt               0\n",
              "household_insurance       0\n",
              "car_loan                  0\n",
              "communication           543\n",
              "last_contact_day          0\n",
              "last_contact_month        0\n",
              "no_of_contacts            0\n",
              "days_passed               0\n",
              "prev_attempts             0\n",
              "Outcome                2351\n",
              "call_start                0\n",
              "call_end                  0\n",
              "car_insurance             0\n",
              "dtype: int64"
            ]
          },
          "metadata": {
            "tags": []
          },
          "execution_count": 12
        }
      ]
    },
    {
      "cell_type": "code",
      "metadata": {
        "id": "Iz3eV4V0gj9d"
      },
      "source": [
        "df_train = df_train.drop(['communication','Outcome','last_contact_day','last_contact_month'],axis = 1)"
      ],
      "execution_count": 13,
      "outputs": []
    },
    {
      "cell_type": "code",
      "metadata": {
        "id": "CG7g_SEagx3r"
      },
      "source": [
        "df_train['days_passed'] = df_train['days_passed'].replace(-1, np.nan)"
      ],
      "execution_count": 14,
      "outputs": []
    },
    {
      "cell_type": "code",
      "metadata": {
        "colab": {
          "base_uri": "https://localhost:8080/"
        },
        "id": "YMv02J_ghGcV",
        "outputId": "b12d31f6-41b8-4a9e-9dea-872c1a4f7554"
      },
      "source": [
        "df_train.isna().sum()"
      ],
      "execution_count": 15,
      "outputs": [
        {
          "output_type": "execute_result",
          "data": {
            "text/plain": [
              "age                       0\n",
              "job_type                  0\n",
              "marital_status            0\n",
              "education_level           0\n",
              "default_or_not            0\n",
              "balance_amt               0\n",
              "household_insurance       0\n",
              "car_loan                  0\n",
              "no_of_contacts            0\n",
              "days_passed            2219\n",
              "prev_attempts             0\n",
              "call_start                0\n",
              "call_end                  0\n",
              "car_insurance             0\n",
              "dtype: int64"
            ]
          },
          "metadata": {
            "tags": []
          },
          "execution_count": 15
        }
      ]
    },
    {
      "cell_type": "code",
      "metadata": {
        "id": "DHjJwbGmhMOz"
      },
      "source": [
        "df_train = df_train.drop(['days_passed'],axis = 1)"
      ],
      "execution_count": 16,
      "outputs": []
    },
    {
      "cell_type": "code",
      "metadata": {
        "colab": {
          "base_uri": "https://localhost:8080/"
        },
        "id": "fTJmNf7PhSIb",
        "outputId": "bcb5182e-7377-4bdd-8b92-24d7f6e55b6d"
      },
      "source": [
        "df_train.isna().sum()"
      ],
      "execution_count": 17,
      "outputs": [
        {
          "output_type": "execute_result",
          "data": {
            "text/plain": [
              "age                    0\n",
              "job_type               0\n",
              "marital_status         0\n",
              "education_level        0\n",
              "default_or_not         0\n",
              "balance_amt            0\n",
              "household_insurance    0\n",
              "car_loan               0\n",
              "no_of_contacts         0\n",
              "prev_attempts          0\n",
              "call_start             0\n",
              "call_end               0\n",
              "car_insurance          0\n",
              "dtype: int64"
            ]
          },
          "metadata": {
            "tags": []
          },
          "execution_count": 17
        }
      ]
    },
    {
      "cell_type": "code",
      "metadata": {
        "id": "DLryb0w4hUXB"
      },
      "source": [
        "#Getting an integer value for call duration\n",
        "df_train['call_duration'] = (pd.to_datetime(df_train['call_end']) - pd.to_datetime(df_train['call_start']))\n",
        "df_train['call_duration'] = df_train['call_duration'].apply(lambda x: x.seconds) \n",
        "df_train = df_train.drop(['call_start', 'call_end'], axis=1)"
      ],
      "execution_count": 18,
      "outputs": []
    },
    {
      "cell_type": "code",
      "metadata": {
        "colab": {
          "base_uri": "https://localhost:8080/"
        },
        "id": "XRE-fCEniHo9",
        "outputId": "8bf8929c-18e8-410e-97c2-e78a9d849798"
      },
      "source": [
        "df_train.info()"
      ],
      "execution_count": 19,
      "outputs": [
        {
          "output_type": "stream",
          "text": [
            "<class 'pandas.core.frame.DataFrame'>\n",
            "RangeIndex: 3102 entries, 0 to 3101\n",
            "Data columns (total 12 columns):\n",
            " #   Column               Non-Null Count  Dtype  \n",
            "---  ------               --------------  -----  \n",
            " 0   age                  3102 non-null   int64  \n",
            " 1   job_type             3102 non-null   object \n",
            " 2   marital_status       3102 non-null   object \n",
            " 3   education_level      3102 non-null   object \n",
            " 4   default_or_not       3102 non-null   int64  \n",
            " 5   balance_amt          3102 non-null   float64\n",
            " 6   household_insurance  3102 non-null   int64  \n",
            " 7   car_loan             3102 non-null   int64  \n",
            " 8   no_of_contacts       3102 non-null   int64  \n",
            " 9   prev_attempts        3102 non-null   int64  \n",
            " 10  car_insurance        3102 non-null   int64  \n",
            " 11  call_duration        3102 non-null   int64  \n",
            "dtypes: float64(1), int64(8), object(3)\n",
            "memory usage: 290.9+ KB\n"
          ],
          "name": "stdout"
        }
      ]
    },
    {
      "cell_type": "code",
      "metadata": {
        "colab": {
          "base_uri": "https://localhost:8080/"
        },
        "id": "lbRLA-PCiTNB",
        "outputId": "02bd1797-9a96-4e0d-8c4a-10b4c2d24ba3"
      },
      "source": [
        "for col in df_train.columns:\n",
        "  print(col +\":\" + str(df_train[col].unique()))\n",
        "  #education_level, marital_status can be made categorical\n",
        "  #job_type can also be converted to int"
      ],
      "execution_count": 20,
      "outputs": [
        {
          "output_type": "stream",
          "text": [
            "age:[47 46 36 32 30 37 21 52 49 41 45 33 40 57 48 35 27 50 58 34 51 73 26 54\n",
            " 42 39 44 23 31 43 64 72 29 60 59 25 38 66 83 55 28 56 62 18 71 65 24 70\n",
            " 77 53 61 67 22 63 69 82 78 81 19 79 80 75 68 92 86 20 76]\n",
            "job_type:['blue-collar' 'management' 'services' 'technician' 'admin.' 'student'\n",
            " 'retired' 'housemaid' 'unemployed' 'entrepreneur' 'self-employed']\n",
            "marital_status:['married' 'single' 'divorced']\n",
            "education_level:['primary' 'tertiary' 'secondary']\n",
            "default_or_not:[0 1]\n",
            "balance_amt:[1.11200000e+03 1.31237194e+00 2.81000000e+02 ... 4.40000000e+02\n",
            " 2.75356686e+03 3.13600000e+03]\n",
            "household_insurance:[1 0]\n",
            "car_loan:[0 1]\n",
            "no_of_contacts:[ 1  3  8  2  4 11  5  7 14  6  9 17 10 13 21 12 43 23 15 20 19 24 29 34\n",
            " 26 18 32 25 16]\n",
            "prev_attempts:[ 0  1  4  2 11  3  6  8  5 19  7 16 30  9 58 22 13 10 23 14 12 21]\n",
            "car_insurance:[0 1]\n",
            "call_duration:[  129 17598   515 ... 58295  1407   820]\n"
          ],
          "name": "stdout"
        }
      ]
    },
    {
      "cell_type": "code",
      "metadata": {
        "id": "1IpAqM7bjUGC"
      },
      "source": [
        "from sklearn.preprocessing import LabelEncoder\n",
        "le_j = LabelEncoder()\n",
        "df_train['job_type']=le_j.fit_transform(df_train['job_type'])\n",
        "le_m = LabelEncoder()\n",
        "df_train['marital_status']=le_m.fit_transform(df_train['marital_status'])\n",
        "le_e = LabelEncoder()\n",
        "df_train['education_level']=le_e.fit_transform(df_train['education_level'])"
      ],
      "execution_count": 21,
      "outputs": []
    },
    {
      "cell_type": "code",
      "metadata": {
        "colab": {
          "base_uri": "https://localhost:8080/",
          "height": 195
        },
        "id": "QJmG5DMJkSPM",
        "outputId": "baadb717-53e2-4792-c445-de8a5e28cd5a"
      },
      "source": [
        "df_train.head()"
      ],
      "execution_count": 22,
      "outputs": [
        {
          "output_type": "execute_result",
          "data": {
            "text/html": [
              "<div>\n",
              "<style scoped>\n",
              "    .dataframe tbody tr th:only-of-type {\n",
              "        vertical-align: middle;\n",
              "    }\n",
              "\n",
              "    .dataframe tbody tr th {\n",
              "        vertical-align: top;\n",
              "    }\n",
              "\n",
              "    .dataframe thead th {\n",
              "        text-align: right;\n",
              "    }\n",
              "</style>\n",
              "<table border=\"1\" class=\"dataframe\">\n",
              "  <thead>\n",
              "    <tr style=\"text-align: right;\">\n",
              "      <th></th>\n",
              "      <th>age</th>\n",
              "      <th>job_type</th>\n",
              "      <th>marital_status</th>\n",
              "      <th>education_level</th>\n",
              "      <th>default_or_not</th>\n",
              "      <th>balance_amt</th>\n",
              "      <th>household_insurance</th>\n",
              "      <th>car_loan</th>\n",
              "      <th>no_of_contacts</th>\n",
              "      <th>prev_attempts</th>\n",
              "      <th>car_insurance</th>\n",
              "      <th>call_duration</th>\n",
              "    </tr>\n",
              "  </thead>\n",
              "  <tbody>\n",
              "    <tr>\n",
              "      <th>0</th>\n",
              "      <td>47</td>\n",
              "      <td>1</td>\n",
              "      <td>1</td>\n",
              "      <td>0</td>\n",
              "      <td>0</td>\n",
              "      <td>1112.000000</td>\n",
              "      <td>1</td>\n",
              "      <td>0</td>\n",
              "      <td>1</td>\n",
              "      <td>0</td>\n",
              "      <td>0</td>\n",
              "      <td>129</td>\n",
              "    </tr>\n",
              "    <tr>\n",
              "      <th>1</th>\n",
              "      <td>46</td>\n",
              "      <td>4</td>\n",
              "      <td>1</td>\n",
              "      <td>2</td>\n",
              "      <td>0</td>\n",
              "      <td>1.312372</td>\n",
              "      <td>0</td>\n",
              "      <td>1</td>\n",
              "      <td>3</td>\n",
              "      <td>1</td>\n",
              "      <td>1</td>\n",
              "      <td>17598</td>\n",
              "    </tr>\n",
              "    <tr>\n",
              "      <th>2</th>\n",
              "      <td>36</td>\n",
              "      <td>7</td>\n",
              "      <td>2</td>\n",
              "      <td>1</td>\n",
              "      <td>0</td>\n",
              "      <td>281.000000</td>\n",
              "      <td>1</td>\n",
              "      <td>0</td>\n",
              "      <td>1</td>\n",
              "      <td>0</td>\n",
              "      <td>1</td>\n",
              "      <td>515</td>\n",
              "    </tr>\n",
              "    <tr>\n",
              "      <th>3</th>\n",
              "      <td>32</td>\n",
              "      <td>9</td>\n",
              "      <td>2</td>\n",
              "      <td>1</td>\n",
              "      <td>0</td>\n",
              "      <td>540.000000</td>\n",
              "      <td>0</td>\n",
              "      <td>1</td>\n",
              "      <td>1</td>\n",
              "      <td>0</td>\n",
              "      <td>1</td>\n",
              "      <td>750</td>\n",
              "    </tr>\n",
              "    <tr>\n",
              "      <th>4</th>\n",
              "      <td>30</td>\n",
              "      <td>0</td>\n",
              "      <td>2</td>\n",
              "      <td>1</td>\n",
              "      <td>0</td>\n",
              "      <td>315.000000</td>\n",
              "      <td>1</td>\n",
              "      <td>0</td>\n",
              "      <td>3</td>\n",
              "      <td>4</td>\n",
              "      <td>1</td>\n",
              "      <td>884</td>\n",
              "    </tr>\n",
              "  </tbody>\n",
              "</table>\n",
              "</div>"
            ],
            "text/plain": [
              "   age  job_type  marital_status  ...  prev_attempts  car_insurance  call_duration\n",
              "0   47         1               1  ...              0              0            129\n",
              "1   46         4               1  ...              1              1          17598\n",
              "2   36         7               2  ...              0              1            515\n",
              "3   32         9               2  ...              0              1            750\n",
              "4   30         0               2  ...              4              1            884\n",
              "\n",
              "[5 rows x 12 columns]"
            ]
          },
          "metadata": {
            "tags": []
          },
          "execution_count": 22
        }
      ]
    },
    {
      "cell_type": "code",
      "metadata": {
        "colab": {
          "base_uri": "https://localhost:8080/",
          "height": 1000
        },
        "id": "1sw3DYSZnIX9",
        "outputId": "a6853b86-e421-4ea8-a355-ad531f11ed4f"
      },
      "source": [
        "def plot_bar(data, cols):\n",
        "    fig = plt.figure(figsize=(20, 36))\n",
        "    for loc, col in enumerate(cols):\n",
        "        plt.subplot(5, 3, loc+1)\n",
        "        sns.barplot(x=df_train[\"car_insurance\"].astype(int), y=col, data=data)\n",
        "plot_bar(df_train, df_train.columns[:-2])\n",
        "plt.show()"
      ],
      "execution_count": 23,
      "outputs": [
        {
          "output_type": "display_data",
          "data": {
            "image/png": "[encoded data removed]",
            "text/plain": [
              "<Figure size 1440x2592 with 10 Axes>"
            ]
          },
          "metadata": {
            "tags": [],
            "needs_background": "light"
          }
        }
      ]
    },
    {
      "cell_type": "code",
      "metadata": {
        "colab": {
          "base_uri": "https://localhost:8080/",
          "height": 691
        },
        "id": "xvrB5kyIk-bR",
        "outputId": "fb229f18-ef54-40bc-b818-1dab39cf289d"
      },
      "source": [
        "plt.figure(figsize=(12,10))\n",
        "cor = df_train.corr()\n",
        "sns.heatmap(cor, annot=True)\n",
        "plt.show()\n",
        "#call_duration and car insurance are very related\n",
        "#household_insurance and no_of_contacts are not related at all."
      ],
      "execution_count": 24,
      "outputs": [
        {
          "output_type": "display_data",
          "data": {
            "image/png": "[encoded data removed]",
            "text/plain": [
              "<Figure size 864x720 with 2 Axes>"
            ]
          },
          "metadata": {
            "tags": [],
            "needs_background": "light"
          }
        }
      ]
    },
    {
      "cell_type": "code",
      "metadata": {
        "id": "WMfLFZ2ToMBX"
      },
      "source": [
        "from sklearn.model_selection import train_test_split\n",
        "from sklearn.model_selection import StratifiedKFold\n",
        "\n",
        "from sklearn.linear_model import SGDClassifier\n",
        "\n",
        "from sklearn.ensemble import RandomForestClassifier, GradientBoostingClassifier\n",
        "from sklearn.linear_model import LogisticRegression\n",
        "from sklearn. tree import DecisionTreeClassifier\n",
        "\n",
        "from sklearn.metrics import roc_curve, auc, accuracy_score, roc_auc_score, f1_score, recall_score, precision_score"
      ],
      "execution_count": 25,
      "outputs": []
    },
    {
      "cell_type": "code",
      "metadata": {
        "id": "xAUZKBUZ2uZV"
      },
      "source": [
        "X = df_train.drop([\"car_insurance\"], axis=1).to_numpy()\n",
        "y = df_train['car_insurance'].values"
      ],
      "execution_count": 26,
      "outputs": []
    },
    {
      "cell_type": "code",
      "metadata": {
        "id": "ywyL7GWy1NLk"
      },
      "source": [
        "models = {\"Logistic Regression\": LogisticRegression(max_iter=10000), \n",
        "          \"Random Forest\": RandomForestClassifier(),\n",
        "          \"GradientBoostingClassifier\" : GradientBoostingClassifier()}"
      ],
      "execution_count": 27,
      "outputs": []
    },
    {
      "cell_type": "code",
      "metadata": {
        "colab": {
          "base_uri": "https://localhost:8080/",
          "height": 315
        },
        "id": "xkWur-m71TG_",
        "outputId": "66d72663-fb76-4c96-adaa-8504bcd61921"
      },
      "source": [
        "# Initialize StratifiedKFold\n",
        "skf = StratifiedKFold(n_splits=5, shuffle=True)\n",
        "\n",
        "for name, model in models.items():\n",
        "    \n",
        "    # Create list for ROC AUC scores\n",
        "    roc_auc_score_list = []\n",
        "    \n",
        "    for train_index, test_index in skf.split(X,y):\n",
        "        X_train, X_test = X[train_index], X[test_index]\n",
        "        y_train, y_test = y[train_index], y[test_index]\n",
        "\n",
        "        model.fit(X_train, y_train)\n",
        "\n",
        "        roc_auc_score_list.append(roc_auc_score(y_test, model.predict_proba(X_test)[:, 1]))\n",
        "        fpr, tpr, _ = roc_curve(y_test, model.predict_proba(X_test)[:, 1])\n",
        "        plt.plot(fpr, tpr)\n",
        "\n",
        "      #Random Forest is giving good roc_auc_score, gradientBoosting seconds.\n",
        "\n",
        "\n",
        "    print(f'Mean roc_auc_score {name} : {np.mean(roc_auc_score_list)}')"
      ],
      "execution_count": 28,
      "outputs": [
        {
          "output_type": "stream",
          "text": [
            "Mean roc_auc_score Logistic Regression : 0.9025579294512568\n",
            "Mean roc_auc_score Random Forest : 0.9381395395025548\n",
            "Mean roc_auc_score GradientBoostingClassifier : 0.9236615114273177\n"
          ],
          "name": "stdout"
        },
        {
          "output_type": "display_data",
          "data": {
            "image/png": "[encoded data removed]",
            "text/plain": [
              "<Figure size 432x288 with 1 Axes>"
            ]
          },
          "metadata": {
            "tags": [],
            "needs_background": "light"
          }
        }
      ]
    },
    {
      "cell_type": "code",
      "metadata": {
        "id": "HzzY-7ku-JDj"
      },
      "source": [
        "\n",
        "X_train,X_test,y_train,y_test = train_test_split(X,y,test_size=0.20,random_state=42)"
      ],
      "execution_count": 29,
      "outputs": []
    },
    {
      "cell_type": "code",
      "metadata": {
        "colab": {
          "base_uri": "https://localhost:8080/"
        },
        "id": "lkjMeUsW4xGy",
        "outputId": "11a86686-833c-4129-e45f-68ea6d160bf4"
      },
      "source": [
        "clf1 = DecisionTreeClassifier(criterion = 'entropy',random_state =0)\n",
        "clf1.fit(X_train,y_train)\n",
        "\n",
        "train_pred = clf1.predict(X_train)\n",
        "test_pred = clf1.predict(X_test)\n",
        "\n",
        "print(f\"Train accuracy: {accuracy_score(y_train, train_pred)*100:.3f}%\")\n",
        "print(f\"Test accuracy: {accuracy_score(y_test, test_pred)*100:.3f}%\")\n",
        "#overfitting of the data for decision tree"
      ],
      "execution_count": 30,
      "outputs": [
        {
          "output_type": "stream",
          "text": [
            "Train accuracy: 100.000%\n",
            "Test accuracy: 80.193%\n"
          ],
          "name": "stdout"
        }
      ]
    },
    {
      "cell_type": "code",
      "metadata": {
        "colab": {
          "base_uri": "https://localhost:8080/"
        },
        "id": "TsHoOXaE2Hyv",
        "outputId": "2d453813-a402-4fd7-c8a2-e9abc3df8755"
      },
      "source": [
        "clf = RandomForestClassifier(n_estimators = 1000,max_depth = 5,criterion ='entropy',random_state = 0)\n",
        "clf.fit(X_train,y_train)\n",
        "#accuracy scoring\n",
        "train_pred = clf.predict(X_train)\n",
        "test_pred = clf.predict(X_test)\n",
        "\n",
        "print(f\"Train accuracy: {accuracy_score(y_train, train_pred)*100:.3f}%\")\n",
        "print(f\"Test accuracy: {accuracy_score(y_test, test_pred)*100:.3f}%\")"
      ],
      "execution_count": 31,
      "outputs": [
        {
          "output_type": "stream",
          "text": [
            "Train accuracy: 85.933%\n",
            "Test accuracy: 84.702%\n"
          ],
          "name": "stdout"
        }
      ]
    },
    {
      "cell_type": "code",
      "metadata": {
        "colab": {
          "base_uri": "https://localhost:8080/"
        },
        "id": "tueE55dH44sn",
        "outputId": "999a5f5e-fff5-4533-f2d3-62e3c4b7e939"
      },
      "source": [
        "clf3 = GradientBoostingClassifier()\n",
        "clf3.fit(X_train,y_train)\n",
        "\n",
        "train_pred = clf3.predict(X_train)\n",
        "test_pred = clf3.predict(X_test)\n",
        "\n",
        "print(f\"Train accuracy: {accuracy_score(y_train, train_pred)*100:.3f}%\")\n",
        "print(f\"Test accuracy: {accuracy_score(y_test, test_pred)*100:.3f}%\")\n",
        "#comparatively good testing accuracy, so performing hyperparameter tuning."
      ],
      "execution_count": 32,
      "outputs": [
        {
          "output_type": "stream",
          "text": [
            "Train accuracy: 88.029%\n",
            "Test accuracy: 84.380%\n"
          ],
          "name": "stdout"
        }
      ]
    },
    {
      "cell_type": "code",
      "metadata": {
        "id": "UZWadiPw5R2j"
      },
      "source": [
        "params = { \n",
        "    'n_estimators': [500,700,800,900,1000],\n",
        "    'max_features': ['auto', 'sqrt', 'log2'],\n",
        "    'max_depth' : [4,5,6,7,8,9,10],\n",
        "    'criterion' :['gini', 'entropy']\n",
        "}"
      ],
      "execution_count": 34,
      "outputs": []
    },
    {
      "cell_type": "code",
      "metadata": {
        "colab": {
          "background_save": true
        },
        "id": "UdAe6r0r5qvx"
      },
      "source": [
        "from sklearn.model_selection import GridSearchCV\n",
        "model = GridSearchCV(clf, params, cv=10, n_jobs=-1)\n",
        "model.fit(X_train, y_train)"
      ],
      "execution_count": null,
      "outputs": []
    },
    {
      "cell_type": "code",
      "metadata": {
        "colab": {
          "base_uri": "https://localhost:8080/",
          "height": 162
        },
        "id": "ZGSK091W5x7r",
        "outputId": "42306a37-1c60-4791-afdb-822511a87e59"
      },
      "source": [
        "model.best_params_"
      ],
      "execution_count": 1,
      "outputs": [
        {
          "output_type": "error",
          "ename": "NameError",
          "evalue": "ignored",
          "traceback": [
            "\u001b[0;31m---------------------------------------------------------------------------\u001b[0m",
            "\u001b[0;31mNameError\u001b[0m                                 Traceback (most recent call last)",
            "\u001b[0;32m<ipython-input-1-073db7f65773>\u001b[0m in \u001b[0;36m<module>\u001b[0;34m()\u001b[0m\n\u001b[0;32m----> 1\u001b[0;31m \u001b[0mmodel\u001b[0m\u001b[0;34m.\u001b[0m\u001b[0mbest_params_\u001b[0m\u001b[0;34m\u001b[0m\u001b[0;34m\u001b[0m\u001b[0m\n\u001b[0m",
            "\u001b[0;31mNameError\u001b[0m: name 'model' is not defined"
          ]
        }
      ]
    },
    {
      "cell_type": "code",
      "metadata": {
        "colab": {
          "base_uri": "https://localhost:8080/"
        },
        "id": "SawOhtWrBBjF",
        "outputId": "f98a1c42-eb35-4142-b49e-d38f047e4917"
      },
      "source": [
        "clf = RandomForestClassifier(n_estimators = 500,max_depth = 8,criterion ='gini',max_features=8,random_state = 42)\n",
        "clf.fit(X_train,y_train)\n",
        "#accuracy scoring\n",
        "train_pred = clf.predict(X_train)\n",
        "test_pred = clf.predict(X_test)\n",
        "\n",
        "print(f\"Train accuracy: {accuracy_score(y_train, train_pred)*100:.3f}%\")\n",
        "print(f\"Test accuracy: {accuracy_score(y_test, test_pred)*100:.3f}%\")"
      ],
      "execution_count": null,
      "outputs": [
        {
          "output_type": "stream",
          "text": [
            "Train accuracy: 91.778%\n",
            "Test accuracy: 84.058%\n"
          ],
          "name": "stdout"
        }
      ]
    },
    {
      "cell_type": "code",
      "metadata": {
        "id": "iXP63iwoBRob"
      },
      "source": [
        "parameters = {\n",
        "    \"loss\":[\"deviance\"],\n",
        "    \"learning_rate\": [0.01, 0.025, 0.05, 0.075, 0.1, 0.15, 0.2],\n",
        "    \"min_samples_split\": np.linspace(0.1, 0.5, 12),\n",
        "    \"min_samples_leaf\": np.linspace(0.1, 0.5, 12),\n",
        "    \"max_depth\":[3,5,8],\n",
        "    \"max_features\":[\"log2\",\"sqrt\"],\n",
        "    \"criterion\": [\"friedman_mse\",  \"mae\"],\n",
        "    \"subsample\":[0.5, 0.618, 0.8, 0.85, 0.9, 0.95, 1.0],\n",
        "    \"n_estimators\":[10]\n",
        "    }"
      ],
      "execution_count": null,
      "outputs": []
    },
    {
      "cell_type": "code",
      "metadata": {
        "id": "SfJe2YjVB19A"
      },
      "source": [
        "gb_model = GridSearchCV(clf3, parameters, cv=10, n_jobs=-1)\n",
        "gb_model.fit(X_train, y_train)"
      ],
      "execution_count": null,
      "outputs": []
    }
  ]
}