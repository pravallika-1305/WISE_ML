{
  "nbformat": 4,
  "nbformat_minor": 0,
  "metadata": {
    "colab": {
      "name": "IntroductiontoPandas1.ipynb",
      "private_outputs": true,
      "provenance": [],
      "toc_visible": true,
      "include_colab_link": true
    },
    "kernelspec": {
      "name": "python3",
      "display_name": "Python 3"
    },
    "accelerator": "GPU"
  },
  "cells": [
    {
      "cell_type": "markdown",
      "metadata": {
        "id": "view-in-github",
        "colab_type": "text"
      },
      "source": [
        "<a href=\"https://colab.research.google.com/github/pravallika-1305/WISE_ML/blob/main/IntroductiontoPandas1.ipynb\" target=\"_parent\"><img src=\"https://colab.research.google.com/assets/colab-badge.svg\" alt=\"Open In Colab\"/></a>"
      ]
    },
    {
      "cell_type": "markdown",
      "metadata": {
        "id": "RMLXx6bXlaW_"
      },
      "source": [
        "# Objectives\n",
        "\n",
        "At the end of the experiment you will be able to \n",
        "\n",
        "* Understand importance of Pandas\n",
        "* Perform data cleaning, manipulation using Pandas"
      ]
    },
    {
      "cell_type": "markdown",
      "metadata": {
        "id": "RjICDMPsbwpy"
      },
      "source": [
        "## Features of Pandas\n",
        "\n",
        "* Fast and efficient DataFrame object with default and customized indexing.\n",
        "* Tools for loading data into in-memory data objects from different file formats.\n",
        "* Data alignment and integrated handling of missing data.\n",
        "* Reshaping and pivoting of date sets.\n",
        "* Label-based slicing, indexing and subsetting of large data sets.\n",
        "* Columns from a data structure can be deleted or inserted.\n",
        "* Group by data for aggregation and transformations.\n",
        "* High performance merging and joining of data.\n",
        "* Time Series functionality.\n",
        "\n",
        "Now it is time to work on practicals. Following Are the given Exercise:\n",
        "\n",
        "\n"
      ]
    },
    {
      "cell_type": "markdown",
      "metadata": {
        "id": "KYXAtZ4al2AP"
      },
      "source": [
        "### Excercise 1: How to import pandas and check the version?"
      ]
    },
    {
      "cell_type": "code",
      "metadata": {
        "id": "7RDqknbwl7x_"
      },
      "source": [
        "# Your Code Here\r\n",
        "import pandas as pd\r\n",
        "import numpy as np"
      ],
      "execution_count": null,
      "outputs": []
    },
    {
      "cell_type": "markdown",
      "metadata": {
        "id": "uv5M2Nx1bwp5"
      },
      "source": [
        "### Excercise 2: Create a Series from Dictionary."
      ]
    },
    {
      "cell_type": "code",
      "metadata": {
        "id": "zdUZtU_fbwqC"
      },
      "source": [
        "# Your Code Here\r\n",
        "dictionary = {'a' : 1, 'b' : 2, 'c' : 3} \r\n",
        "series = pd.Series(dictionary)"
      ],
      "execution_count": null,
      "outputs": []
    },
    {
      "cell_type": "markdown",
      "metadata": {
        "id": "3UyGy_YbbwqT"
      },
      "source": [
        "### Exercise 3: Create a DataFrame from Lists ; coloumns heading should be 'Name', 'Age'."
      ]
    },
    {
      "cell_type": "code",
      "metadata": {
        "id": "VLB-s818bwqY"
      },
      "source": [
        "# Your Code Here\r\n",
        "data = [['me', 19], ['sahithi', 21], ['mamatha', 20]]  \r\n",
        "df = pd.DataFrame(data, columns = ['Name', 'Age']) "
      ],
      "execution_count": null,
      "outputs": []
    },
    {
      "cell_type": "markdown",
      "metadata": {
        "id": "8gormGGPbwqj"
      },
      "source": [
        "### Exercise 4: Create a DataFrame from List of Dictionaries."
      ]
    },
    {
      "cell_type": "code",
      "metadata": {
        "id": "xS2xTZnlbwqm"
      },
      "source": [
        "# Your Code Here\r\n",
        "data = [{'c': 'printf', 'c++': 'cout', 'python': 'print'}, \r\n",
        "        {'c':'fast', 'c++': 'OOPS', 'python': 'multiparadigm'}]  \r\n",
        "df = pd.DataFrame(data)  "
      ],
      "execution_count": null,
      "outputs": []
    },
    {
      "cell_type": "markdown",
      "metadata": {
        "id": "UncsmSyLbws1"
      },
      "source": [
        "### Exercise 5: frame a dataset using following data"
      ]
    },
    {
      "cell_type": "code",
      "metadata": {
        "id": "2tvTQhXObws5"
      },
      "source": [
        "ipl_data = {'Team': ['Riders', 'Riders', 'Devils', 'Devils', 'Kings',\n",
        "'kings', 'Kings', 'Kings', 'Riders', 'Royals', 'Royals', 'Riders'],\n",
        "'Rank': [1, 2, 2, 3, 3,4 ,1 ,1,2 , 4,1,2],\n",
        "'Year': [2014,2015,2014,2015,2014,2015,2016,2017,2016,2014,2015,2017],\n",
        "'Points':[876,789,863,673,741,812,756,788,694,701,804,690]}"
      ],
      "execution_count": null,
      "outputs": []
    },
    {
      "cell_type": "code",
      "metadata": {
        "id": "4plT_YZ3mqCW"
      },
      "source": [
        "# Your Code Here\r\n",
        "df = pd.DataFrame(ipl_data)"
      ],
      "execution_count": null,
      "outputs": []
    },
    {
      "cell_type": "markdown",
      "metadata": {
        "id": "SXnhjImzbwtC"
      },
      "source": [
        "### Exercise 6: In Ipl_data group the data by year"
      ]
    },
    {
      "cell_type": "code",
      "metadata": {
        "id": "_T5a2b4jbwtF"
      },
      "source": [
        "# Your Code Here\r\n",
        "print(df.groupby('Year'))"
      ],
      "execution_count": null,
      "outputs": []
    },
    {
      "cell_type": "markdown",
      "metadata": {
        "id": "3xQktTsHbwtX"
      },
      "source": [
        "### Exercise 7: In Ipl_data group the data by Team and year"
      ]
    },
    {
      "cell_type": "code",
      "metadata": {
        "id": "sFjaGQaKbwtY"
      },
      "source": [
        "# Your Code Here\r\n",
        "df.groupby(['Team','Year'])"
      ],
      "execution_count": null,
      "outputs": []
    },
    {
      "cell_type": "markdown",
      "metadata": {
        "id": "U4q_6xsnbwth"
      },
      "source": [
        "### Exercise 8: Iterating through Groups using year"
      ]
    },
    {
      "cell_type": "code",
      "metadata": {
        "id": "HxoAYBhfbwtk"
      },
      "source": [
        "# Your Code Here\r\n",
        "print(df.groupby('Year').groups)\r\n",
        "grouped = df.groupby('Year')\r\n",
        "\r\n",
        "for year,data in grouped:\r\n",
        "  print(year)\r\n",
        "  print(data)\r\n"
      ],
      "execution_count": null,
      "outputs": []
    },
    {
      "cell_type": "markdown",
      "metadata": {
        "id": "OHwzd9Mwbwt0"
      },
      "source": [
        "### Exercise 9: Group the data and get only 2014 year"
      ]
    },
    {
      "cell_type": "code",
      "metadata": {
        "id": "NCbKf6tDbwt7"
      },
      "source": [
        "# Your Code Here\r\n",
        "print(df.groupby('Year').get_group(2014))"
      ],
      "execution_count": null,
      "outputs": []
    },
    {
      "cell_type": "markdown",
      "metadata": {
        "id": "NqgXqS-AbwuC"
      },
      "source": [
        "### Exercise 10: In points do the mean using .agg i.e aggregate"
      ]
    },
    {
      "cell_type": "code",
      "metadata": {
        "id": "CO3DN2febwuM"
      },
      "source": [
        "# Your Code Here\r\n",
        "df['Points'].agg({'mean'})"
      ],
      "execution_count": null,
      "outputs": []
    },
    {
      "cell_type": "markdown",
      "metadata": {
        "id": "59ZMHuNqbwua"
      },
      "source": [
        "### Exercise 11: Find size of dataset using **.agg** based on team"
      ]
    },
    {
      "cell_type": "code",
      "metadata": {
        "id": "YPuFzKdJbwuj"
      },
      "source": [
        "# Your Code Here\r\n",
        "grouped = df.groupby('Team')\r\n",
        "print(grouped.agg(np.size))"
      ],
      "execution_count": null,
      "outputs": []
    },
    {
      "cell_type": "markdown",
      "metadata": {
        "id": "8U5NWns6bwvD"
      },
      "source": [
        "### Exercise 12: Create two Dataframes name it as 'left' and other 'right' using following data"
      ]
    },
    {
      "cell_type": "code",
      "metadata": {
        "id": "b0aGt0t9nEsI"
      },
      "source": [
        "# Your Code Here\r\n",
        "left = pd.DataFrame({'id':[1,2,3,4,5],\r\n",
        "'Name': ['Alex', 'Amy', 'Allen', 'Alice', 'Ayoung'],\r\n",
        "'subject_id':['sub1','sub2','sub4','sub6','sub5'],\r\n",
        "'Marks_scored':[98,90,87,69,78]})\r\n",
        "right = pd.DataFrame({'id':[1,2,3,4,5],\r\n",
        "'Name': ['Billy', 'Brian', 'Bran', 'Bryce', 'Betty'],\r\n",
        "'subject_id':['sub2','sub4','sub3','sub6','sub5'],\r\n",
        "'Marks_scored':[89,80,79,97,88]})\r\n"
      ],
      "execution_count": null,
      "outputs": []
    },
    {
      "cell_type": "markdown",
      "metadata": {
        "id": "43E3vj0CbwvZ"
      },
      "source": [
        "### Exercise 13: Merge the left and right based on 'id'"
      ]
    },
    {
      "cell_type": "code",
      "metadata": {
        "id": "K7hXk9usbwvc"
      },
      "source": [
        "# Your Code Here\r\n",
        "left.merge(right,on=\"id\")"
      ],
      "execution_count": null,
      "outputs": []
    },
    {
      "cell_type": "markdown",
      "metadata": {
        "id": "8WxFdWACbwvf"
      },
      "source": [
        "### Exercise 14: Merge the left and right based on 'id' and 'subject_id'"
      ]
    },
    {
      "cell_type": "code",
      "metadata": {
        "id": "QHw6p0nwbwvh"
      },
      "source": [
        "# Your Code Here\r\n",
        "left.merge(right,on=[\"id\",\"subject_id\"])"
      ],
      "execution_count": null,
      "outputs": []
    },
    {
      "cell_type": "markdown",
      "metadata": {
        "id": "or4g7TZ0bwvl"
      },
      "source": [
        "### Exercise 15: Merge the left and right based on 'subject_id' ,left join"
      ]
    },
    {
      "cell_type": "code",
      "metadata": {
        "id": "tttLFvIHbwvm"
      },
      "source": [
        "# Your Code Here\r\n",
        "left.merge(right,on=[\"subject_id\"],how=\"left\")"
      ],
      "execution_count": null,
      "outputs": []
    },
    {
      "cell_type": "markdown",
      "metadata": {
        "id": "62Sc6Kobbwvq"
      },
      "source": [
        "### Exercise 16: Merge the left and right based on 'subject_id' ,right join"
      ]
    },
    {
      "cell_type": "code",
      "metadata": {
        "id": "V9qCcjepbwvs"
      },
      "source": [
        "# Your Code Here\r\n",
        "left.merge(right,on=[\"subject_id\"],how=\"right\")"
      ],
      "execution_count": null,
      "outputs": []
    },
    {
      "cell_type": "markdown",
      "metadata": {
        "id": "gp82DptPbwvv"
      },
      "source": [
        "### Exercise 17: Merge the left and right based on 'subject_id' ,outter join"
      ]
    },
    {
      "cell_type": "code",
      "metadata": {
        "id": "LJ0U0rckbwvx"
      },
      "source": [
        "# Your Code Here\r\n",
        "left.merge(right,on=[\"subject_id\"],how=\"outer\")"
      ],
      "execution_count": null,
      "outputs": []
    },
    {
      "cell_type": "markdown",
      "metadata": {
        "id": "iR_XxuUcbwv1"
      },
      "source": [
        "### Exercise 18: Merge the left and right based on 'subject_id' ,inner join"
      ]
    },
    {
      "cell_type": "code",
      "metadata": {
        "id": "bmeJHglRbwv3"
      },
      "source": [
        "# Your Code Here\r\n",
        "left.merge(right,on=[\"subject_id\"],how=\"inner\")"
      ],
      "execution_count": null,
      "outputs": []
    },
    {
      "cell_type": "markdown",
      "metadata": {
        "id": "qXo3gMuubwv-"
      },
      "source": [
        "### Exercise 19: Concatinate two dataframes using following data and the index should not repeat"
      ]
    },
    {
      "cell_type": "code",
      "metadata": {
        "id": "BNcZ2uxkbwwC"
      },
      "source": [
        "# Your Code Here\n",
        "pd.concat([left,right]).reset_index(drop=True)"
      ],
      "execution_count": null,
      "outputs": []
    },
    {
      "cell_type": "code",
      "metadata": {
        "id": "HyJ0xeJlyHdw"
      },
      "source": [
        "from google.colab import drive\r\n",
        "drive.mount('/content/drive')"
      ],
      "execution_count": null,
      "outputs": []
    },
    {
      "cell_type": "markdown",
      "metadata": {
        "id": "8DBxa4rDbwwJ"
      },
      "source": [
        "### Exercise 20: Change the header names of given data using .read_csv"
      ]
    },
    {
      "cell_type": "code",
      "metadata": {
        "id": "IlEBO-M2bwwN"
      },
      "source": [
        "# Your Code Here\r\n",
        "columns=['Sno','Score_GRE','ScoreTOEFL','Rating','SOP','LOR','CGPA','iResearch','Admission_Probability']\r\n",
        "pd.read_csv(\"drive/MyDrive/Data/Admission_Predict.csv\",names=columns)"
      ],
      "execution_count": null,
      "outputs": []
    },
    {
      "cell_type": "code",
      "metadata": {
        "id": "cy5iRxhNwVIx"
      },
      "source": [
        ""
      ],
      "execution_count": null,
      "outputs": []
    },
    {
      "cell_type": "code",
      "metadata": {
        "id": "2m57hlB8wxV6"
      },
      "source": [
        ""
      ],
      "execution_count": null,
      "outputs": []
    }
  ]
}